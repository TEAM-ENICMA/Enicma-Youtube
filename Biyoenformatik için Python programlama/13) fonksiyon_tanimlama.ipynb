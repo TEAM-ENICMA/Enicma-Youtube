{
  "metadata": {
    "language_info": {
      "codemirror_mode": {
        "name": "python",
        "version": 3
      },
      "file_extension": ".py",
      "mimetype": "text/x-python",
      "name": "python",
      "nbconvert_exporter": "python",
      "pygments_lexer": "ipython3",
      "version": "3.8"
    },
    "kernelspec": {
      "name": "python",
      "display_name": "Python (Pyodide)",
      "language": "python"
    }
  },
  "nbformat_minor": 4,
  "nbformat": 4,
  "cells": [
    {
      "cell_type": "markdown",
      "source": "### 7) Fonksiyon Tanımlama (def)\n\nPython'da fonksiyon oluşturmanın temel mantığı, matematikteki fonksiyonlar konusuna dayanmaktadır. Matematikte fonksiyonun tanımı, \"bağımsız bir değişken ile buna bağlı başka bir değişken arasındaki ilişkinin ifadesi veya kuralı\" olarak geçmektedir(1). Programlamada fonksiyonların temel kullanım amacı, belirli bir kod bloğuna birden fazla yerde ihtiyaç duyulması halinde aynı bloğu tekrar yazmamak, bunun yerine bir fonksiyon çatısı altında toplayarak gerekli yerlerde çağırmaktır.\n\nBasitçe özetlemek gerekirse, bir fonksiyon;\n    \n    a) İçerisine girdi(input) olarak bir değişken alır,\n    \n    b) Değişkene bağlı olarak bazı işlemler(processes) yapar,\n    \n    c) İşlemler sonucu oluşan çıktıyı(output) sonuç olarak geri döndürür.\n    \nBir örnek vermek gerekirse(2);\n\n\"f\" isminde bir fonksiyonumuz ve \"x\" isminde <font color = \"red\">yalnızca sayısal değere sahip olabilen</font> bir değişkenimiz olsun. \"f\" fonksiyonu \"x\" değişkenini girdi olarak alan ve \"3\" sabit sayısı ile toplayan bir göreve sahip olsun. Bu ifadenin matematiksel ifadesi şu şekilde olacaktır;\n\nf(x) = x + 3\n\nBu durumda, \"x\" değişkeni 2 sayısına eşit olduğunda fonksiyon 5, 8 sayısına eşit olduğunda fonksiyon 11 sonucunu döndürecektir.\n\nf(2) = 2 + 3 = 5\n\nf(8) = 8 + 3 = 11\n\nYukarıdaki ifadenin python gösterimi şu şekilde olacaktır;\n\ndef f(x):\n\n    return x + 3\n    \nPython gösterimini açıklamak gerekirse, \"def\" ifadesi İngilizce'deki \"define\" kelimesinin kısaltmasına yani Türkçe'de \"tanımla\" kelimesine karşılık gelmektedir. \"return\" ise \"döndür\" demektir. İfadeyi cümle haline getirecek olursak, \"x değişkeni alan f isminde bir fonksiyon tanımla ve x + 3 olarak döndür\" şeklinde çevrilebilir.\n\n1) Function, Britannica Ansiklopedisi. Erişim Adresi: https://www.britannica.com/science/function-mathematics\n2) Introduction to functions, MathCentre. Erişim Adresi: https://www.mathcentre.ac.uk/resources/uploaded/mc-ty-introfns-2009-1.pdf",
      "metadata": {}
    },
    {
      "cell_type": "code",
      "source": "#Bir fonksiyon tanımlanırken, içerisinde return olan başka bir fonksiyon çalıştırıyorsa \"return\" eklemeye gerek yoktur.\n\ndef karakter_dizisi_bas():\n    print(\"Merhaba Dünya\")\n    \nkarakter_dizisi_bas()",
      "metadata": {
        "trusted": true
      },
      "execution_count": 3,
      "outputs": [
        {
          "name": "stdout",
          "text": "Merhaba Dünya\n",
          "output_type": "stream"
        }
      ]
    },
    {
      "cell_type": "code",
      "source": "def giris_mesaji(kulanıcı_adı):\n    print(\"Merhaba\", kullanıcı_adı)\n    \nkullanıcı_adı = \"Ahmet\"\ngiris_mesaji(kullanıcı_adı)",
      "metadata": {
        "trusted": true
      },
      "execution_count": 5,
      "outputs": [
        {
          "name": "stdout",
          "text": "Merhaba Ahmet\n",
          "output_type": "stream"
        }
      ]
    },
    {
      "cell_type": "code",
      "source": "def f(x):\n    return x + 3\n\nsonuc = f(2)\nprint(sonuc)",
      "metadata": {
        "trusted": true
      },
      "execution_count": 11,
      "outputs": [
        {
          "name": "stdout",
          "text": "5\n",
          "output_type": "stream"
        }
      ]
    },
    {
      "cell_type": "markdown",
      "source": "Bir fonksiyon birden fazla değişken alabilir (Örnek; f(x, y)) ve birden fazla sonucu döndürebilir.",
      "metadata": {}
    },
    {
      "cell_type": "code",
      "source": "def islemler(sayı1, sayı2):\n    toplam = sayı1 + sayı2\n    fark = sayı1 - sayı2\n    return toplam, fark\n\nsayı1 = 5\nsayı2 = 3\n\ntoplam, fark = islemler(sayı1, sayı2)\n\nprint(\"Toplam:\", toplam)\nprint(\"Fark:\", fark)",
      "metadata": {
        "trusted": true
      },
      "execution_count": 12,
      "outputs": [
        {
          "name": "stdout",
          "text": "Toplam: 8\nFark: 2\n",
          "output_type": "stream"
        }
      ]
    },
    {
      "cell_type": "markdown",
      "source": "Daha önce bahsedilen \"pass\" ifadesi fonksiyonlar için de geçerlidir.",
      "metadata": {}
    },
    {
      "cell_type": "code",
      "source": "def fonksiyon():\n    pass\n\nfonksiyon()",
      "metadata": {
        "trusted": true
      },
      "execution_count": 13,
      "outputs": []
    },
    {
      "cell_type": "code",
      "source": "# Hesap makinesi\n\ndef hesap_makinesi(islem, sayı1, sayı2):\n    if islem == \"toplama\":\n        return sayı1 + sayı2\n    elif islem == \"çıkarma\":\n        return sayı1 - sayı2\n    elif islem == \"çarpma\":\n        return sayı1 * sayı2\n    elif islem == \"bölme\":\n        return sayı1 / sayı2\n    else:\n        return \"Böyle bir işlem bulunmamaktadır.\"\n    \nsayı1 = 8\nsayı2 = 4\nislem = \"toplama\"\n\nsonuc = hesap_makinesi(islem, sayı1, sayı2)\nprint(sonuc)    ",
      "metadata": {
        "trusted": true
      },
      "execution_count": 22,
      "outputs": [
        {
          "name": "stdout",
          "text": "12\n",
          "output_type": "stream"
        }
      ]
    },
    {
      "cell_type": "markdown",
      "source": "MENDEL KALITIMI\n\nMendel kalıtımının temel prensipleri [Gregor Johann Mendel](https://en.wikipedia.org/wiki/Gregor_Mendel) tarafından belirlenmiştir. Mendel prensiplerine göre, \"allel\" adı verilen genetik özellikler ebeveynlerden (biri anneden ve biri babadan) kalıtılır(1). Bu özellikler <font color = red>baskın</font> ve <font color = red>çekinik</font> olabilirler. Eğer, ebeveynlerin birinden baskın, diğerinden çekinik özellik alınırsa, birey çekinik özelliği de taşımasına rağmen baskın özelliğin etkilerini dışarıya gösterecektir. Örnek vermek gerekirse;\n\nKahverengi göz rengi özelliği baskın, mavi göz rengi özelliği çekiniktir(2). Annede yalnızca kahverengi göz renginin özelliklerinin olduğu (kk), babada ise yalnızca mavi göz rengi özelliklerinin olduğu (mm) varsayılsın. Dünyaya gelecek yavrunun hangi göz rengine sahip olacağı olasılığı şu şekilde hesaplanır;\n\nanne: k(1)k(2), baba: m(1)m(2)\n\nolasılıklar: k(1)m(1), k(1)m(2), k(2)m(1), k(2)m(2) \n\n- Annedeki göz rengi özelliklerinden 1.'si ile babadaki göz rengi özelliklerinden 1.'si alınabilir.\n- Annedeki göz rengi özelliklerinden 1.'si ile babadaki göz rengi özelliklerinden 2.'si alınabilir.\n- Annedeki göz rengi özelliklerinden 2.'si ile babadaki göz rengi özelliklerinden 1.'si alınabilir.\n- Annedeki göz rengi özelliklerinden 2.'si ile babadaki göz rengi özelliklerinden 2.'si alınabilir.\n\nBöylelikle yavrunun 4 kombinasyonda da birer kahverengi ve mavi özelliği aldığını görüyoruz. Kahverengi baskın olduğundan, 4 olasılıktan hangisi olursa olsun yavru kahverengi göz rengine sahip olacaktır. Yani kahverengi olma olasılığı %100'dür.\n\nBu noktada şu unutulmamalıdır; Mendel kalıtımı modern genetiğin gelişmesine çok büyük katkılar sağlamış olmasına rağmen, günümüzde bir özelliğin birden fazla gen tarafından kontrol edilebildiğini biliyoruz. Yani modern genetiğe ve yeni keşiflere göre mavi gözlü bir anne ve babanın kahverengi gözlü bir çocuğa sahip olma ihtimali vardır(3).\n\nKan gruplarını genetik bir özellik olarak değerlendirip, mendel kalıtımı ile çözümlendirebiliriz. Toplamda 4 çeşit kan grubu (A, B, AB ve O) bulunmaktadır(4). Bu kan gruplarından A ve B birbirine eşit baskınlık gösterirken O'a göre baskındır, yani O grubu çekinik özelliktedir. Bu bilgiler doğrultusunda, ebeveynlerinin kan grubu bilinen bir bireyin kan grubunun ne olacağının olasılıkları hesaplamalı yöntemlerle belirlenebilir.\n\n1) Mendelian inheritance, Wikipedia. Erişim Adresi: https://en.wikipedia.org/wiki/Mendelian_inheritance\n2) What colour are your eyes? Teaching the genetics of eye colour & colour vision, Eye. Erişim Adresi: https://www.nature.com/articles/s41433-021-01749-x\n3) Mavi Gözlü Anne-Babaların Nasıl Kahverengi Gözlü Çocukları Olabilir?, Evrim Ağacı. Erişim Adresi: https://evrimagaci.org/mavi-gozlu-annebabalarin-nasil-kahverengi-gozlu-cocuklari-olabilir-345\n4) Blood Groups, National Healt Service. Erişim Adresi: https://www.nhs.uk/conditions/blood-groups/",
      "metadata": {}
    },
    {
      "cell_type": "code",
      "source": "def kan_grubu_olasılıkları(anne, baba):\n    \n    olasılıklar = []\n    \n    for annenin_kan_grubu_özelliği in anne:\n        for babanın_kan_grubu_özelliği in baba:\n            olasılıklar.append(annenin_kan_grubu_özelliği + babanın_kan_grubu_özelliği)\n            \n    return olasılıklar\n\n\nanne = \"AA\"\nbaba = \"BB\"\n\nolasılıklar = kan_grubu_olasılıkları(anne, baba)\n\nfor olasılık in olasılıklar:\n    print(olasılık)",
      "metadata": {
        "trusted": true
      },
      "execution_count": 29,
      "outputs": [
        {
          "name": "stdout",
          "text": "AB\nAB\nAB\nAB\n",
          "output_type": "stream"
        }
      ]
    },
    {
      "cell_type": "code",
      "source": "",
      "metadata": {},
      "execution_count": null,
      "outputs": []
    },
    {
      "cell_type": "code",
      "source": "",
      "metadata": {},
      "execution_count": null,
      "outputs": []
    },
    {
      "cell_type": "code",
      "source": "",
      "metadata": {},
      "execution_count": null,
      "outputs": []
    },
    {
      "cell_type": "code",
      "source": "",
      "metadata": {},
      "execution_count": null,
      "outputs": []
    },
    {
      "cell_type": "code",
      "source": "",
      "metadata": {},
      "execution_count": null,
      "outputs": []
    },
    {
      "cell_type": "code",
      "source": "",
      "metadata": {},
      "execution_count": null,
      "outputs": []
    }
  ]
}