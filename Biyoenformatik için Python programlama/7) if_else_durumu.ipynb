{
  "metadata": {
    "language_info": {
      "codemirror_mode": {
        "name": "python",
        "version": 3
      },
      "file_extension": ".py",
      "mimetype": "text/x-python",
      "name": "python",
      "nbconvert_exporter": "python",
      "pygments_lexer": "ipython3",
      "version": "3.8"
    },
    "kernelspec": {
      "name": "python",
      "display_name": "Python (Pyodide)",
      "language": "python"
    }
  },
  "nbformat_minor": 4,
  "nbformat": 4,
  "cells": [
    {
      "cell_type": "markdown",
      "source": "#### 4.3) \"if - else\" Durumu\n\n\"if - else\" ifadesini Türkçe'ye \"eğer - değilse\" şeklinde çevirebiliriz. \"if\" durumunda yalnızca bir koşul sağlandığında yapılmasını istediğimiz komutları çalıştırabiliyoruz, fakat koşulun sağlanmadığı durumlara müdahale etmiyoruz. Örneğin; \"yağmur yağıyor ise şemsiye al\" şeklinde öneride bulunabiliyoruz. Peki yağmur yağmaması durumunda bir öneri varsa, örneğin; \"yağmur yağmıyor ise şemsiye alma\", bunun için ne yapılması gerekir?\n\nİşte \"else\" kavramı bu noktada devreye giriyor. Koşulların sağlanmadığı durumlarda yapılması gereken tüm komutlar, \"else\" altında oluşturulan bir kod bloğunun içerisine yazılabilir. \"if - else\" durumunu Python'da şu şekilde gösterebiliriz:\n\nif koşul == True:\n\n    birinci kod\n    \n    ikinci kod\n\nelse:\n\n    üçüncü kod",
      "metadata": {}
    },
    {
      "cell_type": "code",
      "source": "hava_durumu = \"yağmurlu\"\n\nif hava_durumu == \"yağmurlu\":\n    print(\"şemsiye al\")\nelse:\n    print(\"şemsiye alma\")\n    \nprint(\"programı bitir\")",
      "metadata": {
        "trusted": true
      },
      "execution_count": 3,
      "outputs": [
        {
          "name": "stdout",
          "text": "şemsiye al\nprogramı bitir\n",
          "output_type": "stream"
        }
      ]
    },
    {
      "cell_type": "code",
      "source": "hava_durumu = \"güneşli\"\n\nif hava_durumu == \"yağmurlu\":\n    print(\"şemsiye al\")\nelse:\n    print(\"şemsiye alma\")\n    \nprint(\"programı bitir\")",
      "metadata": {
        "trusted": true
      },
      "execution_count": 4,
      "outputs": [
        {
          "name": "stdout",
          "text": "şemsiye alma\nprogramı bitir\n",
          "output_type": "stream"
        }
      ]
    },
    {
      "cell_type": "code",
      "source": "hava_durumu = \"yağmurlu\"\nşemsiye_durumu = \"kırılmış\"\n\nif hava_durumu == \"yağmurlu\":\n    if şemsiye_durumu == \"kırılmış\":\n        print(\"bere giy\")\n    else:\n        print(\"şemsiye al\")\nelse:\n    print(\"şemsiye ya da bere alma\")\n    \nprint(\"programı bitir\")",
      "metadata": {
        "trusted": true
      },
      "execution_count": 9,
      "outputs": [
        {
          "name": "stdout",
          "text": "bere giy\nprogramı bitir\n",
          "output_type": "stream"
        }
      ]
    },
    {
      "cell_type": "markdown",
      "source": "\"pass\" ifadesi, henüz oluşturulmamış bir kod bloğunun yerine yazılarak programın hata almadan çalışabilmesi amacıyla kullanılmaktadır. Şunu unutmamak gerekir; tamamlanmış bir programda \"pass\" ifadesi yer almamalıdır, bu ifade yalnızca daha sonra tamamlanmak istenen kod bloklarının yerine geçici olarak yerleştirilen bir ifadedir.",
      "metadata": {}
    },
    {
      "cell_type": "code",
      "source": "x = 5\n\nif x == 3:\n    print(\"x'in değeri 3'tür.\")\nelse:\n    pass\n    \nprint(\"programı bitir\")",
      "metadata": {
        "trusted": true
      },
      "execution_count": 12,
      "outputs": [
        {
          "name": "stdout",
          "text": "programı bitir\n",
          "output_type": "stream"
        }
      ]
    },
    {
      "cell_type": "code",
      "source": "",
      "metadata": {},
      "execution_count": null,
      "outputs": []
    }
  ]
}