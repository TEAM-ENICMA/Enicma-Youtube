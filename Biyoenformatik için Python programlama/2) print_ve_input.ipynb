{
  "metadata": {
    "language_info": {
      "codemirror_mode": {
        "name": "python",
        "version": 3
      },
      "file_extension": ".py",
      "mimetype": "text/x-python",
      "name": "python",
      "nbconvert_exporter": "python",
      "pygments_lexer": "ipython3",
      "version": "3.8"
    },
    "kernelspec": {
      "name": "python",
      "display_name": "Python (Pyodide)",
      "language": "python"
    }
  },
  "nbformat_minor": 4,
  "nbformat": 4,
  "cells": [
    {
      "cell_type": "markdown",
      "source": "### 2) Print ve Input Fonksiyonları\n\nPrint fonksiyonu, içerisine parametre olarak girilen değerin/değerlerin ekrana yazılmasını sağlayan bir fonksiyondur.",
      "metadata": {}
    },
    {
      "cell_type": "code",
      "source": "print(\"Merhaba\")",
      "metadata": {
        "trusted": true
      },
      "execution_count": 1,
      "outputs": [
        {
          "name": "stdout",
          "text": "Merhaba\n",
          "output_type": "stream"
        }
      ]
    },
    {
      "cell_type": "code",
      "source": "print(\"Merhaba\", \"Dünya\")",
      "metadata": {
        "trusted": true
      },
      "execution_count": 2,
      "outputs": [
        {
          "name": "stdout",
          "text": "Merhaba Dünya\n",
          "output_type": "stream"
        }
      ]
    },
    {
      "cell_type": "markdown",
      "source": "Print fonksiyonunun içerisine direkt bir değer girilmesi gerekmez. Bir değişkene değer atanıp, bu değişkenin parametre olarak girilmesi sağlanabilir.",
      "metadata": {}
    },
    {
      "cell_type": "code",
      "source": "x = \"Dünya\"\nprint(\"Merhaba\", x)",
      "metadata": {
        "trusted": true
      },
      "execution_count": 3,
      "outputs": [
        {
          "name": "stdout",
          "text": "Merhaba Dünya\n",
          "output_type": "stream"
        }
      ]
    },
    {
      "cell_type": "markdown",
      "source": "Print fonksiyonu aldığı değerleri otomatik olarak boşluk ile ayırır. Virgül veya tire gibi farklı bir ayırıcı kullanarak değerleri ayırmak için print fonksiyonuna bunu belirtmek gerekir;",
      "metadata": {}
    },
    {
      "cell_type": "code",
      "source": "print(\"Merhaba\", \"Dünya\", sep = \",\")",
      "metadata": {
        "trusted": true
      },
      "execution_count": 4,
      "outputs": [
        {
          "name": "stdout",
          "text": "Merhaba,Dünya\n",
          "output_type": "stream"
        }
      ]
    },
    {
      "cell_type": "code",
      "source": "print(\"Merhaba\", \"Dünya\", sep = \"-\")",
      "metadata": {
        "trusted": true
      },
      "execution_count": 5,
      "outputs": [
        {
          "name": "stdout",
          "text": "Merhaba-Dünya\n",
          "output_type": "stream"
        }
      ]
    },
    {
      "cell_type": "markdown",
      "source": "Print fonksiyonu içerisinde başka fonksiyonlar da çalıştırılabilir. Örneğin, karakter dizileri(stringler) için özelleştirilmiş format fonksiyonu, print fonksiyonu içerisinde en yaygın kullanılan fonksiyonlardan biridir.\n\nFormat fonksiyonu, bir string içerisinde dinamik olarak değişmesi gereken bir değerin kolayca değiştirilebilmesi için kullanılır. Bunun için sürekli değişiklik gösterilecek değer yerine boş bir küme parantezi '{}' yerleştirilir. Karakter dizisinin bitirme tırnağı kapatıldıktan '.format()' ifadesi yerleştirilir ve parantez içerisine o an istenen değer girilir.\n\nÖrnek; A ve B isminde iki para birimi olsun. A para biriminin değeri sabitken B para biriminin değerinin sürekli güncellenmesi gereksin. Bu durumda yazılması gereken ifade şu şekilde olur:\n\n>\"1 birim A'nın değeri {} birim B'ye eşittir\".format(\"3\")\n\nYukarıdaki ifadenin çıktısı şu şekilde olacaktır:\n\n>1 birim A'nın değeri 3 birim B'ye eşittir\n\nKısa bir süre sonra, B para biriminin değeri değişsin. Bu durumda format fonksiyonu kullanıldığından yapılması gereken tek şey parametre olarak girilen değeri değiştirmek olacaktır. Böyle bir durumda güncellenen ifade şu olur:\n\n>\"1 birim A'nın değeri {} birim B'ye eşittir\".format(\"5\")\n\nYukarıdaki ifadenin çıktısı şu şekilde olacaktır:\n\n>1 birim A'nın değeri 5 birim B'ye eşittir",
      "metadata": {}
    },
    {
      "cell_type": "code",
      "source": "print(\"Merhaba {}\".format(\"Dünya\"))",
      "metadata": {
        "trusted": true
      },
      "execution_count": 6,
      "outputs": [
        {
          "name": "stdout",
          "text": "Merhaba Dünya\n",
          "output_type": "stream"
        }
      ]
    },
    {
      "cell_type": "code",
      "source": "a = \"bir\"\nb = \"Python\"\nc = \"projesidir.\"\n\nprint(\"Bu {} {} {}\".format(a, b, c))",
      "metadata": {
        "trusted": true
      },
      "execution_count": 9,
      "outputs": [
        {
          "name": "stdout",
          "text": "Bu bir Python projesidir.\n",
          "output_type": "stream"
        }
      ]
    },
    {
      "cell_type": "markdown",
      "source": "Input fonksiyonu, yazılımı kullanan kişiden klavye aracılığıyla değer(bilgi) alınmasını sağlayan bir fonksiyondur.",
      "metadata": {}
    },
    {
      "cell_type": "code",
      "source": "input()",
      "metadata": {
        "trusted": true
      },
      "execution_count": 10,
      "outputs": [
        {
          "execution_count": 10,
          "output_type": "execute_result",
          "data": {
            "text/plain": "<Future pending>"
          },
          "metadata": {}
        },
        {
          "output_type": "stream",
          "name": "stdin",
          "text": " 1\n"
        }
      ]
    },
    {
      "cell_type": "code",
      "source": "input()",
      "metadata": {
        "trusted": true
      },
      "execution_count": 11,
      "outputs": [
        {
          "execution_count": 11,
          "output_type": "execute_result",
          "data": {
            "text/plain": "<Future pending>"
          },
          "metadata": {}
        },
        {
          "output_type": "stream",
          "name": "stdin",
          "text": " a\n"
        }
      ]
    },
    {
      "cell_type": "markdown",
      "source": "Input fonksiyonu içerisine kullanıcıdan ne tür bir bilgi istendiğine dair ipucu olması açısından bir mesaj girilebilir.",
      "metadata": {}
    },
    {
      "cell_type": "code",
      "source": "input(\"Lütfen bir sayı girin: \")",
      "metadata": {
        "trusted": true
      },
      "execution_count": 12,
      "outputs": [
        {
          "execution_count": 12,
          "output_type": "execute_result",
          "data": {
            "text/plain": "<Future pending>"
          },
          "metadata": {}
        },
        {
          "output_type": "stream",
          "name": "stdin",
          "text": "Lütfen bir sayı girin:  5\n"
        }
      ]
    },
    {
      "cell_type": "markdown",
      "source": "Input fonksiyonu kullanıcıdan alınan her değeri otomatik olarak karakter dizisi(string) olarak tanımlar. Yani tamsayı veya ondalıklı sayı bile girilse, bu değerleri birer harf gibi görecektir. Bunun için kullanıcıdan istenen değeri, ilgili veri tipine dönüştürmek gerekir. Veri tipi dönüştürmek için kullanılan fonksiyonların int, str ve float olduğundan daha önce bahsedilmişti.\n\nBu noktada yapılması gereken işlem input fonksiyonunu, istenilen veri tipi dönüştürme fonksiyonunun içine yerleştirmektir:\n\nGirdi(Input):\n>sayı = int(input(\"Lütfen bir sayı girin: \"))\n\n>print(sayı)\n\nÇıktı(Output):\n>Lütfen bir sayı girin: 5\n\n>5\n\n-----------------------------------------------------\n\nGirdi(Input):\n>karakter = str(input(\"Lütfen bir karakter girin: \"))\n\n>print(karakter)\n\nÇıktı(Output):\n>Lütfen bir karakter girin: A\n\n>A\n\n-----------------------------------------------------\n\nGirdi(Input):\n>ondalıklı = float(input(\"Lütfen ondalıklı bir sayı girin: \"))\n\n>print(ondalıklı)\n\nÇıktı(Output):\n>Lütfen ondalıklı bir sayı girin: 0.2\n\n>0.2",
      "metadata": {}
    },
    {
      "cell_type": "markdown",
      "source": "Kullanıcıdan istenen değer, boş bir değişkene atanabilir. Bunun için değişkeni bir değere eşitlemek yerine, bir input fonksiyonuna eşitlemek yeterli olacaktır. Böylece standart bir değişken ve kullanıcıdan alınan değer ile işlemler yapılabilir.\n\nGirdi(Input):\n>x = 5\n\n>y = int(input(\"Lütfen bir sayı girin:\"))\n\n>print(x * y)\n\nÇıktı(Output):\n>Lütfen bir sayı girin: 4\n\n>20",
      "metadata": {}
    },
    {
      "cell_type": "code",
      "source": "",
      "metadata": {},
      "execution_count": null,
      "outputs": []
    }
  ]
}