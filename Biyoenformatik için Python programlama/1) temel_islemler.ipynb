{
  "metadata": {
    "language_info": {
      "codemirror_mode": {
        "name": "python",
        "version": 3
      },
      "file_extension": ".py",
      "mimetype": "text/x-python",
      "name": "python",
      "nbconvert_exporter": "python",
      "pygments_lexer": "ipython3",
      "version": "3.8"
    },
    "kernelspec": {
      "name": "python",
      "display_name": "Python (Pyodide)",
      "language": "python"
    }
  },
  "nbformat_minor": 4,
  "nbformat": 4,
  "cells": [
    {
      "cell_type": "markdown",
      "source": "### 1) Temel İşlemler\n\nPython, basit bir hesap makinesinin yapabileceği tüm matematiksel işlemleri yapabilen bir araçtır.\n\nPython'da temel matematik işlemlerinin sembolik gösterimleri şu şekildedir:\n* toplama -----> +\n* çıkarma -----> -\n* çarpma ------> *\n* bölme -------> /",
      "metadata": {}
    },
    {
      "cell_type": "code",
      "source": "3 + 2 ",
      "metadata": {
        "trusted": true
      },
      "execution_count": 2,
      "outputs": [
        {
          "execution_count": 2,
          "output_type": "execute_result",
          "data": {
            "text/plain": "5"
          },
          "metadata": {}
        }
      ]
    },
    {
      "cell_type": "code",
      "source": "71 - 289",
      "metadata": {
        "trusted": true
      },
      "execution_count": 3,
      "outputs": [
        {
          "execution_count": 3,
          "output_type": "execute_result",
          "data": {
            "text/plain": "-218"
          },
          "metadata": {}
        }
      ]
    },
    {
      "cell_type": "code",
      "source": "5 * 5",
      "metadata": {
        "trusted": true
      },
      "execution_count": 4,
      "outputs": [
        {
          "execution_count": 4,
          "output_type": "execute_result",
          "data": {
            "text/plain": "25"
          },
          "metadata": {}
        }
      ]
    },
    {
      "cell_type": "code",
      "source": "10 / 2",
      "metadata": {
        "trusted": true
      },
      "execution_count": 5,
      "outputs": [
        {
          "execution_count": 5,
          "output_type": "execute_result",
          "data": {
            "text/plain": "5.0"
          },
          "metadata": {}
        }
      ]
    },
    {
      "cell_type": "markdown",
      "source": "Python'da üs almak için çarpma operatörü iki kez arka arkaya yazılır ------> **",
      "metadata": {}
    },
    {
      "cell_type": "code",
      "source": "3 ** 3",
      "metadata": {
        "trusted": true
      },
      "execution_count": 6,
      "outputs": [
        {
          "execution_count": 6,
          "output_type": "execute_result",
          "data": {
            "text/plain": "27"
          },
          "metadata": {}
        }
      ]
    },
    {
      "cell_type": "markdown",
      "source": "Matematikte kullanılan işlem önceliği kuralları Python'da da geçerlidir:\n* Önce parantez içerisindeki işlemler yapılır.\n* Eğer varsa çarpma ve bölme işlemleri önce yapılır.\n* En son toplama ve çıkarma işlemleri yapılır.",
      "metadata": {}
    },
    {
      "cell_type": "code",
      "source": "(7 - 4) * 5 + 5",
      "metadata": {
        "trusted": true
      },
      "execution_count": 7,
      "outputs": [
        {
          "execution_count": 7,
          "output_type": "execute_result",
          "data": {
            "text/plain": "20"
          },
          "metadata": {}
        }
      ]
    },
    {
      "cell_type": "code",
      "source": "(8 * 2) / (8 * 2)",
      "metadata": {
        "trusted": true
      },
      "execution_count": 8,
      "outputs": [
        {
          "execution_count": 8,
          "output_type": "execute_result",
          "data": {
            "text/plain": "1.0"
          },
          "metadata": {}
        }
      ]
    },
    {
      "cell_type": "markdown",
      "source": "İşlem yapılan değerlerin tamamı tam sayı ise (sonuç ondalıklı çıkmadığı sürece), sonuç tam sayı olarak döner. (Bölme işlemi hariç)\n\nİşlem yapılan değerlerden en az bir tanesi ondalıklı sayı ise, sonuç her zaman ondalıklı sayı olarak döner.\n\nİşlem yapılan değerlerin tamamı ondalıklı sayı ise, sonuç her zaman ondalıklı sayı olarak döner.",
      "metadata": {}
    },
    {
      "cell_type": "code",
      "source": "1 + 7 + 3",
      "metadata": {
        "trusted": true
      },
      "execution_count": 9,
      "outputs": [
        {
          "execution_count": 9,
          "output_type": "execute_result",
          "data": {
            "text/plain": "11"
          },
          "metadata": {}
        }
      ]
    },
    {
      "cell_type": "code",
      "source": "10 / 3",
      "metadata": {
        "trusted": true
      },
      "execution_count": 10,
      "outputs": [
        {
          "execution_count": 10,
          "output_type": "execute_result",
          "data": {
            "text/plain": "3.3333333333333335"
          },
          "metadata": {}
        }
      ]
    },
    {
      "cell_type": "code",
      "source": "8 + 2 + 5.0",
      "metadata": {
        "trusted": true
      },
      "execution_count": 11,
      "outputs": [
        {
          "execution_count": 11,
          "output_type": "execute_result",
          "data": {
            "text/plain": "15.0"
          },
          "metadata": {}
        }
      ]
    },
    {
      "cell_type": "code",
      "source": "0.3 + 0.4",
      "metadata": {
        "trusted": true
      },
      "execution_count": 12,
      "outputs": [
        {
          "execution_count": 12,
          "output_type": "execute_result",
          "data": {
            "text/plain": "0.7"
          },
          "metadata": {}
        }
      ]
    },
    {
      "cell_type": "markdown",
      "source": "Python'da yorum satırı oluşturmak için # sembolü kullanılır. Bu sembolün başladığı satırın arkasına yazılan ifadelerin tamamı, Python tarafından görmezden gelinir.\n\nTek bir satır ile değil uzun bir metin ile yorum bırakılmak isteniyorsa, üç tane tırnak işareti \"\"\" arka arkaya yazılarak yorum bloğu oluşturulur. Yorum metni bitirildikten sonra tekrar üç tane tırnak işareti bırakılarak blok kapatılır. ",
      "metadata": {}
    },
    {
      "cell_type": "code",
      "source": "#Bu bir yorum satırıdır\n#Bu bir yorum satırıdır\n#Bu bir yorum satırıdır",
      "metadata": {
        "trusted": true
      },
      "execution_count": 15,
      "outputs": []
    },
    {
      "cell_type": "code",
      "source": "\"\"\"\nBu bölüme geliştirici yorum bırakabilir.\n\nDaha sonra yapılacak işlemler burada açıklanacak\n\nKeyif için buraya yazdım\n\"\"\"",
      "metadata": {
        "trusted": true
      },
      "execution_count": 14,
      "outputs": [
        {
          "execution_count": 14,
          "output_type": "execute_result",
          "data": {
            "text/plain": "'\\nBu bölüme geliştirici yorum bırakabilir.\\n\\nDaha sonra yapılacak işlemler burada açıklanacak\\n\\nKeyif için buraya yazdım\\n'"
          },
          "metadata": {}
        }
      ]
    },
    {
      "cell_type": "markdown",
      "source": "Python'a harfler veya karakterlerden oluşan değerlerin verilebilmesi için bu değerlerin tek veya çift tırnak işareti ile gösterilmesi gerekir.\n\nÖrneğin, \"Python\" veya 'Python' gibi.\n\nTırnak işareti kullanılmadan yazıldığında hata verecektir. Çünkü tırnak işareti olmayan yazılar bir fonksiyon veya operatör olarak algılanabilir. Fonksiyon ve operatörleri, değer olarak girilen yazı ve karakterlerden ayırmanın Python'daki kuralı tırnak işareti kullanmaktır.",
      "metadata": {}
    },
    {
      "cell_type": "code",
      "source": "Merhaba",
      "metadata": {
        "trusted": true
      },
      "execution_count": 16,
      "outputs": [
        {
          "ename": "<class 'NameError'>",
          "evalue": "name 'Merhaba' is not defined",
          "traceback": [
            "\u001b[0;31m---------------------------------------------------------------------------\u001b[0m",
            "\u001b[0;31mNameError\u001b[0m                                 Traceback (most recent call last)",
            "Cell \u001b[0;32mIn [16], line 1\u001b[0m\n\u001b[0;32m----> 1\u001b[0m \u001b[43mMerhaba\u001b[49m\n",
            "\u001b[0;31mNameError\u001b[0m: name 'Merhaba' is not defined"
          ],
          "output_type": "error"
        }
      ]
    },
    {
      "cell_type": "code",
      "source": "\"Merhaba\"",
      "metadata": {
        "trusted": true
      },
      "execution_count": 17,
      "outputs": [
        {
          "execution_count": 17,
          "output_type": "execute_result",
          "data": {
            "text/plain": "'Merhaba'"
          },
          "metadata": {}
        }
      ]
    },
    {
      "cell_type": "code",
      "source": "\"Merhaba?.,!\"",
      "metadata": {
        "trusted": true
      },
      "execution_count": 18,
      "outputs": [
        {
          "execution_count": 18,
          "output_type": "execute_result",
          "data": {
            "text/plain": "'Merhaba?.,!'"
          },
          "metadata": {}
        }
      ]
    },
    {
      "cell_type": "code",
      "source": "'\"Merhaba\"'",
      "metadata": {
        "trusted": true
      },
      "execution_count": 19,
      "outputs": [
        {
          "execution_count": 19,
          "output_type": "execute_result",
          "data": {
            "text/plain": "'\"Merhaba\"'"
          },
          "metadata": {}
        }
      ]
    },
    {
      "cell_type": "markdown",
      "source": "Python'da çeşitli karakter dizilerini(stringleri) birleştirmek için + işareti kullanılır. Sayılardaki toplama işlemi gibidir. Her bir toplama işlemi yeni diziyi bir öncekinin sonuna ekler.",
      "metadata": {}
    },
    {
      "cell_type": "code",
      "source": "\"Merhaba\" + \"Dünya\"",
      "metadata": {
        "trusted": true
      },
      "execution_count": 20,
      "outputs": [
        {
          "execution_count": 20,
          "output_type": "execute_result",
          "data": {
            "text/plain": "'MerhabaDünya'"
          },
          "metadata": {}
        }
      ]
    },
    {
      "cell_type": "code",
      "source": "\"Merhaba\" + \" \" + \"Dünya\"",
      "metadata": {
        "trusted": true
      },
      "execution_count": 21,
      "outputs": [
        {
          "execution_count": 21,
          "output_type": "execute_result",
          "data": {
            "text/plain": "'Merhaba Dünya'"
          },
          "metadata": {}
        }
      ]
    },
    {
      "cell_type": "markdown",
      "source": "Python'da en sık kullanılan veri tipleri:\n* Tamsayılar (Integers)\n* Ondalıklı Sayılar (Floats)\n* Karakter Dizileri (Strings)\n\nPython'a 5 sayısını tırnak içerisinde \"5\" olarak girersek, bu ifadeyi bir karakter yani string olarak algılayacaktır. Eğer bu ifadeyle matematiksel işlem yapmayı denersek başarısız oluruz. Bu durumda \"5\" ifadesini, 5 sayısına çevirmemiz gerekir.\n\nBu nedenle str(), int() ve float() fonksiyonları bulunmaktadır.\n\n* str() fonksiyonu, parametre olarak girilen değeri karakter dizisine çevirir.\n* int() fonksiyonu, parametre olarak girilen değeri tamsayıya çevirir.\n* float() fonksiyonu, parametre olarak girilen değeri ondalıklı sayıya çevirir.",
      "metadata": {}
    },
    {
      "cell_type": "code",
      "source": "int(5)",
      "metadata": {
        "trusted": true
      },
      "execution_count": 22,
      "outputs": [
        {
          "execution_count": 22,
          "output_type": "execute_result",
          "data": {
            "text/plain": "5"
          },
          "metadata": {}
        }
      ]
    },
    {
      "cell_type": "code",
      "source": "str(5)",
      "metadata": {
        "trusted": true
      },
      "execution_count": 23,
      "outputs": [
        {
          "execution_count": 23,
          "output_type": "execute_result",
          "data": {
            "text/plain": "'5'"
          },
          "metadata": {}
        }
      ]
    },
    {
      "cell_type": "code",
      "source": "float(5)",
      "metadata": {
        "trusted": true
      },
      "execution_count": 24,
      "outputs": [
        {
          "execution_count": 24,
          "output_type": "execute_result",
          "data": {
            "text/plain": "5.0"
          },
          "metadata": {}
        }
      ]
    },
    {
      "cell_type": "code",
      "source": "str(5) + int(5)",
      "metadata": {
        "trusted": true
      },
      "execution_count": 25,
      "outputs": [
        {
          "ename": "<class 'TypeError'>",
          "evalue": "can only concatenate str (not \"int\") to str",
          "traceback": [
            "\u001b[0;31m---------------------------------------------------------------------------\u001b[0m",
            "\u001b[0;31mTypeError\u001b[0m                                 Traceback (most recent call last)",
            "Cell \u001b[0;32mIn [25], line 1\u001b[0m\n\u001b[0;32m----> 1\u001b[0m \u001b[38;5;28;43mstr\u001b[39;49m\u001b[43m(\u001b[49m\u001b[38;5;241;43m5\u001b[39;49m\u001b[43m)\u001b[49m\u001b[43m \u001b[49m\u001b[38;5;241;43m+\u001b[39;49m\u001b[43m \u001b[49m\u001b[38;5;28;43mint\u001b[39;49m\u001b[43m(\u001b[49m\u001b[38;5;241;43m5\u001b[39;49m\u001b[43m)\u001b[49m\n",
            "\u001b[0;31mTypeError\u001b[0m: can only concatenate str (not \"int\") to str"
          ],
          "output_type": "error"
        }
      ]
    },
    {
      "cell_type": "markdown",
      "source": "Bu noktada dikkat edilmesi gereken bir durum vardır. Fonksiyonların çevrim işlemi yapabilmesi için değerlerin dönüştürmeye uygun olması gerekir. Örneğin, 'Python' isimli bir dizi, sayısal bir değere sahip olmadığından tamsayıya veya ondalıklı sayıya çevrilemez.",
      "metadata": {}
    },
    {
      "cell_type": "code",
      "source": "str(\"Merhaba Dünya\")",
      "metadata": {
        "trusted": true
      },
      "execution_count": 26,
      "outputs": [
        {
          "execution_count": 26,
          "output_type": "execute_result",
          "data": {
            "text/plain": "'Merhaba Dünya'"
          },
          "metadata": {}
        }
      ]
    },
    {
      "cell_type": "code",
      "source": "int(\"Merhaba Dünya\")",
      "metadata": {
        "trusted": true
      },
      "execution_count": 27,
      "outputs": [
        {
          "ename": "<class 'ValueError'>",
          "evalue": "invalid literal for int() with base 10: 'Merhaba Dünya'",
          "traceback": [
            "\u001b[0;31m---------------------------------------------------------------------------\u001b[0m",
            "\u001b[0;31mValueError\u001b[0m                                Traceback (most recent call last)",
            "Cell \u001b[0;32mIn [27], line 1\u001b[0m\n\u001b[0;32m----> 1\u001b[0m \u001b[38;5;28;43mint\u001b[39;49m\u001b[43m(\u001b[49m\u001b[38;5;124;43m\"\u001b[39;49m\u001b[38;5;124;43mMerhaba Dünya\u001b[39;49m\u001b[38;5;124;43m\"\u001b[39;49m\u001b[43m)\u001b[49m\n",
            "\u001b[0;31mValueError\u001b[0m: invalid literal for int() with base 10: 'Merhaba Dünya'"
          ],
          "output_type": "error"
        }
      ]
    },
    {
      "cell_type": "markdown",
      "source": "Bazen matematiksel işlemleri gerçekleştirirken, çok fazla sayıda değeri aynı işleme tabi tutmak zorunda kalabiliriz. Örneğin, 2, 3, 4, 7, 11, 19 sayılarının her birinin, bir diğeri ile toplamının hesaplandığı bir programa ihtiyaç olduğu varsayılsın. Bunun için 2 + 3, 2 + 4, 2 + 7, ..., 11 + 19 şeklinde her bir işlemi teker teker yazmak hem geliştiriciyi yoracak hem de kod kalabalığına sebep olacaktır.\n\nDiğer probleme benzer şekilde, bir matematiksel işlemin aynı programda farklı sayılarla tekrar edilmesi gerekebilir. Örneğin, yazdığımız programda 20 farklı satırda, toplama işlemi gerçekleşiyor olsun. Programda kullanılacak sayıların değişmesi durumunda, tek tek ilgili 20 satırı aramak ve sayıları değiştirmek yine oldukça yorucu bir süreç oluşmasına sebep olabilir.\n\nBu ve bunun gibi yüzlerce sorunu ortadan kaldırmak ve karmaşıklığı azaltmak için veri tipleri, değişkenlere atanır.\n\nDeğişken, en basit tanımıyla bir veri tipinin değerini taşıyan ve gerektiğinde başka bir değerle değiştirilebilen boş bir kutudur. Değişken isimleri geliştirici tarafından belirlenir. Bir sayıyı tutması için belirlenilen değişkene 'x' ismi verilebildiği gibi 'masa' ismi de verilebilir.\n\n5 sayısı x ismindeki değişkene verilecekse ----------> x = 5\n\n12 sayısı masa ismindeki değişkene verilecekse ------> masa = 12",
      "metadata": {}
    },
    {
      "cell_type": "code",
      "source": "x = 15\nx",
      "metadata": {
        "trusted": true
      },
      "execution_count": 30,
      "outputs": [
        {
          "execution_count": 30,
          "output_type": "execute_result",
          "data": {
            "text/plain": "15"
          },
          "metadata": {}
        }
      ]
    },
    {
      "cell_type": "code",
      "source": "y = 20\ny",
      "metadata": {
        "trusted": true
      },
      "execution_count": 31,
      "outputs": [
        {
          "execution_count": 31,
          "output_type": "execute_result",
          "data": {
            "text/plain": "20"
          },
          "metadata": {}
        }
      ]
    },
    {
      "cell_type": "code",
      "source": "x + y",
      "metadata": {
        "trusted": true
      },
      "execution_count": 32,
      "outputs": [
        {
          "execution_count": 32,
          "output_type": "execute_result",
          "data": {
            "text/plain": "35"
          },
          "metadata": {}
        }
      ]
    },
    {
      "cell_type": "code",
      "source": "x * y",
      "metadata": {
        "trusted": true
      },
      "execution_count": 33,
      "outputs": [
        {
          "execution_count": 33,
          "output_type": "execute_result",
          "data": {
            "text/plain": "300"
          },
          "metadata": {}
        }
      ]
    },
    {
      "cell_type": "code",
      "source": "masa = \"masa\"\nmasa",
      "metadata": {
        "trusted": true
      },
      "execution_count": 34,
      "outputs": [
        {
          "execution_count": 34,
          "output_type": "execute_result",
          "data": {
            "text/plain": "'masa'"
          },
          "metadata": {}
        }
      ]
    },
    {
      "cell_type": "code",
      "source": "",
      "metadata": {},
      "execution_count": null,
      "outputs": []
    }
  ]
}