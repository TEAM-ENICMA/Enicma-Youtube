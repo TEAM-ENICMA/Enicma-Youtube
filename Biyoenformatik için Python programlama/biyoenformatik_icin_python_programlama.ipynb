{
  "metadata": {
    "language_info": {
      "codemirror_mode": {
        "name": "python",
        "version": 3
      },
      "file_extension": ".py",
      "mimetype": "text/x-python",
      "name": "python",
      "nbconvert_exporter": "python",
      "pygments_lexer": "ipython3",
      "version": "3.8"
    },
    "kernelspec": {
      "name": "python",
      "display_name": "Python (Pyodide)",
      "language": "python"
    }
  },
  "nbformat_minor": 4,
  "nbformat": 4,
  "cells": [
    {
      "cell_type": "markdown",
      "source": "# Biyoenformatik için Python Programlama\n### 1) Temel İşlemler\n     1.1) Temel Matematik İşlemleri\n     1.2) Harfler ve Karakterler\n     1.3) Str, Int ve Float Fonksiyonları\n     1.4) Değişken Belirleme ve Değer Atama\n### 2) Print ve Input Fonksiyonları\n     2.1) Print Fonksiyonu\n     2.2) Input Fonksiyonu\n### 3) Listeler ve Sözlükler\n     3.1) Listeler\n     3.2) Sözlükler\n### 4) Koşul Durumları (if, elif, else)\n     4.1) Boolean Veri Tipi\n     4.2) \"if\" Durumu\n     4.3) \"if - else\" Durumu\n     4.4) \"if - elif - else\" Durumu\n### 5) Döngüler (while, for)\n     5.1) \"while\" Döngüsü\n     5.2) \"for\" Döngüsü\n### 6) Hata Ayıklama (try-except)\n     6.1) Hata Çıkarma (try-except-finally)\n     6.2) İstisna Oluşturma (raise an exception)\n### 7) Fonksiyon Tanımlama (def)\n### 8) Range ve Lambda Fonksiyonları\n     8.1) Range Fonksiyonu\n     8.2) Lambda Fonksiyonu\n### ------------------------------------------\n\n    ",
      "metadata": {}
    },
    {
      "cell_type": "markdown",
      "source": "### 1) Temel İşlemler\n     1.1) Temel Matematik İşlemleri\n     \nPython, basit bir hesap makinesinin yapabileceği tüm matematiksel işlemleri yapabilen bir araçtır.\n\nPython'da temel matematik işlemlerinin sembolik gösterimleri şu şekildedir:\n* toplama -----> +\n* çıkarma -----> -\n* çarpma ------> *\n* bölme -------> /\n",
      "metadata": {}
    },
    {
      "cell_type": "code",
      "source": "3 + 2",
      "metadata": {
        "trusted": true
      },
      "execution_count": 1,
      "outputs": [
        {
          "execution_count": 1,
          "output_type": "execute_result",
          "data": {
            "text/plain": "5"
          },
          "metadata": {}
        }
      ]
    },
    {
      "cell_type": "code",
      "source": "71 - 289",
      "metadata": {
        "trusted": true
      },
      "execution_count": 2,
      "outputs": [
        {
          "execution_count": 2,
          "output_type": "execute_result",
          "data": {
            "text/plain": "-218"
          },
          "metadata": {}
        }
      ]
    },
    {
      "cell_type": "code",
      "source": "5 * 5",
      "metadata": {
        "trusted": true
      },
      "execution_count": 3,
      "outputs": [
        {
          "execution_count": 3,
          "output_type": "execute_result",
          "data": {
            "text/plain": "25"
          },
          "metadata": {}
        }
      ]
    },
    {
      "cell_type": "code",
      "source": "10 / 2",
      "metadata": {
        "trusted": true
      },
      "execution_count": 4,
      "outputs": [
        {
          "execution_count": 4,
          "output_type": "execute_result",
          "data": {
            "text/plain": "5.0"
          },
          "metadata": {}
        }
      ]
    },
    {
      "cell_type": "markdown",
      "source": "Python'da üs almak için çarpma operatörü iki kez arka arkaya yazılır ------> **",
      "metadata": {}
    },
    {
      "cell_type": "code",
      "source": "3 ** 3",
      "metadata": {
        "trusted": true
      },
      "execution_count": 5,
      "outputs": [
        {
          "execution_count": 5,
          "output_type": "execute_result",
          "data": {
            "text/plain": "27"
          },
          "metadata": {}
        }
      ]
    },
    {
      "cell_type": "markdown",
      "source": "Matematikte kullanılan işlem önceliği kuralları Python'da da geçerlidir:\n* Önce parantez içerisindeki işlemler yapılır.\n* Eğer varsa çarpma ve bölme işlemleri önce yapılır.\n* En son toplama ve çıkarma işlemleri yapılır.",
      "metadata": {}
    },
    {
      "cell_type": "code",
      "source": "(7 - 4) * 5 + 5",
      "metadata": {
        "trusted": true
      },
      "execution_count": 6,
      "outputs": [
        {
          "execution_count": 6,
          "output_type": "execute_result",
          "data": {
            "text/plain": "20"
          },
          "metadata": {}
        }
      ]
    },
    {
      "cell_type": "code",
      "source": "(8 * 2) / (8 * 2)",
      "metadata": {
        "trusted": true
      },
      "execution_count": 7,
      "outputs": [
        {
          "execution_count": 7,
          "output_type": "execute_result",
          "data": {
            "text/plain": "1.0"
          },
          "metadata": {}
        }
      ]
    },
    {
      "cell_type": "markdown",
      "source": "İşlem yapılan değerlerin tamamı tam sayı ise (sonuç ondalıklı çıkmadığı sürece), sonuç tam sayı olarak döner.\n\nİşlem yapılan değerlerden en az bir tanesi ondalıklı sayı ise, sonuç her zaman ondalıklı sayı olarak döner.\n\nİşlem yapılan değerlerin tamamı ondalıklı sayı ise, sonuç her zaman ondalıklı sayı olarak döner.",
      "metadata": {}
    },
    {
      "cell_type": "code",
      "source": "1 + 7 + 3",
      "metadata": {
        "trusted": true
      },
      "execution_count": 8,
      "outputs": [
        {
          "execution_count": 8,
          "output_type": "execute_result",
          "data": {
            "text/plain": "11"
          },
          "metadata": {}
        }
      ]
    },
    {
      "cell_type": "code",
      "source": "10 / 3",
      "metadata": {
        "trusted": true
      },
      "execution_count": 9,
      "outputs": [
        {
          "execution_count": 9,
          "output_type": "execute_result",
          "data": {
            "text/plain": "3.3333333333333335"
          },
          "metadata": {}
        }
      ]
    },
    {
      "cell_type": "code",
      "source": "8 + 2 + 5.0",
      "metadata": {
        "trusted": true
      },
      "execution_count": 10,
      "outputs": [
        {
          "execution_count": 10,
          "output_type": "execute_result",
          "data": {
            "text/plain": "15.0"
          },
          "metadata": {}
        }
      ]
    },
    {
      "cell_type": "code",
      "source": "0.3 + 0.4",
      "metadata": {
        "trusted": true
      },
      "execution_count": 11,
      "outputs": [
        {
          "execution_count": 11,
          "output_type": "execute_result",
          "data": {
            "text/plain": "0.7"
          },
          "metadata": {}
        }
      ]
    },
    {
      "cell_type": "markdown",
      "source": "#### 1.2) Harfler ve Karakterler\n\nPython'da yorum satırı oluşturmak için # sembolü kullanılır. Bu sembolün başladığı satırın arkasına yazılan ifadelerin tamamı, Python tarafından görmezden gelinir.\n\nTek bir satır ile değil uzun bir metin ile yorum bırakılmak isteniyorsa, üç tane tırnak işareti \"\"\" arka arkaya yazılarak yorum bloğu oluşturulur. Yorum metni bitirildikten sonra tekrar üç tane tırnak işareti bırakılarak blok kapatılır. ",
      "metadata": {}
    },
    {
      "cell_type": "code",
      "source": "# Bu bir yorum satırıdır.",
      "metadata": {
        "trusted": true
      },
      "execution_count": 12,
      "outputs": []
    },
    {
      "cell_type": "code",
      "source": "\"\"\"\nBu bölüme, geliştirici yorumlarını bırakabilir.\n\nDaha sonra yazılacak kodlarla ilgili bilgiler buraya yazılabilir.\n\nVeya başka bir geliştirici için not bırakılabilir.\n\nYa da sadece eğlencesine bu kısımlar doldurulabilir.\n\"\"\"",
      "metadata": {
        "trusted": true
      },
      "execution_count": 13,
      "outputs": [
        {
          "execution_count": 13,
          "output_type": "execute_result",
          "data": {
            "text/plain": "'\\nBu bölüme, geliştirici yorumlarını bırakabilir.\\n\\nDaha sonra yazılacak kodlarla ilgili bilgiler buraya yazılabilir.\\n\\nVeya başka bir geliştirici için not bırakılabilir.\\n\\nYa da sadece eğlencesine bu kısımlar doldurulabilir.\\n'"
          },
          "metadata": {}
        }
      ]
    },
    {
      "cell_type": "markdown",
      "source": "Python'a harfler veya karakterlerden oluşan değerlerin verilebilmesi için bu değerlerin tek veya çift tırnak işareti ile gösterilmesi gerekir.\n\nÖrneğin, \"Python\" veya 'Python' gibi.\n\nTırnak işareti kullanılmadan yazıldığında hata verecektir. Çünkü tırnak işareti olmayan yazılar bir fonksiyon veya operatör olarak algılanabilir. Fonksiyon ve operatörleri, değer olarak girilen yazı ve karakterlerden ayırmanın Python'daki kuralı tırnak işareti kullanmaktır. ",
      "metadata": {}
    },
    {
      "cell_type": "code",
      "source": "Merhaba",
      "metadata": {
        "trusted": true
      },
      "execution_count": 14,
      "outputs": [
        {
          "ename": "<class 'NameError'>",
          "evalue": "name 'Merhaba' is not defined",
          "traceback": [
            "\u001b[0;31m---------------------------------------------------------------------------\u001b[0m",
            "\u001b[0;31mNameError\u001b[0m                                 Traceback (most recent call last)",
            "Cell \u001b[0;32mIn[14], line 1\u001b[0m\n\u001b[0;32m----> 1\u001b[0m \u001b[43mMerhaba\u001b[49m\n",
            "\u001b[0;31mNameError\u001b[0m: name 'Merhaba' is not defined"
          ],
          "output_type": "error"
        }
      ]
    },
    {
      "cell_type": "code",
      "source": "\"Merhaba\"",
      "metadata": {
        "trusted": true
      },
      "execution_count": 15,
      "outputs": [
        {
          "execution_count": 15,
          "output_type": "execute_result",
          "data": {
            "text/plain": "'Merhaba'"
          },
          "metadata": {}
        }
      ]
    },
    {
      "cell_type": "code",
      "source": "\"Merhaba?!:;.,\"",
      "metadata": {
        "trusted": true
      },
      "execution_count": 16,
      "outputs": [
        {
          "execution_count": 16,
          "output_type": "execute_result",
          "data": {
            "text/plain": "'Merhaba?!:;.,'"
          },
          "metadata": {}
        }
      ]
    },
    {
      "cell_type": "code",
      "source": "\"'Merhaba'\"",
      "metadata": {
        "trusted": true
      },
      "execution_count": 17,
      "outputs": [
        {
          "execution_count": 17,
          "output_type": "execute_result",
          "data": {
            "text/plain": "\"'Merhaba'\""
          },
          "metadata": {}
        }
      ]
    },
    {
      "cell_type": "markdown",
      "source": "Python'da çeşitli karakter dizilerini(stringleri) birleştirmek için + işareti kullanılır. Sayılardaki toplama işlemi gibidir. Her bir toplama işlemi yeni diziyi bir öncekinin sonuna ekler.",
      "metadata": {}
    },
    {
      "cell_type": "code",
      "source": "\"Merhaba\" + \"Dünya\"",
      "metadata": {
        "trusted": true
      },
      "execution_count": 18,
      "outputs": [
        {
          "execution_count": 18,
          "output_type": "execute_result",
          "data": {
            "text/plain": "'MerhabaDünya'"
          },
          "metadata": {}
        }
      ]
    },
    {
      "cell_type": "code",
      "source": "\"Merhaba\" + \" \" + \"Dünya\"",
      "metadata": {
        "trusted": true
      },
      "execution_count": 19,
      "outputs": [
        {
          "execution_count": 19,
          "output_type": "execute_result",
          "data": {
            "text/plain": "'Merhaba Dünya'"
          },
          "metadata": {}
        }
      ]
    },
    {
      "cell_type": "markdown",
      "source": "#### 1.3) Str, Int ve Float Fonksiyonları\n\nPython'da en sık kullanılan veri tipleri:\n* Tamsayılar (Integers)\n* Ondalıklı Sayılar (Floats)\n* Karakter Dizileri (Strings)\n\nPython'a 5 sayısını tırnak içerisinde \"5\" olarak girersek, bu ifadeyi bir karakter yani string olarak algılayacaktır. Eğer bu ifadeyle matematiksel işlem yapmayı denersek başarısız oluruz. Bu durumda \"5\" ifadesini, 5 sayısına çevirmemiz gerekir.\n\nBu nedenle str(), int() ve float() fonksiyonları bulunmaktadır.\n\n* str() fonksiyonu, parametre olarak girilen değeri karakter dizisine çevirir.\n* int() fonksiyonu, parametre olarak girilen değeri tamsayıya çevirir.\n* float() fonksiyonu, parametre olarak girilen değeri ondalıklı sayıya çevirir.",
      "metadata": {}
    },
    {
      "cell_type": "code",
      "source": "str(5)",
      "metadata": {
        "trusted": true
      },
      "execution_count": 20,
      "outputs": [
        {
          "execution_count": 20,
          "output_type": "execute_result",
          "data": {
            "text/plain": "'5'"
          },
          "metadata": {}
        }
      ]
    },
    {
      "cell_type": "code",
      "source": "int(5)",
      "metadata": {
        "trusted": true
      },
      "execution_count": 21,
      "outputs": [
        {
          "execution_count": 21,
          "output_type": "execute_result",
          "data": {
            "text/plain": "5"
          },
          "metadata": {}
        }
      ]
    },
    {
      "cell_type": "code",
      "source": "float(5)",
      "metadata": {
        "trusted": true
      },
      "execution_count": 22,
      "outputs": [
        {
          "execution_count": 22,
          "output_type": "execute_result",
          "data": {
            "text/plain": "5.0"
          },
          "metadata": {}
        }
      ]
    },
    {
      "cell_type": "code",
      "source": "float(5) + int(5)",
      "metadata": {
        "trusted": true
      },
      "execution_count": 23,
      "outputs": [
        {
          "execution_count": 23,
          "output_type": "execute_result",
          "data": {
            "text/plain": "10.0"
          },
          "metadata": {}
        }
      ]
    },
    {
      "cell_type": "code",
      "source": "str(5) + int(5)",
      "metadata": {
        "trusted": true
      },
      "execution_count": 24,
      "outputs": [
        {
          "ename": "<class 'TypeError'>",
          "evalue": "can only concatenate str (not \"int\") to str",
          "traceback": [
            "\u001b[0;31m---------------------------------------------------------------------------\u001b[0m",
            "\u001b[0;31mTypeError\u001b[0m                                 Traceback (most recent call last)",
            "Cell \u001b[0;32mIn[24], line 1\u001b[0m\n\u001b[0;32m----> 1\u001b[0m \u001b[38;5;28;43mstr\u001b[39;49m\u001b[43m(\u001b[49m\u001b[38;5;241;43m5\u001b[39;49m\u001b[43m)\u001b[49m\u001b[43m \u001b[49m\u001b[38;5;241;43m+\u001b[39;49m\u001b[43m \u001b[49m\u001b[38;5;28;43mint\u001b[39;49m\u001b[43m(\u001b[49m\u001b[38;5;241;43m5\u001b[39;49m\u001b[43m)\u001b[49m\n",
            "\u001b[0;31mTypeError\u001b[0m: can only concatenate str (not \"int\") to str"
          ],
          "output_type": "error"
        }
      ]
    },
    {
      "cell_type": "markdown",
      "source": "Bu noktada dikkat edilmesi gereken bir durum vardır. Fonksiyonların çevrim işlemi yapabilmesi için değerlerin dönüştürmeye uygun olması gerekir. Örneğin, 'Python' isimli bir dizi, sayısal bir değere sahip olmadığından tamsayıya veya ondalıklı sayıya çevrilemez.",
      "metadata": {}
    },
    {
      "cell_type": "code",
      "source": "str(\"Merhaba Dünya\")",
      "metadata": {
        "trusted": true
      },
      "execution_count": 25,
      "outputs": [
        {
          "execution_count": 25,
          "output_type": "execute_result",
          "data": {
            "text/plain": "'Merhaba Dünya'"
          },
          "metadata": {}
        }
      ]
    },
    {
      "cell_type": "code",
      "source": "int(\"Merhaba Dünya\")",
      "metadata": {
        "trusted": true
      },
      "execution_count": 26,
      "outputs": [
        {
          "ename": "<class 'ValueError'>",
          "evalue": "invalid literal for int() with base 10: 'Merhaba Dünya'",
          "traceback": [
            "\u001b[0;31m---------------------------------------------------------------------------\u001b[0m",
            "\u001b[0;31mValueError\u001b[0m                                Traceback (most recent call last)",
            "Cell \u001b[0;32mIn[26], line 1\u001b[0m\n\u001b[0;32m----> 1\u001b[0m \u001b[38;5;28;43mint\u001b[39;49m\u001b[43m(\u001b[49m\u001b[38;5;124;43m\"\u001b[39;49m\u001b[38;5;124;43mMerhaba Dünya\u001b[39;49m\u001b[38;5;124;43m\"\u001b[39;49m\u001b[43m)\u001b[49m\n",
            "\u001b[0;31mValueError\u001b[0m: invalid literal for int() with base 10: 'Merhaba Dünya'"
          ],
          "output_type": "error"
        }
      ]
    },
    {
      "cell_type": "markdown",
      "source": "#### 1.4) Değişken Belirleme ve Değer Atama\n\nBazen matematiksel işlemleri gerçekleştirirken, çok fazla sayıda değeri aynı işleme tabi tutmak zorunda kalabiliriz. Örneğin, 2, 3, 4, 7, 11, 19 sayılarının her birinin, bir diğeri ile toplamının hesaplandığı bir programa ihtiyaç olduğu varsayılsın. Bunun için 2 + 3, 2 + 4, 2 + 7, ..., 11 + 19 şeklinde her bir işlemi teker teker yazmak hem geliştiriciyi yoracak hem de kod kalabalığına sebep olacaktır.\n\nDiğer probleme benzer şekilde, bir matematiksel işlemin aynı programda farklı sayılarla tekrar edilmesi gerekebilir. Örneğin, yazdığımız programda 20 farklı satırda, toplama işlemi gerçekleşiyor olsun. Programda kullanılacak sayıların değişmesi durumunda, tek tek ilgili 20 satırı aramak ve sayıları değiştirmek yine oldukça yorucu bir süreç oluşmasına sebep olabilir.\n\nBu ve bunun gibi yüzlerce sorunu ortadan kaldırmak ve karmaşıklığı azaltmak için veri tipleri, değişkenlere atanır.\n\nDeğişken, en basit tanımıyla bir veri tipinin değerini taşıyan ve gerektiğinde başka bir değerle değiştirilebilen boş bir kutudur. Değişken isimleri geliştirici tarafından belirlenir. Bir sayıyı tutması için belirlenilen değişkene 'x' ismi verilebildiği gibi 'masa' ismi de verilebilir.\n\n5 sayısı x ismindeki değişkene verilecekse ----------> x = 5\n\n12 sayısı masa ismindeki değişkene verilecekse ------> masa = 12",
      "metadata": {}
    },
    {
      "cell_type": "code",
      "source": "x = 15\nx",
      "metadata": {
        "trusted": true
      },
      "execution_count": 27,
      "outputs": [
        {
          "execution_count": 27,
          "output_type": "execute_result",
          "data": {
            "text/plain": "15"
          },
          "metadata": {}
        }
      ]
    },
    {
      "cell_type": "code",
      "source": "y = 20\ny",
      "metadata": {
        "trusted": true
      },
      "execution_count": 28,
      "outputs": [
        {
          "execution_count": 28,
          "output_type": "execute_result",
          "data": {
            "text/plain": "20"
          },
          "metadata": {}
        }
      ]
    },
    {
      "cell_type": "code",
      "source": "x + y",
      "metadata": {
        "trusted": true
      },
      "execution_count": 29,
      "outputs": [
        {
          "execution_count": 29,
          "output_type": "execute_result",
          "data": {
            "text/plain": "35"
          },
          "metadata": {}
        }
      ]
    },
    {
      "cell_type": "code",
      "source": "x * y",
      "metadata": {
        "trusted": true
      },
      "execution_count": 30,
      "outputs": [
        {
          "execution_count": 30,
          "output_type": "execute_result",
          "data": {
            "text/plain": "300"
          },
          "metadata": {}
        }
      ]
    },
    {
      "cell_type": "code",
      "source": "masa = \"masa\"\nmasa",
      "metadata": {
        "trusted": true
      },
      "execution_count": 31,
      "outputs": [
        {
          "execution_count": 31,
          "output_type": "execute_result",
          "data": {
            "text/plain": "'masa'"
          },
          "metadata": {}
        }
      ]
    },
    {
      "cell_type": "markdown",
      "source": "### 2) Print ve Input Fonksiyonları\n     2.1) Print Fonksiyonu\n     \nPrint fonksiyonu, içerisine parametre olarak girilen değerin/değerlerin ekrana yazılmasını sağlayan bir fonksiyondur.",
      "metadata": {}
    },
    {
      "cell_type": "code",
      "source": "print(\"Merhaba\")",
      "metadata": {
        "trusted": true
      },
      "execution_count": 32,
      "outputs": [
        {
          "name": "stdout",
          "text": "Merhaba\n",
          "output_type": "stream"
        }
      ]
    },
    {
      "cell_type": "code",
      "source": "print(\"Merhaba\", \"Dünya\")",
      "metadata": {
        "trusted": true
      },
      "execution_count": 33,
      "outputs": [
        {
          "name": "stdout",
          "text": "Merhaba Dünya\n",
          "output_type": "stream"
        }
      ]
    },
    {
      "cell_type": "markdown",
      "source": "Print fonksiyonunun içerisine direkt bir değer girilmesi gerekmez. Bir değişkene değer atanıp, bu değişkenin parametre olarak girilmesi sağlanabilir.",
      "metadata": {}
    },
    {
      "cell_type": "code",
      "source": "x = \"Dünya\"\nprint(\"Merhaba\", x)",
      "metadata": {
        "trusted": true
      },
      "execution_count": 34,
      "outputs": [
        {
          "name": "stdout",
          "text": "Merhaba Dünya\n",
          "output_type": "stream"
        }
      ]
    },
    {
      "cell_type": "markdown",
      "source": "Print fonksiyonu aldığı değerleri otomatik olarak boşluk ile ayırır. Virgül veya tire gibi farklı bir ayırıcı kullanarak değerleri ayırmak için print fonksiyonuna bunu belirtmek gerekir;",
      "metadata": {}
    },
    {
      "cell_type": "code",
      "source": "print(\"Merhaba\", \"Dünya\", sep = \",\")",
      "metadata": {
        "trusted": true
      },
      "execution_count": 35,
      "outputs": [
        {
          "name": "stdout",
          "text": "Merhaba,Dünya\n",
          "output_type": "stream"
        }
      ]
    },
    {
      "cell_type": "code",
      "source": "print(\"Merhaba\", \"Dünya\", sep = \"-\")",
      "metadata": {
        "trusted": true
      },
      "execution_count": 36,
      "outputs": [
        {
          "name": "stdout",
          "text": "Merhaba-Dünya\n",
          "output_type": "stream"
        }
      ]
    },
    {
      "cell_type": "markdown",
      "source": "Print fonksiyonu içerisinde başka fonksiyonlar veya metodlar da çalıştırılabilir. Örneğin, karakter dizileri(stringler) için özelleştirilmiş format metodu, print fonksiyonu içerisinde en yaygın kullanılan metodlardan biridir.\n\nFormat metodu, bir string içerisinde dinamik olarak değişmesi gereken bir değerin kolayca değiştirilebilmesi için kullanılır. Bunun için sürekli değişiklik gösterilecek değer yerine boş bir küme parantezi '{}' yerleştirilir. Karakter dizisinin bitirme tırnağı kapatıldıktan '.format()' ifadesi yerleştirilir ve parantez içerisine o an istenen değer girilir.\n\nÖrnek; A ve B isminde iki para birimi olsun. A para biriminin değeri sabitken B para biriminin değerinin sürekli güncellenmesi gereksin. Bu durumda yazılması gereken ifade şu şekilde olur:\n\n>\"1 birim A'nın değeri {} birim B'ye eşittir\".format(\"3\")\n\nYukarıdaki ifadenin çıktısı şu şekilde olacaktır:\n\n>1 birim A'nın değeri 3 birim B'ye eşittir\n\nKısa bir süre sonra, B para biriminin değeri değişsin. Bu durumda format metodu kullanıldığından yapılması gereken tek şey parametre olarak girilen değeri değiştirmek olacaktır. Böyle bir durumda güncellenen ifade şu olur:\n\n>\"1 birim A'nın değeri {} birim B'ye eşittir\".format(\"5\")\n\nYukarıdaki ifadenin çıktısı şu şekilde olacaktır:\n\n>1 birim A'nın değeri 5 birim B'ye eşittir",
      "metadata": {}
    },
    {
      "cell_type": "code",
      "source": "print(\"Merhaba {}\".format(\"Dünya\"))",
      "metadata": {
        "trusted": true
      },
      "execution_count": 37,
      "outputs": [
        {
          "name": "stdout",
          "text": "Merhaba Dünya\n",
          "output_type": "stream"
        }
      ]
    },
    {
      "cell_type": "code",
      "source": "a = \"bir\"\nb = \"Python\"\nc = \"projesidir.\"\nprint(\"Bu {} {} {}\".format(a, b, c))",
      "metadata": {
        "trusted": true
      },
      "execution_count": 38,
      "outputs": [
        {
          "name": "stdout",
          "text": "Bu bir Python projesidir.\n",
          "output_type": "stream"
        }
      ]
    },
    {
      "cell_type": "markdown",
      "source": "#### 2.2) Input Fonksiyonu\n\nInput fonksiyonu, yazılımı kullanan kişiden klavye aracılığıyla değer(bilgi) alınmasını sağlayan bir fonksiyondur.",
      "metadata": {}
    },
    {
      "cell_type": "code",
      "source": "input()",
      "metadata": {
        "trusted": true
      },
      "execution_count": 39,
      "outputs": [
        {
          "execution_count": 39,
          "output_type": "execute_result",
          "data": {
            "text/plain": "<PyodideFuture pending cb=[WebLoop._decrement_in_progress()]>"
          },
          "metadata": {}
        },
        {
          "output_type": "stream",
          "name": "stdin",
          "text": " 1\n"
        }
      ]
    },
    {
      "cell_type": "code",
      "source": "input()",
      "metadata": {
        "trusted": true
      },
      "execution_count": 40,
      "outputs": [
        {
          "execution_count": 40,
          "output_type": "execute_result",
          "data": {
            "text/plain": "<PyodideFuture pending cb=[WebLoop._decrement_in_progress()]>"
          },
          "metadata": {}
        },
        {
          "output_type": "stream",
          "name": "stdin",
          "text": " a\n"
        }
      ]
    },
    {
      "cell_type": "markdown",
      "source": "Input fonksiyonu içerisine kullanıcıdan ne tür bir bilgi istendiğine dair ipucu olması açısından bir mesaj girilebilir.",
      "metadata": {}
    },
    {
      "cell_type": "code",
      "source": "input(\"Lütfen bir sayı girin: \")",
      "metadata": {
        "trusted": true
      },
      "execution_count": 41,
      "outputs": [
        {
          "execution_count": 41,
          "output_type": "execute_result",
          "data": {
            "text/plain": "<PyodideFuture pending cb=[WebLoop._decrement_in_progress()]>"
          },
          "metadata": {}
        },
        {
          "output_type": "stream",
          "name": "stdin",
          "text": "Lütfen bir sayı girin:  3\n"
        }
      ]
    },
    {
      "cell_type": "markdown",
      "source": "Input fonksiyonu kullanıcıdan alınan her değeri otomatik olarak karakter dizisi(string) olarak tanımlar. Yani tamsayı veya ondalıklı sayı bile girilse, bu değerleri birer harf gibi görecektir. Bunun için kullanıcıdan istenen değeri, ilgili veri tipine dönüştürmek gerekir. Veri tipi dönüştürmek için kullanılan fonksiyonların int, str ve float olduğundan daha önce bahsedilmişti.\n\nBu noktada yapılması gereken işlem input fonksiyonunu, istenilen veri tipi dönüştürme fonksiyonunun içine yerleştirmektir:\n\nGirdi(Input):\n>sayı = int(input(\"Lütfen bir sayı girin: \"))\n\n>print(sayı)\n\nÇıktı(Output):\n>Lütfen bir sayı girin: 5\n\n>5\n\n-----------------------------------------------------\n\nGirdi(Input):\n>karakter = str(input(\"Lütfen bir karakter girin: \"))\n\n>print(karakter)\n\nÇıktı(Output):\n>Lütfen bir karakter girin: A\n\n>A\n\n-----------------------------------------------------\n\nGirdi(Input):\n>ondalıklı = float(input(\"Lütfen ondalıklı bir sayı girin: \"))\n\n>print(ondalıklı)\n\nÇıktı(Output):\n>Lütfen ondalıklı bir sayı girin: 0.2\n\n>0.2",
      "metadata": {}
    },
    {
      "cell_type": "markdown",
      "source": "Kullanıcıdan istenen değer, boş bir değişkene atanabilir. Bunun için değişkeni bir değere eşitlemek yerine, bir input fonksiyonuna eşitlemek yeterli olacaktır. Böylece standart bir değişken ve kullanıcıdan alınan değer ile işlemler yapılabilir.\n\nGirdi(Input):\n>x = 5\n\n>y = int(input(\"Lütfen bir sayı girin:\"))\n\n>print(x * y)\n\nÇıktı(Output):\n>Lütfen bir sayı girin: 4\n\n>20",
      "metadata": {}
    },
    {
      "cell_type": "markdown",
      "source": "### 3) Listeler ve Sözlükler\n     3.1) Listeler\n     \nListeler, içerisinde birden fazla değer(eleman) tutabilen veri yapılarıdır.\n\nListeler sayesinde tek bir değişkene birden fazla değerin atanması sağlanabilir. Listeler gibi veri yapıları olmadan bunu yapmak mümkün değildir. Bir veri yapısı olmadan bir değişken sadece bir değeri(elemanı) barındırabilir.",
      "metadata": {}
    },
    {
      "cell_type": "code",
      "source": "rakamlar_listesi = [0, 1, 2, 3, 4, 5, 6, 7, 8, 9]\nprint(rakamlar_listesi)",
      "metadata": {
        "trusted": true
      },
      "execution_count": 42,
      "outputs": [
        {
          "name": "stdout",
          "text": "[0, 1, 2, 3, 4, 5, 6, 7, 8, 9]\n",
          "output_type": "stream"
        }
      ]
    },
    {
      "cell_type": "code",
      "source": "programlama_dilleri_listesi = [\"Python\", \"R\", \"Perl\", \"Matlab\"]\nprint(programlama_dilleri_listesi)",
      "metadata": {
        "trusted": true
      },
      "execution_count": 43,
      "outputs": [
        {
          "name": "stdout",
          "text": "['Python', 'R', 'Perl', 'Matlab']\n",
          "output_type": "stream"
        }
      ]
    },
    {
      "cell_type": "markdown",
      "source": "Bir listenin içerisinde, çeşitli veri tiplerinden elemanlar birlikte bulunabilir.",
      "metadata": {}
    },
    {
      "cell_type": "code",
      "source": "sekiller_sayılar_listesi = [0.2, 3, 7, \"kare\", \"üçgen\", \"altıgen\"]\nprint(sekiller_sayılar_listesi)",
      "metadata": {
        "trusted": true
      },
      "execution_count": 44,
      "outputs": [
        {
          "name": "stdout",
          "text": "[0.2, 3, 7, 'kare', 'üçgen', 'altıgen']\n",
          "output_type": "stream"
        }
      ]
    },
    {
      "cell_type": "markdown",
      "source": "Bir listenin içerisindeki herhangi bir elemana/elemanlara ulaşmak mümkündür. Bunun için listenin tutulduğu değişkenin bitişiğine köşeli parantez \"[]\" eklenir. Parantezin içine, ulaşmak istediğimiz elemanın endeksi(listede kaçıncı sırada bulunduğu) yazılır.\n\nÖrneğin, liste[5] yazıldığında, liste ismindeki değişkenin içinde tutulan elemanlardan 5 endeksli değeri döndürür.\n\nPython'da endeksler 0'dan başlar. Yani bir listenin ilk elemanı 0. endekstedir.\n\nÖrnek; liste = [1, 2, 3] ise 1 değeri 0. endekste, 2 değeri 1. endekste, 3 değeri 2. endekstedir. Bu durumda 1 elemanını çağırmak için liste[0] komutu verilmelidir.",
      "metadata": {}
    },
    {
      "cell_type": "code",
      "source": "liste = [1, 2, 3, 4, 5]\n\nilk_eleman = liste[0]\nikinci_eleman = liste[1]\nbesinci_eleman = liste[4]\n\nprint(\"listenin 1. elemanı:\", ilk_eleman)\nprint(\"listenin 2. elemanı:\", ikinci_eleman)\nprint(\"listenin 5. elemanı:\", besinci_eleman)",
      "metadata": {
        "trusted": true
      },
      "execution_count": 45,
      "outputs": [
        {
          "name": "stdout",
          "text": "listenin 1. elemanı: 1\nlistenin 2. elemanı: 2\nlistenin 5. elemanı: 5\n",
          "output_type": "stream"
        }
      ]
    },
    {
      "cell_type": "code",
      "source": "liste = [\"A\", \"B\", \"C\", \"D\", \"E\"]\n\nilk_eleman = liste[0]\nikinci_eleman = liste[1]\nbesinci_eleman = liste[4]\n\nprint(\"listenin 1. elemanı:\", ilk_eleman)\nprint(\"listenin 2. elemanı:\", ikinci_eleman)\nprint(\"listenin 5. elemanı:\", besinci_eleman)",
      "metadata": {
        "trusted": true
      },
      "execution_count": 46,
      "outputs": [
        {
          "name": "stdout",
          "text": "listenin 1. elemanı: A\nlistenin 2. elemanı: B\nlistenin 5. elemanı: E\n",
          "output_type": "stream"
        }
      ]
    },
    {
      "cell_type": "markdown",
      "source": "Listedeki elemanlara, listenin sonundan başına doğru giderek ulaşmakta mümkündür.\n\nListe endeksleri negatif sayılarla girildiğinde, listenin en sonundaki değeri ilk değer belirleyerek geriye doğru gider. Listenin en sonundaki elemanının negatif endeksi -1'dir, sondan bir önceki -2'dir ve bu şekilde devam eder.",
      "metadata": {}
    },
    {
      "cell_type": "code",
      "source": "liste = [1, 2, 3, 4, 5]\n\nson_eleman = liste[-1]\nsondan_ikinci_eleman = liste[-2]\n\nprint(\"listenin en son elemanı:\", son_eleman)\nprint(\"listenin sondan ikinci elemanı:\", sondan_ikinci_eleman)",
      "metadata": {
        "trusted": true
      },
      "execution_count": 47,
      "outputs": [
        {
          "name": "stdout",
          "text": "listenin en son elemanı: 5\nlistenin sondan ikinci elemanı: 4\n",
          "output_type": "stream"
        }
      ]
    },
    {
      "cell_type": "markdown",
      "source": "Listelerdeki tek bir elemana ulaşılabildiği gibi, bir eleman grubuna da ulaşılabilir. Bir grup elemanı seçmek için köşeli parantez içerisine, üst üste iki nokta ile ayrılmış iki endeks değeri girmek gerekir. İlk endeks değeri başlangıç, ikinci endeks değeri bitiş elemanlarını temsil eder. Örneğin, 'liste[2:4]' ifadesi bir listenin 2 endeksli elemanından 4 endeksli elemanına kadar olan değerleri filtreler.\n\nBurada dikkat edilmesi gereken nokta bitiş endeksidir. Bitiş endeksine tabi olan eleman seçilmez çünkü '! bitiş endeksli elemana kadar !' olan kısım seçilir.",
      "metadata": {}
    },
    {
      "cell_type": "code",
      "source": "liste = [0, 1, 2, 3, 4, 5, 6, 7]\n\nilk_iki_eleman = liste[0:2]\nikinciden_besinciye = liste[1:5]\n\nprint(\"listenin ilk iki elemanı:\", ilk_iki_eleman)\nprint(\"listenin ikinci elemanından beşinci elemanına kadar:\", ikinciden_besinciye)",
      "metadata": {
        "trusted": true
      },
      "execution_count": 48,
      "outputs": [
        {
          "name": "stdout",
          "text": "listenin ilk iki elemanı: [0, 1]\nlistenin ikinci elemanından beşinci elemanına kadar: [1, 2, 3, 4]\n",
          "output_type": "stream"
        }
      ]
    },
    {
      "cell_type": "markdown",
      "source": "Eğer listenin en başından belirli bir endekse kadar seçim yapılacaksa ilk endeks değeri boş bırakılabilir ---------> liste[:5]\n\nEğer listenin belirli bir endeksinden en sonuna kadar seçim yapılacaksa ikinci endeks değeri boş bırakılabilir ----> liste[5:]",
      "metadata": {}
    },
    {
      "cell_type": "code",
      "source": "liste = [1, 2, 3, 4, 5]\n\nikiye_kadar = liste[:2]\nikiden_sonra = liste[2:]\nlistenin_tamamı = liste[:]\n\nprint(\"listenin ikinci endeksine kadar:\", ikiye_kadar)\nprint(\"listenin ikinci endeksinden sonra:\", ikiden_sonra)\nprint(\"listenin tamamı:\", listenin_tamamı)",
      "metadata": {
        "trusted": true
      },
      "execution_count": 49,
      "outputs": [
        {
          "name": "stdout",
          "text": "listenin ikinci endeksine kadar: [1, 2]\nlistenin ikinci endeksinden sonra: [3, 4, 5]\nlistenin tamamı: [1, 2, 3, 4, 5]\n",
          "output_type": "stream"
        }
      ]
    },
    {
      "cell_type": "markdown",
      "source": "Listelerin içerisindeki elemanlar seçilirken, sadece birbirine bitişik olan gruplar seçilmek zorunda değildir. Seçim yapılırken aralarından bazı elemanlar atlanarak, kalanlar alınabilir.\n\nÖrneğin, 1'den 10'a kadar sayıların bulunduğu bir listeden, her 2 elemandan 1'i atlanarak sadece çift sayıların veya sadece tek sayıların seçilmesi sağlanabilir.\n\nBunu gerçekleştirebilmek için köşeli parantez içerisinde, başlangıç ve bitiş endekslerinin sağına bir üst üste nokta daha eklenir ve kaçar adım atlanması istendiği bu alana girilir. Örnek: list[0:10:2] ",
      "metadata": {}
    },
    {
      "cell_type": "code",
      "source": "liste = [1, 2, 3, 4, 5, 6, 7, 8, 9, 10]\n\ntek_sayılar = liste[::2]\ncift_sayılar = liste[1::2]\n\nprint(\"listedeki tek sayılar:\", tek_sayılar)\nprint(\"listedeki çift sayılar:\", cift_sayılar)",
      "metadata": {
        "trusted": true
      },
      "execution_count": 50,
      "outputs": [
        {
          "name": "stdout",
          "text": "listedeki tek sayılar: [1, 3, 5, 7, 9]\nlistedeki çift sayılar: [2, 4, 6, 8, 10]\n",
          "output_type": "stream"
        }
      ]
    },
    {
      "cell_type": "markdown",
      "source": "Python'da listelerin içerisine elemanların yerleştirildiği gibi, listelerin içerisine başka listeler de yerleştirilebilir. İç içe yerleştirilmiş iki liste içerisindeki elemanlara ulaşabilmek için, iç içe listenin tanımlandığı değişkenin bitişiğine iki tane köşeli parantez eklenerek ilkinin içine ulaşılmak istenen listenin endeks değeri, ikincinin içine ulaşılmak istenen elemanın endeks değeri girilir.\n\nÖrnek: liste = [[0, 1], [2, 3]] olsun. 0 değerine ulaşmak için liste[0][0] ifadesi kullanılmalıdır.\n\nİç içe listelerin sayısı ikiden fazla olabilir. Bu durumda en içerideki listenin içindeki elemanlara ulaşılmak isteniyorsa, liste sayısı kadar köşeli parantez eklenmelidir.",
      "metadata": {}
    },
    {
      "cell_type": "code",
      "source": "liste = [[1, 2, 3], [4, 5, 6], [7, 8, 9]]\n\nilk_liste_ilk_eleman = liste[0][0]\nikinci_liste_son_eleman = liste[1][2]\nson_liste_son_eleman = liste[2][2]\n\nprint(\"İçerideki ilk listenin ilk elemanı:\", ilk_liste_ilk_eleman)\nprint(\"İçerideki ikinci listenin son elemanı:\", ikinci_liste_son_eleman)\nprint(\"İçerideki son listenin son elemanı:\", son_liste_son_eleman)",
      "metadata": {
        "trusted": true
      },
      "execution_count": 51,
      "outputs": [
        {
          "name": "stdout",
          "text": "İçerideki ilk listenin ilk elemanı: 1\nİçerideki ikinci listenin son elemanı: 6\nİçerideki son listenin son elemanı: 9\n",
          "output_type": "stream"
        }
      ]
    },
    {
      "cell_type": "markdown",
      "source": "Liste oluşturmak veya diğer yinelenebilir yapıları listelere dönüştürmek için list() fonksiyonu kullanılabilir.\n\nÖrneğin, \"Python\" ismindeki bir karakter dizisi (string) yinelenebilir yapıdadır. Her bir harfi bir listenin içersindeki elemanmış gibi baştan sona taranabilir. Böyle bir yapı list() fonksiyonu sayesinde, her harfi eleman olacak şekilde listeye çevrilebilir.\n\nlist(\"Python\") -------> ['P', 'y', 't', 'h', 'o', 'n'] şeklinde dönecektir.",
      "metadata": {}
    },
    {
      "cell_type": "code",
      "source": "liste = list([1, 2, 3])\nprint(liste)",
      "metadata": {
        "trusted": true
      },
      "execution_count": 52,
      "outputs": [
        {
          "name": "stdout",
          "text": "[1, 2, 3]\n",
          "output_type": "stream"
        }
      ]
    },
    {
      "cell_type": "code",
      "source": "karakterler = \"Merhaba Dünya\"\nkarakter_listesi = list(karakterler)\n\nprint(karakterler)\nprint(karakter_listesi)",
      "metadata": {
        "trusted": true
      },
      "execution_count": 53,
      "outputs": [
        {
          "name": "stdout",
          "text": "Merhaba Dünya\n['M', 'e', 'r', 'h', 'a', 'b', 'a', ' ', 'D', 'ü', 'n', 'y', 'a']\n",
          "output_type": "stream"
        }
      ]
    },
    {
      "cell_type": "markdown",
      "source": "Bir listenin uzunluğunu, yani ne kadar eleman barındırdığını hesaplamak için len() fonksiyonu kullanılabilir.",
      "metadata": {}
    },
    {
      "cell_type": "code",
      "source": "liste = [1, 2, 3, 4, 5]\nuzunluk = len(liste)\n\nprint(\"listenin uzunluğu:\", uzunluk)",
      "metadata": {
        "trusted": true
      },
      "execution_count": 54,
      "outputs": [
        {
          "name": "stdout",
          "text": "listenin uzunluğu: 5\n",
          "output_type": "stream"
        }
      ]
    },
    {
      "cell_type": "markdown",
      "source": "Bir listenin en sonuna yeni bir eleman eklemek için append() metodu kullanılabilir.",
      "metadata": {}
    },
    {
      "cell_type": "code",
      "source": "liste = [1, 2, 3, 4, 5]\nprint(\"listenin ilk hali:\", liste)\n\nliste.append(6)\nprint(\"listenin sonuna 6 değeri eklendi:\", liste)\n\nliste.append(7)\nprint(\"listenin sonuna 7 değeri eklendi:\", liste)",
      "metadata": {
        "trusted": true
      },
      "execution_count": 55,
      "outputs": [
        {
          "name": "stdout",
          "text": "listenin ilk hali: [1, 2, 3, 4, 5]\nlistenin sonuna 6 değeri eklendi: [1, 2, 3, 4, 5, 6]\nlistenin sonuna 7 değeri eklendi: [1, 2, 3, 4, 5, 6, 7]\n",
          "output_type": "stream"
        }
      ]
    },
    {
      "cell_type": "markdown",
      "source": "Listeden bir eleman çıkartmak için remove() metodu kullanılabilir.",
      "metadata": {}
    },
    {
      "cell_type": "code",
      "source": "liste = [1, 2, 3, 4, 5, 6, 7]\nprint(\"listenin ilk hali:\", liste)\n\nliste.remove(7)\nprint(\"listeden 7 değeri çıkartıldı:\", liste)\n\nliste.remove(6)\nprint(\"listeden 6 değeri çıkartıldı:\", liste)",
      "metadata": {
        "trusted": true
      },
      "execution_count": 56,
      "outputs": [
        {
          "name": "stdout",
          "text": "listenin ilk hali: [1, 2, 3, 4, 5, 6, 7]\nlisteden 7 değeri çıkartıldı: [1, 2, 3, 4, 5, 6]\nlisteden 6 değeri çıkartıldı: [1, 2, 3, 4, 5]\n",
          "output_type": "stream"
        }
      ]
    },
    {
      "cell_type": "markdown",
      "source": "Bir listedeki değerleri sıralamak için sort() metodu kullanılablir.",
      "metadata": {}
    },
    {
      "cell_type": "code",
      "source": "liste = [8, 2, 4, 1, 7, 3, 5, 6]\nliste.sort()\n\nprint(\"listenin sıralı hali:\", liste)",
      "metadata": {
        "trusted": true
      },
      "execution_count": 57,
      "outputs": [
        {
          "name": "stdout",
          "text": "listenin sıralı hali: [1, 2, 3, 4, 5, 6, 7, 8]\n",
          "output_type": "stream"
        }
      ]
    },
    {
      "cell_type": "markdown",
      "source": "#### 3.2) Sözlükler\n\nSözlükler, bir anahtar(key) - değer(value) grubunun tek bir değişken içerisinde tutulabilmesini sağlayan yapılardır.\nBu açıdan listelere benzerlik göstermektedir.\n\nPython içerisinde anahtar ve değer kavramları, tıpkı bir sözlükteki kelime ve tanımı gibi karşılık bulmaktadır. Yani aranmak istenen değerler anahtar olarak verilir ve anahtar üzerinden karşılık gelen değere gidilir. Örneğin, Python içerisinde tanımlanan bir sözlüğe ülkeler anahtar olarak verilebilir. Anahtarlara karşılık olarak başkentler verilir. Böylelikle, sözlük yapısı yardımıyla bir ülkenin ismi üzerinden başkenti programa döndürülebilir.\n\nBiyolojideki örneklerinden gidecek olursak, bir sözlüğe amino asit isimleri ve kısaltmaları tanımlanabilir. Örneğin;\n\n                AA İsmi(Anahtar)          AA Kısaltması Kısaltması\n                ----------------          ------------------------\n                    Alanine                         Ala\n                    Cysteine                        Cys\n                    Lysine                          Lys\n                    Methionine                      Met\n                ",
      "metadata": {}
    },
    {
      "cell_type": "code",
      "source": "amino_asit_sözlüğü = {\"Alanine\": \"Ala\", \"Cysteine\": \"Cys\", \"Lysine\": \"Lys\", \"Methionine\": \"Met\"}\nprint(amino_asit_sözlüğü)",
      "metadata": {
        "trusted": true
      },
      "execution_count": 58,
      "outputs": [
        {
          "name": "stdout",
          "text": "{'Alanine': 'Ala', 'Cysteine': 'Cys', 'Lysine': 'Lys', 'Methionine': 'Met'}\n",
          "output_type": "stream"
        }
      ]
    },
    {
      "cell_type": "code",
      "source": "amino_asit_sözlüğü = {\"Alanine\": \"Ala\", \"Cysteine\": \"Cys\", \"Lysine\": \"Lys\", \"Methionine\": \"Met\"}\nprint(\"Alanine amino asidinin kısaltması:\", amino_asit_sözlüğü[\"Alanine\"])\nprint(\"Methionine amino asidinin kısaltması:\", amino_asit_sözlüğü[\"Methionine\"])",
      "metadata": {
        "trusted": true
      },
      "execution_count": 59,
      "outputs": [
        {
          "name": "stdout",
          "text": "Alanine amino asidinin kısaltması: Ala\nMethionine amino asidinin kısaltması: Met\n",
          "output_type": "stream"
        }
      ]
    },
    {
      "cell_type": "markdown",
      "source": "Sözlüklere yeni değerler eklenebilmektedir. Bunun için sözlük değişken isminin bitişiğine köşeli parantez '[]' açılır. Parantezin içerisine yeni anahtar girilir ve yeni değere eşitlenir. Örneğin: sözlük[\"yeni_anahtar\"] = \"yeni_değer\"",
      "metadata": {}
    },
    {
      "cell_type": "code",
      "source": "amino_asit_sözlüğü = {\"Alanine\": \"Ala\", \"Cysteine\": \"Cys\", \"Lysine\": \"Lys\", \"Methionine\": \"Met\"}\namino_asit_sözlüğü[\"Serine\"] = \"Ser\"\nprint(amino_asit_sözlüğü)\nprint(\"Serine amino asidinin kısaltması:\", amino_asit_sözlüğü[\"Serine\"])",
      "metadata": {
        "trusted": true
      },
      "execution_count": 60,
      "outputs": [
        {
          "name": "stdout",
          "text": "{'Alanine': 'Ala', 'Cysteine': 'Cys', 'Lysine': 'Lys', 'Methionine': 'Met', 'Serine': 'Ser'}\nSerine amino asidinin kısaltması: Ser\n",
          "output_type": "stream"
        }
      ]
    },
    {
      "cell_type": "markdown",
      "source": "Sözlüklerde belirli bir anahtara karşılık gelen değer güncellenebilir. Bunun  için önceki adımda olduğu gibi değişken isminin yanına köşeli parantez açılır ve değeri değiştirilmek istenen anahtar girilerek yeni değere eşitlenir. Örneğin; sözlük[\"bilinen_anahtar\"] = \"yeni_değer\"",
      "metadata": {}
    },
    {
      "cell_type": "code",
      "source": "amino_asit_sözlüğü = {\"Alanine\": \"Ala\", \"Cysteine\": \"Cys\", \"Lysine\": \"Lys\", \"Methionine\": \"Met\"}\namino_asit_sözlüğü[\"Alanine\"] = \"AAA\"\nprint(amino_asit_sözlüğü)\nprint(\"Alanine amino asidinin yeni kısaltması:\", amino_asit_sözlüğü[\"Alanine\"])",
      "metadata": {
        "trusted": true
      },
      "execution_count": 61,
      "outputs": [
        {
          "name": "stdout",
          "text": "{'Alanine': 'AAA', 'Cysteine': 'Cys', 'Lysine': 'Lys', 'Methionine': 'Met'}\nAlanine amino asidinin yeni kısaltması: AAA\n",
          "output_type": "stream"
        }
      ]
    },
    {
      "cell_type": "markdown",
      "source": "Sözlüklerden istenilen değerler çıkartılabilir. Bunun için 'del' fonksiyonu kullanılmaktadır. Değişken isminin yanına köşeli parantez açılarak, silinmesi istenen değerin anahtarı girilir ve del fonksiyonuna parametre olarak verilir. Sonuç olarak del fonksiyonu anahtarı ile birlikte değeri de siler. Örneğin; del(sözlük[\"değeri_silinmesi_istenen_anahtar\"]) ",
      "metadata": {}
    },
    {
      "cell_type": "code",
      "source": "amino_asit_sözlüğü = {\"Alanine\": \"Ala\", \"Cysteine\": \"Cys\", \"Lysine\": \"Lys\", \"Methionine\": \"Met\"}\ndel(amino_asit_sözlüğü[\"Methionine\"])\nprint(amino_asit_sözlüğü)",
      "metadata": {
        "trusted": true
      },
      "execution_count": 62,
      "outputs": [
        {
          "name": "stdout",
          "text": "{'Alanine': 'Ala', 'Cysteine': 'Cys', 'Lysine': 'Lys'}\n",
          "output_type": "stream"
        }
      ]
    },
    {
      "cell_type": "markdown",
      "source": "Sözlüklerde bir anahtara karşılık gelen tek bir değer olmak zorunda değildir. Birden fazla değer liste içerisinde tutularak verilebilir. Örneğin; Alanine anahtarına, hem normal kısaltması hem de tek harf kısaltması değer olarak verilmek istensin. Bunun gösterimi şu şekilde olacaktır -----> {\"Alanine\": [\"Ala\", \"A\"]}",
      "metadata": {}
    },
    {
      "cell_type": "code",
      "source": "amino_asit_sözlüğü = {\"Alanine\": [\"Ala\", \"GCC\"], \"Cysteine\": [\"Cys\", \"UGC\"], \"Lysine\": [\"Lys\", \"AAA\"], \"Methionine\": [\"Met\", \"AUG\"]}\n\nalanine_kısaltma = amino_asit_sözlüğü[\"Alanine\"][0]\ncysteine_kodon = amino_asit_sözlüğü[\"Cysteine\"][1]\nlysine_kısaltma = amino_asit_sözlüğü[\"Lysine\"][0]\nmethionine_kodon = amino_asit_sözlüğü[\"Methionine\"][1]\n\nprint(\"Alanine kısaltması:\", alanine_kısaltma)\nprint(\"Cysteine kodonu:\", cysteine_kodon)\nprint(\"Lysine kısaltması:\", lysine_kısaltma)\nprint(\"Methionine kodonu:\", methionine_kodon)",
      "metadata": {
        "trusted": true
      },
      "execution_count": 63,
      "outputs": [
        {
          "name": "stdout",
          "text": "Alanine kısaltması: Ala\nCysteine kodonu: UGC\nLysine kısaltması: Lys\nMethionine kodonu: AUG\n",
          "output_type": "stream"
        }
      ]
    },
    {
      "cell_type": "markdown",
      "source": "Tıpkı listelerde olduğu gibi, sözlükleri de iç içe kodlayabiliriz. Yani bir sözlüğün içerisinde başka sözlükler ve anahtar kelimeler yaratabiliriz. Örneğin; Amino asit isimlerinin anahtar olduğu ana sözlüğün içine kısaltmaların da ayrı ayrı anahtarlar olduğu ve bunun üzerinden kodon değerlerine ulaşan bir iç içe sözlük tanımlanması istensin. Bunun gösterimi şu şekilde olacaktır -------> {\"Alanine\": {\"Ala\": \"GCC\"}} ",
      "metadata": {}
    },
    {
      "cell_type": "code",
      "source": "amino_asit_sözlüğü = {\"Alanine\": {\"Ala\": \"GCC\"}, \"Cysteine\": {\"Cys\": \"UGC\"}, \"Lysine\": {\"Lys\": \"AAA\"}, \"Methionine\": {\"Met\": \"AUG\"}}\n\nalanine_kısaltma = amino_asit_sözlüğü[\"Alanine\"][\"Ala\"]\nmethionine_kısaltma = amino_asit_sözlüğü[\"Methionine\"][\"Met\"]\n\nprint(\"Alanine kısaltması:\", alanine_kısaltma)\nprint(\"Methionine kısaltması:\", methionine_kısaltma)",
      "metadata": {
        "trusted": true
      },
      "execution_count": 64,
      "outputs": [
        {
          "name": "stdout",
          "text": "Alanine kısaltması: GCC\nMethionine kısaltması: AUG\n",
          "output_type": "stream"
        }
      ]
    },
    {
      "cell_type": "markdown",
      "source": "Tanımlanmış bir sözlükteki tüm anahtarların, bir liste halindeki gösterimi 'keys()' metodu ile sağlanabilir. Bu metot sayesinde çok büyük bir listedeki anahtarların incelenmesi kolaylaştırılabilir.",
      "metadata": {}
    },
    {
      "cell_type": "code",
      "source": "amino_asit_sözlüğü = {\"Alanine\": {\"Ala\": \"GCC\"}, \"Cysteine\": {\"Cys\": \"UGC\"}, \"Lysine\": {\"Lys\": \"AAA\"}, \"Methionine\": {\"Met\": \"AUG\"}}\n\nprint(amino_asit_sözlüğü.keys())",
      "metadata": {
        "trusted": true
      },
      "execution_count": 65,
      "outputs": [
        {
          "name": "stdout",
          "text": "dict_keys(['Alanine', 'Cysteine', 'Lysine', 'Methionine'])\n",
          "output_type": "stream"
        }
      ]
    },
    {
      "cell_type": "markdown",
      "source": "Tıpkı bir önceki metotta olduğu gibi değerlerin de gösterimi sağlanabilir. Bunun için 'values()' metodu kullanılmaktadır.",
      "metadata": {}
    },
    {
      "cell_type": "code",
      "source": "amino_asit_sözlüğü = {\"Alanine\": {\"Ala\": \"GCC\"}, \"Cysteine\": {\"Cys\": \"UGC\"}, \"Lysine\": {\"Lys\": \"AAA\"}, \"Methionine\": {\"Met\": \"AUG\"}}\n\nprint(amino_asit_sözlüğü.values())",
      "metadata": {
        "trusted": true
      },
      "execution_count": 66,
      "outputs": [
        {
          "name": "stdout",
          "text": "dict_values([{'Ala': 'GCC'}, {'Cys': 'UGC'}, {'Lys': 'AAA'}, {'Met': 'AUG'}])\n",
          "output_type": "stream"
        }
      ]
    },
    {
      "cell_type": "markdown",
      "source": "### 4) Koşul Durumları (if, elif, else)\n     4.1) Boolean Veri Tipi\n\nBoolean, ikili koşul durumlarına sahip olan (evet-hayır, doğru-yanlış, var-yok) değişkenlerin tanımlanabilmesi kullanılan bir veri tipidir. Değişken, ilgili koşul durumunu sağlıyorsa 'True', sağlamıyorsa 'False' değerini alır.\n\nÖrneğin; x = 3 şeklinde tanımlı bir değişken olsun. Python'a \"x, 3'e eşit midir?\" sorusu sorulduğunda, sorunun cevabı koşula uygun olduğu için 'True' yani doğru cevabını verecektir. \"x, 5'e eşit midir?\" sorusuna, koşula uygun olmadığından 'False' yani yanlış cevabını verecektir.",
      "metadata": {}
    },
    {
      "cell_type": "code",
      "source": "x = 3\nprint(\"x, 3'e eşit midir?\", x == 3)\nprint(\"x, 5'e eşit midir?\", x == 5)",
      "metadata": {
        "trusted": true
      },
      "execution_count": 67,
      "outputs": [
        {
          "name": "stdout",
          "text": "x, 3'e eşit midir? True\nx, 5'e eşit midir? False\n",
          "output_type": "stream"
        }
      ]
    },
    {
      "cell_type": "code",
      "source": "x = 3\nprint(\"x 5'ten küçük müdür?\", x < 5)\nprint(\"x 5'ten büyük müdür?\", x > 5)",
      "metadata": {
        "trusted": true
      },
      "execution_count": 68,
      "outputs": [
        {
          "name": "stdout",
          "text": "x 5'ten küçük müdür? True\nx 5'ten büyük müdür? False\n",
          "output_type": "stream"
        }
      ]
    },
    {
      "cell_type": "code",
      "source": "x = 3\nprint(\"x 5'ten küçük veya 5'e eşit midir?\", x <= 5)\nprint(\"x 5'ten büyük veya 5'e eşit midir?\", x >= 5)",
      "metadata": {
        "trusted": true
      },
      "execution_count": 69,
      "outputs": [
        {
          "name": "stdout",
          "text": "x 5'ten küçük veya 5'e eşit midir? True\nx 5'ten büyük veya 5'e eşit midir? False\n",
          "output_type": "stream"
        }
      ]
    },
    {
      "cell_type": "markdown",
      "source": "Matematikteki mantıksal bağlaçlar/operatörler (ve/veya) ve kuralları aynı şekilde Python'da da geçerlidir. İki durumu birbirine 've' ile bağlamak için 'and' operatörü, 'veya' ile bağlamak için 'or' operatörü kullanılır.",
      "metadata": {}
    },
    {
      "cell_type": "code",
      "source": "x = 3\ny = 5\n\nprint(\"x 3'e ve y 5'e eşit midir?\", x == 3 and y == 5)\nprint(\"x 3'e ve y 7'ye eşit midir?\", x == 3 and y == 7)",
      "metadata": {
        "trusted": true
      },
      "execution_count": 70,
      "outputs": [
        {
          "name": "stdout",
          "text": "x 3'e ve y 5'e eşit midir? True\nx 3'e ve y 7'ye eşit midir? False\n",
          "output_type": "stream"
        }
      ]
    },
    {
      "cell_type": "code",
      "source": "x = 3\ny = 5\n\nprint(\"x 3'e veya y 5'e eşit midir?\", x == 3 or y == 5)\nprint(\"x 3'e veya y 7'ye eşit midir?\", x == 3 or y == 7)",
      "metadata": {
        "trusted": true
      },
      "execution_count": 71,
      "outputs": [
        {
          "name": "stdout",
          "text": "x 3'e veya y 5'e eşit midir? True\nx 3'e veya y 7'ye eşit midir? True\n",
          "output_type": "stream"
        }
      ]
    },
    {
      "cell_type": "markdown",
      "source": "Değişkenlere direkt Boolean değerleri atanabilir. Örneğin; bir x değişkenine 'x = True' ifadesi ile doğrudan True değeri atanabilir.",
      "metadata": {}
    },
    {
      "cell_type": "code",
      "source": "x = True\ny = False\n\nprint(\"x:\", x)\nprint(\"y:\", y)",
      "metadata": {
        "trusted": true
      },
      "execution_count": 72,
      "outputs": [
        {
          "name": "stdout",
          "text": "x: True\ny: False\n",
          "output_type": "stream"
        }
      ]
    },
    {
      "cell_type": "markdown",
      "source": "#### 4.2) \"if\" Durumu\n\n\"if\" kelimesinin Türkçe karşılığı \"Eğer\" kelimesidir. \"if\", bir koşul sağlanıyorsa, o koşula özel bir kod bloğu yazılmasını sağlayan bir komuttur. Daha ayrıntılı açıklamak gerekirse; Eğer, koşul değerim doğruysa (Boolean değeri 'True' ise), koşul durumuna bağlı bir veya bir grup kodu çalıştırır. \"if\" durumunun Python'daki gösterimi şuna benzemektedir;\n\nif koşul == True:\n\n    birinci kod\n    \n    ikinci kod\n    \n    üçüncü kod",
      "metadata": {}
    },
    {
      "cell_type": "code",
      "source": "hava_durumu = \"yağmurlu\"\n\nif hava_durumu == \"yağmurlu\":\n    print(\"şemsiye al\")\n\nprint(\"programı bitir\")",
      "metadata": {
        "trusted": true
      },
      "execution_count": 73,
      "outputs": [
        {
          "name": "stdout",
          "text": "şemsiye al\nprogramı bitir\n",
          "output_type": "stream"
        }
      ]
    },
    {
      "cell_type": "code",
      "source": "hava_durumu = \"güneşli\"\n\nif hava_durumu == \"yağmurlu\":\n    print(\"şemsiye al\")\n    \nprint(\"programı bitir\")",
      "metadata": {
        "trusted": true
      },
      "execution_count": 74,
      "outputs": [
        {
          "name": "stdout",
          "text": "programı bitir\n",
          "output_type": "stream"
        }
      ]
    },
    {
      "cell_type": "markdown",
      "source": "Birden fazla, birbirinden bağımsız koşul durumu arka arkaya yazılarak kontrol edilebilir. ",
      "metadata": {}
    },
    {
      "cell_type": "code",
      "source": "hava_durumu = \"yağmurlu\"\ntrafik_durumu = \"yoğun\"\n\nif hava_durumu == \"yağmurlu\":\n    print(\"şemsiye al\")\n\nif trafik_durumu == \"yoğun\":\n    print(\"tramvay kullan\")\n    \nprint(\"programı bitir\")",
      "metadata": {
        "trusted": true
      },
      "execution_count": 75,
      "outputs": [
        {
          "name": "stdout",
          "text": "şemsiye al\ntramvay kullan\nprogramı bitir\n",
          "output_type": "stream"
        }
      ]
    },
    {
      "cell_type": "markdown",
      "source": "Birden fazla koşulun olduğu durumda, eğer koşullardan biri diğerinin sonucuna bağlı ise iç içe \"if\" blokları oluşturulabilir.",
      "metadata": {}
    },
    {
      "cell_type": "code",
      "source": "hava_durumu = \"yağmurlu\"\nşemsiye_durumu = \"kırılmış\"\n\nif hava_durumu == \"yağmurlu\":\n    if şemsiye_durumu == \"kırılmış\":\n        print(\"bere giy\")\n        \nprint(\"programı bitir\")",
      "metadata": {
        "trusted": true
      },
      "execution_count": 76,
      "outputs": [
        {
          "name": "stdout",
          "text": "bere giy\nprogramı bitir\n",
          "output_type": "stream"
        }
      ]
    },
    {
      "cell_type": "markdown",
      "source": "Birden fazla koşulun olduğu durumlarda, mantıksal bağlaçlar olan ve/veya kullanılabilir.",
      "metadata": {}
    },
    {
      "cell_type": "code",
      "source": "hava_durumu = \"yağmurlu\"\nşemsiye_durumu = \"kırılmış\"\n\nif hava_durumu == \"yağmurlu\" and şemsiye_durumu == \"kırılmış\":\n    print(\"bere giy\")\n    \nprint(\"programı bitir\")",
      "metadata": {
        "trusted": true
      },
      "execution_count": 77,
      "outputs": [
        {
          "name": "stdout",
          "text": "bere giy\nprogramı bitir\n",
          "output_type": "stream"
        }
      ]
    },
    {
      "cell_type": "code",
      "source": "şemsiye_durumu = \"sağlam\"\nbere_durumu = \"yırtılmış\"\n\nif şemsiye_durumu == \"sağlam\" or bere_durumu == \"sağlam\":\n    print(\"evden dışarı çık\")\n    \nprint(\"programı bitir\")",
      "metadata": {
        "trusted": true
      },
      "execution_count": 78,
      "outputs": [
        {
          "name": "stdout",
          "text": "evden dışarı çık\nprogramı bitir\n",
          "output_type": "stream"
        }
      ]
    },
    {
      "cell_type": "code",
      "source": "hava_durumu = \"yağmurlu\"\nşemsiye_durumu = \"sağlam\"\nbere_durumu = \"yırtılmış\"\n\nif hava_durumu == \"yağmurlu\" and (şemsiye_durumu == \"sağlam\" or bere_durumu == \"sağlam\"):\n    print(\"evden dışarı çık\")\n    \nprint(\"programı bitir\")",
      "metadata": {
        "trusted": true
      },
      "execution_count": 79,
      "outputs": [
        {
          "name": "stdout",
          "text": "evden dışarı çık\nprogramı bitir\n",
          "output_type": "stream"
        }
      ]
    },
    {
      "cell_type": "markdown",
      "source": "#### 4.3) \"if - else\" Durumu\n\n\"if - else\" ifadesini Türkçe'ye \"eğer - değilse\" şeklinde çevirebiliriz. \"if\" durumunda yalnızca bir koşul sağlandığında yapılmasını istediğimiz komutları çalıştırabiliyoruz, fakat koşulun sağlanmadığı durumlara müdahale etmiyoruz. Örneğin; \"yağmur yağıyor ise şemsiye al\" şeklinde öneride bulunabiliyoruz. Peki yağmur yağmaması durumunda bir öneri varsa, örneğin; \"yağmur yağmıyor ise şemsiye alma\", bunun için ne yapılması gerekir?\n\nİşte \"else\" kavramı bu noktada devreye giriyor. Koşulların sağlanmadığı durumlarda yapılması gereken tüm komutlar, \"else\" altında oluşturulan bir kod bloğunun içerisine yazılabilir. \"if - else\" durumunu Python'da şu şekilde gösterebiliriz:\n\nif koşul == True:\n\n    birinci kod\n    \n    ikinci kod\n\nelse:\n\n    üçüncü kod",
      "metadata": {}
    },
    {
      "cell_type": "code",
      "source": "hava_durumu = \"yağmurlu\"\n\nif hava_durumu == \"yağmurlu\":\n    print(\"şemsiye al\")\nelse:\n    print(\"şemsiye alma\")\n    \nprint(\"programı bitir\")",
      "metadata": {
        "trusted": true
      },
      "execution_count": 80,
      "outputs": [
        {
          "name": "stdout",
          "text": "şemsiye al\nprogramı bitir\n",
          "output_type": "stream"
        }
      ]
    },
    {
      "cell_type": "code",
      "source": "hava_durumu = \"güneşli\"\n\nif hava_durumu == \"yağmurlu\":\n    print(\"şemsiye al\")\nelse:\n    print(\"şemsiye alma\")\n    \nprint(\"programı bitir\")",
      "metadata": {
        "trusted": true
      },
      "execution_count": 81,
      "outputs": [
        {
          "name": "stdout",
          "text": "şemsiye alma\nprogramı bitir\n",
          "output_type": "stream"
        }
      ]
    },
    {
      "cell_type": "code",
      "source": "hava_durumu = \"yağmurlu\"\nşemsiye_durumu = \"kırılmış\"\n\nif hava_durumu == \"yağmurlu\":\n    if şemsiye_durumu == \"kırılmış\":\n        print(\"bere giy\")\n    else:\n        print(\"şemsiye al\")\nelse:\n    print(\"şemsiye ya da bere alma\")\n\nprint(\"programı bitir\")",
      "metadata": {
        "trusted": true
      },
      "execution_count": 82,
      "outputs": [
        {
          "name": "stdout",
          "text": "bere giy\nprogramı bitir\n",
          "output_type": "stream"
        }
      ]
    },
    {
      "cell_type": "markdown",
      "source": "\"pass\" ifadesi, henüz oluşturulmamış bir kod bloğunun yerine yazılarak programın hata almadan çalışabilmesi amacıyla kullanılmaktadır. Şunu unutmamak gerekir; tamamlanmış bir programda \"pass\" ifadesi yer almamalıdır, bu ifade yalnızca daha sonra tamamlanmak istenen kod bloklarının yerine geçici olarak yerleştirilen bir ifadedir.",
      "metadata": {}
    },
    {
      "cell_type": "code",
      "source": "x = 5\n\nif x == 3:\n    print(\"x'in değeri 3'tür.\")\nelse:\n    pass\n\nprint(\"programı bitir\")",
      "metadata": {
        "trusted": true
      },
      "execution_count": 83,
      "outputs": [
        {
          "name": "stdout",
          "text": "programı bitir\n",
          "output_type": "stream"
        }
      ]
    },
    {
      "cell_type": "markdown",
      "source": "#### 4.4) \"if - elif - else\" Durumu\n\n\"if\" ve \"else\" kavramlarının neye karşılık geldiğinden daha önce bahsedilmişti. Buradaki yeni kavram \"elif\" kavramıdır. \"elif\" İngilizce'deki \"else if\" teriminin kısaltmasıdır. \"else if\", \"eğer değilse\" anlamı taşımaktadır. Örnek vermek gerekirse;\n\nHava durumunun yağmurlu, karlı, güneşli ve rüzgarlı olma ihtimalleri olsun. Yağmurlu koşul için bir sonuç, karlı koşul için başka bir sonuç ve diğer koşullar için de başka bir sonuç oluşturulmak istensin. Yağmurlu koşul için \"if\" kullanıldığında, buna bağlı olan karlı koşula \"elif\" kullanılmaktadır. Çünkü diğer tüm sonuçlar \"else\" altındaki kod bloğuna yazılacaktır. \"if - elif- else\" durumu, Python'da şu şekilde gösterilebilir;\n\nif koşul == birinci_olasılık:\n    \n    birinci kod\n    \nelif koşul == ikinci_olasılık:\n\n    ikinci kod\n    \nelse:\n\n    üçüncü kod",
      "metadata": {}
    },
    {
      "cell_type": "code",
      "source": "#hava durumu koşulları: yağmurlu, karlı, rüzgarlı, güneşli\n\nhava_durumu = \"yağmurlu\"\n\nif hava_durumu == \"yağmurlu\":\n    print(\"şemsiye al\")\nelif hava_durumu == \"karlı\":\n    print(\"bere giy\")\nelse:\n    print(\"evden dışarı çık\")\n    \nprint(\"programı bitir\")",
      "metadata": {
        "trusted": true
      },
      "execution_count": 84,
      "outputs": [
        {
          "name": "stdout",
          "text": "şemsiye al\nprogramı bitir\n",
          "output_type": "stream"
        }
      ]
    },
    {
      "cell_type": "code",
      "source": "#Adenin: Pürin\n#Guanin: Pürin\n#Sitozin: Primidin\n#Timin: Primidin\n\nnükleotit = \"Adenin\"\n\nif nükleotit == \"Adenin\" or nükleotit == \"Guanin\":\n    print(nükleotit, \"bir Pürin'dir.\")\nelif nükleotit == \"Sitozin\" or nükleotit == \"Timin\":\n    print(nükleotit, \"bir Primidin'dir\")\nelse:\n    print(\"Böyle bir nükleotit bulunamamıştır.\")",
      "metadata": {
        "trusted": true
      },
      "execution_count": 85,
      "outputs": [
        {
          "name": "stdout",
          "text": "Adenin bir Pürin'dir.\n",
          "output_type": "stream"
        }
      ]
    },
    {
      "cell_type": "markdown",
      "source": "### 5) Döngüler (while, for)\n     5.1) \"while\" döngüsü\n     \nPython'da döngüler, belirli bir kod bloğunun, programı yeniden başlatmadan tekrar çalıştırılabilmesi amacıyla kullanılmaktadır. İlgili kod bloğunun kaç kez çalışacağı, döngüye tanımlanan koşul ile belirlenmektedir. Tıpkı \"if\" durumunda olduğu gibi, koşul sağlandığı, yani koşulun Boolean değeri True olduğu sürece kod bloğu tekrar çalışır.\n\n\"while\" kelimesinin Türkçe karşılığını \"sürece\" veya \"-iken\" eki olarak tanımlayabiliriz. Böylece \"while\" ifadesinin arkasına bir koşul eklendiği zaman, bunun cümle karşılığı \"koşul sağlandığı sürece\" veya \"koşul sağlanıyorken\" olur. \"while\" döngüsünün Python'daki karşılığı aşağıdaki gibidir.\n\nwhile koşul == True:\n    \n    birinci kod\n\n    ikinci kod\n\n    üçüncü kod",
      "metadata": {}
    },
    {
      "cell_type": "code",
      "source": "x = 0\nwhile x < 5:\n    print(\"x'in değeri:\", x)\n    x = x + 1",
      "metadata": {
        "trusted": true
      },
      "execution_count": 86,
      "outputs": [
        {
          "name": "stdout",
          "text": "x'in değeri: 0\nx'in değeri: 1\nx'in değeri: 2\nx'in değeri: 3\nx'in değeri: 4\n",
          "output_type": "stream"
        }
      ]
    },
    {
      "cell_type": "markdown",
      "source": "Bu noktada \"while\" döngüsü özelinde dikkat edilmesi gereken durum şudur; döngünün kod bloğunun içerisine koşulu değiştirecek ve istenilen bir noktada koşulu sağlamayacak bir kod satırı girilmelidir.\n\nAksi durumda \"while\" döngüsü sonsuz döngüye (infinite loop) girer. Yani döngü (hipotetik olarak) sonsuza kadar (pratikte bilgisayarın gücü yettiğince) kod bloğunu tekrar çalıştırır.",
      "metadata": {}
    },
    {
      "cell_type": "code",
      "source": "#!!!! Bu bloğun el ile durdurulması gerekli\n\"\"\"\nx = 0\nwhile x < 5:\n    print(\"x'in değeri:\", x)\n\"\"\"",
      "metadata": {
        "trusted": true
      },
      "execution_count": 87,
      "outputs": [
        {
          "execution_count": 87,
          "output_type": "execute_result",
          "data": {
            "text/plain": "'\\nx = 0\\nwhile x < 5:\\n    print(\"x\\'in değeri:\", x)\\n'"
          },
          "metadata": {}
        }
      ]
    },
    {
      "cell_type": "markdown",
      "source": "Kod bloğu içerisinde, değişkenin değerini değiştirmek amacıyla kullanılan yöntemler temel matematik işlemleriyse, bunların yerine kısaltılmış varyasyonları kullanılabilir. Toplama, çıkarma, çarpma ve bölme için kısaltılmış varyasyonlar şu şekildedir:\n\n    Toplama: x = x + 1 ----> x += 1\n    Çıkarma: x = x - 1 ----> x -= 1\n    Çarpma:  x = x * 1 ----> x *= 1\n    Bölme:   x = x / 1 ----> x /= 1",
      "metadata": {}
    },
    {
      "cell_type": "code",
      "source": "x = 0\nwhile x < 5:\n    print(\"x'in değeri:\", x)\n    x += 1",
      "metadata": {
        "trusted": true
      },
      "execution_count": 88,
      "outputs": [
        {
          "name": "stdout",
          "text": "x'in değeri: 0\nx'in değeri: 1\nx'in değeri: 2\nx'in değeri: 3\nx'in değeri: 4\n",
          "output_type": "stream"
        }
      ]
    },
    {
      "cell_type": "code",
      "source": "x = 10\nwhile x > 0:\n    print(\"x'in değeri:\", x)\n    x -= 2",
      "metadata": {
        "trusted": true
      },
      "execution_count": 89,
      "outputs": [
        {
          "name": "stdout",
          "text": "x'in değeri: 10\nx'in değeri: 8\nx'in değeri: 6\nx'in değeri: 4\nx'in değeri: 2\n",
          "output_type": "stream"
        }
      ]
    },
    {
      "cell_type": "markdown",
      "source": "Daha önce koşul durumlarında bahsedilen pass ifadesi döngüler için de geçerlidir. Eğer bir döngünün kod bloğu daha sonra belirlenecekse, geçici olarak pass ifadesi yerleştirilebilir.\n\nBuna ek olarak, döngülerde break ifadesi bulunmaktadır. Türkçe'de break kelimesinin anlamı \"ara vermek\" veya \"kırmak\"tır. Bu ifade, kelimenin tam anlamıyla döngüleri kırmak için kullanılır. Eğer döngünün koşulu hiçbir şekilde yanlışlanmıyor yani False dönmüyorsa, break ifadesi döngünün dışına çıkmak için kullanılabilir.\n\nBu noktada dikkat edilmesi gereken şey şudur; eğer döngülerde pass kullanılacaksa arkasına mutlaka break eklenmelidir. Aksi durumda sonsuz döngüye girecektir.\n\n!Not: Döngüler için pass kullanımı zorunlu değildir. Yalnızca break ifadesiyle de pass ifadesinin amacına uygun kullanım sağlanabilir.",
      "metadata": {}
    },
    {
      "cell_type": "code",
      "source": "while True:\n    pass\n    break",
      "metadata": {
        "trusted": true
      },
      "execution_count": 90,
      "outputs": []
    },
    {
      "cell_type": "code",
      "source": "x = 0\nwhile x <= 5:\n    print(\"x'in değeri:\", x)\n    x += 1\n    break",
      "metadata": {
        "trusted": true
      },
      "execution_count": 92,
      "outputs": [
        {
          "name": "stdout",
          "text": "x'in değeri: 0\n",
          "output_type": "stream"
        }
      ]
    },
    {
      "cell_type": "markdown",
      "source": "Döngüyü hemen kırmamak için break ifadesi, koşul durumlar (if - elif - else) ile birleştirilebilir.",
      "metadata": {}
    },
    {
      "cell_type": "code",
      "source": "x = 0\nwhile True:\n    if x < 3:\n        print(\"x'in değeri:\", x)\n        x += 1\n    else:\n        break",
      "metadata": {
        "trusted": true
      },
      "execution_count": 93,
      "outputs": [
        {
          "name": "stdout",
          "text": "x'in değeri: 0\nx'in değeri: 1\nx'in değeri: 2\n",
          "output_type": "stream"
        }
      ]
    },
    {
      "cell_type": "markdown",
      "source": "Tıpkı \"if - else\" durumunda olduğu gibi, \"while\" döngüsü için de koşulu sağlamayan duruma işlem yaptırabilmek adına \"else\" eklenebilmektedir. Burada dikkat edilmesi gereken nokta şudur; else içerisindeki kod bloğuna girebilmek için döngü koşulları tamamlanmalıdır. Yani, döngü içerisine bir break ifadesi eklenirse, program else içerisindeki kod bloğuna girmeyecektir.",
      "metadata": {}
    },
    {
      "cell_type": "code",
      "source": "x = 0\nwhile x < 3:\n    print(\"x'in değeri:\", x)\n    x += 1\nelse:\n    print(\"x'in değeri 3'e eşit veya 3'ten büyüktür.\")",
      "metadata": {
        "trusted": true
      },
      "execution_count": 94,
      "outputs": [
        {
          "name": "stdout",
          "text": "x'in değeri: 0\nx'in değeri: 1\nx'in değeri: 2\nx'in değeri 3'e eşit veya 3'ten büyüktür.\n",
          "output_type": "stream"
        }
      ]
    },
    {
      "cell_type": "markdown",
      "source": "#### 5.2) \"for\" döngüsü\n\nPython'da \"for\" döngüsü, belirli sınır değerleri (başlangıç ve bitiş) olan yapılarla ilgili kod bloklarını, sınır olarak verilen değer kadar tekrar çalıştırmak amacı ile kullanılmaktadır. Sınır değere ihtiyacı olduğundan genellikle karakter dizileri ve listeler gibi veri yapılarıyla uyumlu çalışmaktadır. \"while\" döngüsüne göre avantaj yaratan tarafı ise budur. Döngüyü ilerletmek için bir sayaç eklemek, yani değişken değerini her döngüde değiştirmek gerekmez. Çünkü, hali hazırda kullandığı veri yapısındaki elemanların üzerinden ilerleyerek döngüyü tekrarlar.\n\n\"for\" kelimesi Türkçe'ye \"için\" olaran çevrilebilir. Python gösteriminde \"for\" ve \"in\" ifadeleri beraber kullanılırlar. Yaygın gösterim şu şekildedir: \"for eleman in veri_yapısı\". İfadeyi cümle haline getircek olursak: \"veri_yapısı içindeki her bir eleman için\" denilebilir.\n\n\"for\" döngüsünün Python'daki gösterimi şu şekildedir;\n\nfor eleman in veri_yapısı:\n\n    birinci kod\n    \n    ikinci kod\n    \nYukarıdaki özellikleri bakımından, \"for\" döngüsü matematikteki toplam sembolüne benzetilebilir. Üstelik Python'da, bir başlangıç değerinden(m) bitiş değerine(n) kadar, sayıları toplamanın en etkili yollarından biri for döngüsünü kullanmaktır. \n\n![Toplam Sembolü ile Toplama İşleminin Gösterimi](https://wikimedia.org/api/rest_v1/media/math/render/svg/8c8461090bf2c187f304e8f3c3ade683c197f397)\n\nErişim Adresi: https://en.wikipedia.org/wiki/Summation",
      "metadata": {}
    },
    {
      "cell_type": "code",
      "source": "sayılar_listesi = [1, 2, 3, 4, 5]\n\nfor sayı in sayılar_listesi:\n    print(\"listenin \" + str(sayı) + \". elemanı:\", sayı)",
      "metadata": {
        "trusted": true
      },
      "execution_count": 95,
      "outputs": [
        {
          "name": "stdout",
          "text": "listenin 1. elemanı: 1\nlistenin 2. elemanı: 2\nlistenin 3. elemanı: 3\nlistenin 4. elemanı: 4\nlistenin 5. elemanı: 5\n",
          "output_type": "stream"
        }
      ]
    },
    {
      "cell_type": "code",
      "source": "sayılar_listesi = [1, 2, 3, 4, 5]\ntoplam = 0\n\nfor sayı in sayılar_listesi:\n    toplam += sayı\n    \nprint(\"sayılar listesindeki elemanların toplamı:\", toplam)",
      "metadata": {
        "trusted": true
      },
      "execution_count": 96,
      "outputs": [
        {
          "name": "stdout",
          "text": "sayılar listesindeki elemanların toplamı: 15\n",
          "output_type": "stream"
        }
      ]
    },
    {
      "cell_type": "code",
      "source": "sayılar_listesi = [1, 2, 3, 4, 5]\nsayıların_kareleri_listesi = []\n\nfor sayı in sayılar_listesi:\n    sayıların_kareleri_listesi.append(sayı ** 2)\n    \nprint(sayıların_kareleri_listesi)",
      "metadata": {
        "trusted": true
      },
      "execution_count": 97,
      "outputs": [
        {
          "name": "stdout",
          "text": "[1, 4, 9, 16, 25]\n",
          "output_type": "stream"
        }
      ]
    },
    {
      "cell_type": "markdown",
      "source": "Elemanları sayılardan oluşan listeler gibi, karakter dizilerinden oluşan listeler de for döngüsü ile yinelenebilir(iteration). Bununla birlikte, bir karakter dizisindeki tüm karakterler for döngüsü ile yinelenip, her eleman teker teker print fonksiyonuyla bastırılabilir.",
      "metadata": {}
    },
    {
      "cell_type": "code",
      "source": "programlama_dilleri_listesi = [\"Python\", \"R\", \"Perl\", \"Matlab\"]\n\nfor dil in programlama_dilleri_listesi:\n    print(dil, \"biyoenformatikte kullanılan bir programlama dilidir.\")",
      "metadata": {
        "trusted": true
      },
      "execution_count": 98,
      "outputs": [
        {
          "name": "stdout",
          "text": "Python biyoenformatikte kullanılan bir programlama dilidir.\nR biyoenformatikte kullanılan bir programlama dilidir.\nPerl biyoenformatikte kullanılan bir programlama dilidir.\nMatlab biyoenformatikte kullanılan bir programlama dilidir.\n",
          "output_type": "stream"
        }
      ]
    },
    {
      "cell_type": "code",
      "source": "karakter_dizisi = \"Pyhton\"\n\nfor karakter in karakter_dizisi:\n    print(karakter)",
      "metadata": {
        "trusted": true
      },
      "execution_count": 99,
      "outputs": [
        {
          "name": "stdout",
          "text": "P\ny\nh\nt\no\nn\n",
          "output_type": "stream"
        }
      ]
    },
    {
      "cell_type": "markdown",
      "source": "\"while\" döngüsünde olduğu gibi, \"for\" döngüsünde de else ifadesi bulunmaktadır. Burada else, genellikle veri yapısındaki bütün veya yinelenmesi istenen elemanların tamamının işlemlerinin gerçekleştirildiğini gösteren bir mesaj bırakmak için kullanılır.",
      "metadata": {}
    },
    {
      "cell_type": "code",
      "source": "sayılar_listesi = [1, 2, 3]\n\nfor sayı in sayılar_listesi:\n    print(\"listenin \" + str(sayı) + \". elemanı:\", sayı)\nelse:\n    print(\"listedeki tüm sayılar bitti.\")",
      "metadata": {
        "trusted": true
      },
      "execution_count": 100,
      "outputs": [
        {
          "name": "stdout",
          "text": "listenin 1. elemanı: 1\nlistenin 2. elemanı: 2\nlistenin 3. elemanı: 3\nlistedeki tüm sayılar bitti.\n",
          "output_type": "stream"
        }
      ]
    },
    {
      "cell_type": "markdown",
      "source": "CHARGAFF EŞİTLİK KURALI\n\nAvusturyalı Biyokimyacı [Erwin Chargaff](https://en.wikipedia.org/wiki/Erwin_Chargaff)'ın keşfine göre, çift iplikli DNA sarmalında pürinlerin sayısı primidinlerin sayısına eşittir.\n\nYani çift iplikli bir DNA sarmalında, esas(template) zincirde adenin(A) bazı varsa buna karşılık tamamlayıcı(complement) zincirde timin(T) bazı, esas zincirde guanin(G) bazı varsa buna karşılık tamamlayıcı zincirde sitozin(C) bazı olmalıdır. Aynı kuralın tersi de geçerlidir.\n\n![Chargaff Kuralının Gösterimi](https://upload.wikimedia.org/wikipedia/commons/d/d4/DNA_Diagram.png)\n\nErişim Adresi: https://en.wikipedia.org/wiki/Chargaff%27s_rules",
      "metadata": {}
    },
    {
      "cell_type": "code",
      "source": "esas_zincir = \"ATGCATGCATGC\"\ntamamlayıcı_zincir = \"\"\n\nfor nükleotit in esas_zincir:\n    if nükleotit == \"A\":\n        tamamlayıcı_zincir += \"T\"\n    elif nükleotit == \"T\":\n        tamamlayıcı_zincir += \"A\"\n    elif nükleotit == \"G\":\n        tamamlayıcı_zincir += \"C\"\n    else:\n        tamamlayıcı_zincir += \"G\"\n        \nprint(\"tamamlayıcı zincirin dizisi:\", tamamlayıcı_zincir)",
      "metadata": {
        "trusted": true
      },
      "execution_count": 101,
      "outputs": [
        {
          "name": "stdout",
          "text": "tamamlayıcı zincirin dizisi: TACGTACGTACG\n",
          "output_type": "stream"
        }
      ]
    },
    {
      "cell_type": "markdown",
      "source": "### 6) Hata Ayıklama (try-except)\n     6.1) Hata Çıkarma (try-except-finally)\n     \nPython'da geliştirilen programlarda bazen yazım yanlışlarından kaynaklı hatalar veya mantık hataları oluşabilir. Hata oluşabileceği düşünülen kodlar \"try\", \"except\" ve \"finally\" ifadeleri ile kontrol edilebilir. Python'da tanımlı olan hatalardan bazıları şu şekildedir;\n\n|Hata |Açıklama|\n|-----|--------|\n|NameError|Bir değişken tanımlanmadığı halde çağrıldığında ortaya çıkar|\n|AttributeError|Veri tipine veya veri yapısına uygun olmayan metot kullanıldığında ortaya çıkar|\n|TypeError|Veri tipi ile ilgili hatalı işlem yapıldığında ortaya çıkar|\n|ZeroDivisionError|Bir sayı sıfıra bölünmeye çalışıldığında ortaya çıkar|\n\n\"try\" ifadesi Türkçe'ye \"dene-mek\" olarak çevrilebilir.\"except\" ise \"istisna\" demektir. Bu kalıbı kullanmamızın en önemli sebebi, oluşan hataların programı durdurmasıdır. Bir diğer sebep ise, çıkan hata yazılarını programı kullanan kişilerin anlayamaması ihtimalinin olmasıdır. Bu nedenle hata oluşabilecek yerlerde programı kontrol etme, gerekirse programı kaldığı yerden tekrar çalıştırma ve kullanıcıdan alınan girdiye bağlı bir hata gelişiyorsa, kullanıcıya anlayabileceği bir mesaj bırakma gibi sebepler ile try-except-finally ifadesini kullanırız.\n\nHata çıkarma kalıbının Python'daki gösterimi şu şekildedir:\n\ntry:\n\n    hata oluştuma ihtimali olan kod satırı\n    \nexcept hata_türü:\n\n    n. satırdaki koddan dolayı bir hata oluştuğunu belirten mesaj\n    \nfinally:\n\n    kullanıcının müdahalesinin gerektiren bir durum ise, öneriyi belirleyen mesaj",
      "metadata": {}
    },
    {
      "cell_type": "code",
      "source": "try:\n    print(\"Merhaba\".append(\"Dünya\"))\nexcept AttributeError:\n    print(\"Kullandığınız metot uygun değildir\")",
      "metadata": {
        "trusted": true
      },
      "execution_count": 102,
      "outputs": [
        {
          "name": "stdout",
          "text": "Kullandığınız metot uygun değildir\n",
          "output_type": "stream"
        }
      ]
    },
    {
      "cell_type": "code",
      "source": "a = \"5\"\nb = 3\n\ntry:\n    print(a + b)\nexcept TypeError:\n    print(\"Bir sayı ile karakter toplanamaz\")",
      "metadata": {
        "trusted": true
      },
      "execution_count": 103,
      "outputs": [
        {
          "name": "stdout",
          "text": "Bir sayı ile karakter toplanamaz\n",
          "output_type": "stream"
        }
      ]
    },
    {
      "cell_type": "code",
      "source": "a = 5\n\ntry:\n    print(a / 0)\nexcept ZeroDivisionError:\n    print(\"Bir sayı sıfıra bölündüğünde sonsuz verir\")",
      "metadata": {
        "trusted": true
      },
      "execution_count": 104,
      "outputs": [
        {
          "name": "stdout",
          "text": "Bir sayı sıfıra bölündüğünde sonsuz verir\n",
          "output_type": "stream"
        }
      ]
    },
    {
      "cell_type": "code",
      "source": "n = 3\n\ntry:\n    print(n + k)\nexcept NameError:\n    print(\"k değişkeni tanımlanmamıştır\")\n    print(\"lütfen k değişkenini tanımlayınız\")",
      "metadata": {
        "trusted": true
      },
      "execution_count": 105,
      "outputs": [
        {
          "name": "stdout",
          "text": "k değişkeni tanımlanmamıştır\nlütfen k değişkenini tanımlayınız\n",
          "output_type": "stream"
        }
      ]
    },
    {
      "cell_type": "markdown",
      "source": "Hata türünün ne olduğunun belirlenemediği durumlarda, \"except\" ifadesinin sonuna tür eklenmeden genel bir hata kontrolü yapılabilir.",
      "metadata": {}
    },
    {
      "cell_type": "code",
      "source": "x = 3\n\ntry:\n    print(x + y)\nexcept:\n    print(\"Bir hata oluştu\")",
      "metadata": {
        "trusted": true
      },
      "execution_count": 106,
      "outputs": [
        {
          "name": "stdout",
          "text": "3\n",
          "output_type": "stream"
        }
      ]
    },
    {
      "cell_type": "markdown",
      "source": "Birden fazla kod satırı beraber kontrol edilip, birden fazla istisna(except) oluşturulabilir.\n\n\"finally\" ifadesi, hata oluşsa da oluşmasa da çalışacaktır.",
      "metadata": {}
    },
    {
      "cell_type": "code",
      "source": "sayı1 = 3\nsayı2 = 5\n\ntry:\n    print(sayı1 + sayı2)\n    #print(sayı2 + sayı3)\nexcept TypeError:\n    print(\"Bir sayı ile karakter toplanamaz\")\nexcept AttributeError:\n    print(\"Kullandığınız metot uygun değildir\")\nexcept:\n    print(\"Bilinmeyen bir hata oluştu\")\n    print(\"Lütfen programın geliştiricisi ile görüşünüz\")\nfinally:\n    print(\"Program tamamlandı...\")",
      "metadata": {
        "trusted": true
      },
      "execution_count": 107,
      "outputs": [
        {
          "name": "stdout",
          "text": "8\nProgram tamamlandı...\n",
          "output_type": "stream"
        }
      ]
    },
    {
      "cell_type": "markdown",
      "source": "#### 6.2) İstisna Oluşturma (raise an exception)\n\n\"raise\" ifadesi Türkçe'ye \"yükseltmek\" olarak çevrilmektedir. \"raise an exception\" kalıbının tam çevirisi ise \"istisna oluşturmak\" demektir. Buradaki istisna oluşturmadan kasıt, programa belirli sınır koşulları eklemek ve sınır dışına çıkan istisnaları kontrol etmek anlamındadır.\n\nÖrneğin, programınızda bir değişken 5'ten büyük bir sayıya denk gelmemeli. Yani sınır değeriniz 5. Python'da bir değişkenin 5'ten büyük olması teknik bir hata değildir. Bununla birlikte, programa 5 sınırını koymak için manuel olarak hata eklenebilmektedir. Bu manuel hata ekleme işlemi \"raise an exception\" yani istisna oluşturmadır.\n\n\"raise\" ifadesi \"if\" ile birleştirilerek kullanılabilir. Bu durumda istisna oluşturmanın Python gösterimi şu şekilde olacaktır;\n\nif koşul > sınır_değeri:\n\n    raise Exception(\"Sınır değer geçildi\")",
      "metadata": {}
    },
    {
      "cell_type": "code",
      "source": "x = 3\n\nif x > 2:\n    raise Exception(\"Sınır değer geçildi\")",
      "metadata": {
        "trusted": true
      },
      "execution_count": 108,
      "outputs": [
        {
          "ename": "<class 'Exception'>",
          "evalue": "Sınır değer geçildi",
          "traceback": [
            "\u001b[0;31m---------------------------------------------------------------------------\u001b[0m",
            "\u001b[0;31mException\u001b[0m                                 Traceback (most recent call last)",
            "Cell \u001b[0;32mIn[108], line 4\u001b[0m\n\u001b[1;32m      1\u001b[0m x \u001b[38;5;241m=\u001b[39m \u001b[38;5;241m3\u001b[39m\n\u001b[1;32m      3\u001b[0m \u001b[38;5;28;01mif\u001b[39;00m x \u001b[38;5;241m>\u001b[39m \u001b[38;5;241m2\u001b[39m:\n\u001b[0;32m----> 4\u001b[0m     \u001b[38;5;28;01mraise\u001b[39;00m \u001b[38;5;167;01mException\u001b[39;00m(\u001b[38;5;124m\"\u001b[39m\u001b[38;5;124mSınır değer geçildi\u001b[39m\u001b[38;5;124m\"\u001b[39m)\n",
            "\u001b[0;31mException\u001b[0m: Sınır değer geçildi"
          ],
          "output_type": "error"
        }
      ]
    },
    {
      "cell_type": "code",
      "source": "#tek basamaklı sayıların küpünü bulan program\n\nx = 10\n\nif x > 9 or x < -9:\n    raise Exception(\"Yalnızca tek basamaklı sayılar kabul edilmektedir.\")\nelse:\n    küp = x ** 3\n    print(\"Girilen sayının küpü:\", küp)",
      "metadata": {
        "trusted": true
      },
      "execution_count": 109,
      "outputs": [
        {
          "ename": "<class 'Exception'>",
          "evalue": "Yalnızca tek basamaklı sayılar kabul edilmektedir.",
          "traceback": [
            "\u001b[0;31m---------------------------------------------------------------------------\u001b[0m",
            "\u001b[0;31mException\u001b[0m                                 Traceback (most recent call last)",
            "Cell \u001b[0;32mIn[109], line 6\u001b[0m\n\u001b[1;32m      3\u001b[0m x \u001b[38;5;241m=\u001b[39m \u001b[38;5;241m10\u001b[39m\n\u001b[1;32m      5\u001b[0m \u001b[38;5;28;01mif\u001b[39;00m x \u001b[38;5;241m>\u001b[39m \u001b[38;5;241m9\u001b[39m \u001b[38;5;129;01mor\u001b[39;00m x \u001b[38;5;241m<\u001b[39m \u001b[38;5;241m-\u001b[39m\u001b[38;5;241m9\u001b[39m:\n\u001b[0;32m----> 6\u001b[0m     \u001b[38;5;28;01mraise\u001b[39;00m \u001b[38;5;167;01mException\u001b[39;00m(\u001b[38;5;124m\"\u001b[39m\u001b[38;5;124mYalnızca tek basamaklı sayılar kabul edilmektedir.\u001b[39m\u001b[38;5;124m\"\u001b[39m)\n\u001b[1;32m      7\u001b[0m \u001b[38;5;28;01melse\u001b[39;00m:\n\u001b[1;32m      8\u001b[0m     küp \u001b[38;5;241m=\u001b[39m x \u001b[38;5;241m*\u001b[39m\u001b[38;5;241m*\u001b[39m \u001b[38;5;241m3\u001b[39m\n",
            "\u001b[0;31mException\u001b[0m: Yalnızca tek basamaklı sayılar kabul edilmektedir."
          ],
          "output_type": "error"
        }
      ]
    },
    {
      "cell_type": "markdown",
      "source": "\"raise\" ifadesi, \"try-except-finally\" kalıbı ile birleştirilebilir. \"try\" kod bloğunun altına \"raise\" ifadesi yerleştirilirse, ifade sonucu oluşan istisna \"except\" kod bloğuna girilmesine neden olacaktır. Bu sayede program, doğrudan hata çıkarmak yerine, kullanıcıya \"print()\" aracılığıyla hata mesajı verebilecektir.",
      "metadata": {}
    },
    {
      "cell_type": "code",
      "source": "#DNA: A, T, G, C  -  RNA: A, U, G, C \n\ndna = \"AUGCAUGCAUGC\"\n\ntry:\n    for nükleotit in dna:\n        #if nükleotit != \"A\" and nükleotit != \"T\" and nükleotit != \"G\" and nükleotit != \"C\":\n        if nükleotit not in [\"A\", \"T\", \"G\", \"C\"]:\n            raise Exception()\n            break\nexcept Exception:\n    print(\"DNA dizisinde hatalı gösterim bulundu:\", nükleotit)",
      "metadata": {
        "trusted": true
      },
      "execution_count": 110,
      "outputs": [
        {
          "name": "stdout",
          "text": "DNA dizisinde hatalı gösterim bulundu: U\n",
          "output_type": "stream"
        }
      ]
    },
    {
      "cell_type": "markdown",
      "source": "### 7) Fonksiyon Tanımlama (def)\n\nPython'da fonksiyon oluşturmanın temel mantığı, matematikteki fonksiyonlar konusuna dayanmaktadır. Matematikte fonksiyonun tanımı, \"bağımsız bir değişken ile buna bağlı başka bir değişken arasındaki ilişkinin ifadesi veya kuralı\" olarak geçmektedir(1). Programlamada fonksiyonların temel kullanım amacı, belirli bir kod bloğuna birden fazla yerde ihtiyaç duyulması halinde aynı bloğu tekrar yazmamak, bunun yerine bir fonksiyon çatısı altında toplayarak gerekli yerlerde çağırmaktır.\n\nBasitçe özetlemek gerekirse, bir fonksiyon;\n    \n    a) İçerisine girdi(input) olarak bir değişken alır,\n    \n    b) Değişkene bağlı olarak bazı işlemler(processes) yapar,\n    \n    c) İşlemler sonucu oluşan çıktıyı(output) sonuç olarak geri döndürür.\n    \nBir örnek vermek gerekirse(2);\n\n\"f\" isminde bir fonksiyonumuz ve \"x\" isminde <font color = \"red\">yalnızca sayısal değere sahip olabilen</font> bir değişkenimiz olsun. \"f\" fonksiyonu \"x\" değişkenini girdi olarak alan ve \"3\" sabit sayısı ile toplayan bir göreve sahip olsun. Bu ifadenin matematiksel ifadesi şu şekilde olacaktır;\n\nf(x) = x + 3\n\nBu durumda, \"x\" değişkeni 2 sayısına eşit olduğunda fonksiyon 5, 8 sayısına eşit olduğunda fonksiyon 11 sonucunu döndürecektir.\n\nf(2) = 2 + 3 = 5\n\nf(8) = 8 + 3 = 11\n\nYukarıdaki ifadenin python gösterimi şu şekilde olacaktır;\n\ndef f(x):\n\n    return x + 3\n    \nPython gösterimini açıklamak gerekirse, \"def\" ifadesi İngilizce'deki \"define\" kelimesinin kısaltmasına yani Türkçe'de \"tanımla\" kelimesine karşılık gelmektedir. \"return\" ise \"döndür\" demektir. İfadeyi cümle haline getirecek olursak, \"x değişkeni alan f isminde bir fonksiyon tanımla ve x + 3 olarak döndür\" şeklinde çevrilebilir.\n\n1) Function, Britannica Ansiklopedisi. Erişim Adresi: https://www.britannica.com/science/function-mathematics\n2) Introduction to functions, MathCentre. Erişim Adresi: https://www.mathcentre.ac.uk/resources/uploaded/mc-ty-introfns-2009-1.pdf",
      "metadata": {}
    },
    {
      "cell_type": "code",
      "source": "#Bir fonksiyon tanımlanırken, içerisinde return olan başka bir fonksiyon çalıştırıyorsa \"return\" eklemeye gerek yoktur.\n\ndef karakter_dizisi_bas():\n    print(\"Merhaba Dünya\")\n    \nkarakter_dizisi_bas()",
      "metadata": {
        "trusted": true
      },
      "execution_count": 111,
      "outputs": [
        {
          "name": "stdout",
          "text": "Merhaba Dünya\n",
          "output_type": "stream"
        }
      ]
    },
    {
      "cell_type": "code",
      "source": "def giris_mesajı(kullanıcı_adı):\n    print(\"Merhaba\", kullanıcı_adı)\n    \nkullanıcı_adı = \"Ahmet\"\ngiris_mesajı(kullanıcı_adı)",
      "metadata": {
        "trusted": true
      },
      "execution_count": 112,
      "outputs": [
        {
          "name": "stdout",
          "text": "Merhaba Ahmet\n",
          "output_type": "stream"
        }
      ]
    },
    {
      "cell_type": "code",
      "source": "def f(x):\n    return x + 3\n\nsonuc = f(2)\nprint(sonuc)",
      "metadata": {
        "trusted": true
      },
      "execution_count": 113,
      "outputs": [
        {
          "name": "stdout",
          "text": "5\n",
          "output_type": "stream"
        }
      ]
    },
    {
      "cell_type": "markdown",
      "source": "Bir fonksiyon birden fazla değişken alabilir (Örnek; f(x, y)) ve birden fazla sonucu döndürebilir.",
      "metadata": {}
    },
    {
      "cell_type": "code",
      "source": "def islemler(sayı1, sayı2):\n    toplam = sayı1 + sayı2\n    fark = sayı1 - sayı2\n    return toplam, fark\n\nsayı1 = 5\nsayı2 = 3\n\ntoplam, fark = islemler(sayı1, sayı2)\n\nprint(\"toplam:\", toplam)\nprint(\"fark:\", fark)",
      "metadata": {
        "trusted": true
      },
      "execution_count": 114,
      "outputs": [
        {
          "name": "stdout",
          "text": "toplam: 8\nfark: 2\n",
          "output_type": "stream"
        }
      ]
    },
    {
      "cell_type": "markdown",
      "source": "Daha önce bahsedilen \"pass\" ifadesi fonksiyonlar için de geçerlidir.",
      "metadata": {}
    },
    {
      "cell_type": "code",
      "source": "def fonksiyon():\n    pass\n\nfonksiyon()",
      "metadata": {
        "trusted": true
      },
      "execution_count": 115,
      "outputs": []
    },
    {
      "cell_type": "code",
      "source": "# Hesap makinesi\n\ndef hesap_makinesi(islem, sayı1, sayı2):\n    if islem == \"toplama\":\n        return sayı1 + sayı2\n    elif islem == \"çıkarma\":\n        return sayı1 - sayı2\n    elif islem == \"çarpma\":\n        return sayı1 * sayı2\n    elif islem == \"bölme\":\n        return sayı1 / sayı2\n    else:\n        return \"Böyle bir işlem bulunmamaktadır\"\n        \nsayı1 = 8\nsayı2 = 4\nislem = \"toplama\"\n\nsonuc = hesap_makinesi(islem, sayı1, sayı2)\nprint(sonuc)",
      "metadata": {
        "trusted": true
      },
      "execution_count": 116,
      "outputs": [
        {
          "name": "stdout",
          "text": "12\n",
          "output_type": "stream"
        }
      ]
    },
    {
      "cell_type": "markdown",
      "source": "MENDEL KALITIMI\n\nMendel kalıtımının temel prensipleri [Gregor Johann Mendel](https://en.wikipedia.org/wiki/Gregor_Mendel) tarafından belirlenmiştir. Mendel prensiplerine göre, \"allel\" adı verilen genetik özellikler ebeveynlerden (biri anneden ve biri babadan) kalıtılır(1). Bu özellikler <font color = red>baskın</font> ve <font color = red>çekinik</font> olabilirler. Eğer, ebeveynlerin birinden baskın, diğerinden çekinik özellik alınırsa, birey çekinik özelliği de taşımasına rağmen baskın özelliğin etkilerini dışarıya gösterecektir. Örnek vermek gerekirse;\n\nKahverengi göz rengi özelliği baskın, mavi göz rengi özelliği çekiniktir(2). Annede yalnızca kahverengi göz renginin özelliklerinin olduğu (kk), babada ise yalnızca mavi göz rengi özelliklerinin olduğu (mm) varsayılsın. Dünyaya gelecek yavrunun hangi göz rengine sahip olacağı olasılığı şu şekilde hesaplanır;\n\nanne: k(1)k(2), baba: m(1)m(2)\n\nolasılıklar: k(1)m(1), k(1)m(2), k(2)m(1), k(2)m(2) \n\n- Annedeki göz rengi özelliklerinden 1.'si ile babadaki göz rengi özelliklerinden 1.'si alınabilir.\n- Annedeki göz rengi özelliklerinden 1.'si ile babadaki göz rengi özelliklerinden 2.'si alınabilir.\n- Annedeki göz rengi özelliklerinden 2.'si ile babadaki göz rengi özelliklerinden 1.'si alınabilir.\n- Annedeki göz rengi özelliklerinden 2.'si ile babadaki göz rengi özelliklerinden 2.'si alınabilir.\n\nBöylelikle yavrunun 4 kombinasyonda da birer kahverengi ve mavi özelliği aldığını görüyoruz. Kahverengi baskın olduğundan, 4 olasılıktan hangisi olursa olsun yavru kahverengi göz rengine sahip olacaktır. Yani kahverengi olma olasılığı %100'dür.\n\nBu noktada şu unutulmamalıdır; Mendel kalıtımı modern genetiğin gelişmesine çok büyük katkılar sağlamış olmasına rağmen, günümüzde bir özelliğin birden fazla gen tarafından kontrol edilebildiğini biliyoruz. Yani modern genetiğe ve yeni keşiflere göre mavi gözlü bir anne ve babanın kahverengi gözlü bir çocuğa sahip olma ihtimali vardır(3).\n\nKan gruplarını genetik bir özellik olarak değerlendirip, mendel kalıtımı ile çözümlendirebiliriz. Toplamda 4 çeşit kan grubu (A, B, AB ve O) bulunmaktadır(4). Bu kan gruplarından A ve B birbirine eşit baskınlık gösterirken O'a göre baskındır, yani O grubu çekinik özelliktedir. Bu bilgiler doğrultusunda, ebeveynlerinin kan grubu bilinen bir bireyin kan grubunun ne olacağının olasılıkları hesaplamalı yöntemlerle belirlenebilir.\n\n1) Mendelian inheritance, Wikipedia. Erişim Adresi: https://en.wikipedia.org/wiki/Mendelian_inheritance\n2) What colour are your eyes? Teaching the genetics of eye colour & colour vision, Eye. Erişim Adresi: https://www.nature.com/articles/s41433-021-01749-x\n3) Mavi Gözlü Anne-Babaların Nasıl Kahverengi Gözlü Çocukları Olabilir?, Evrim Ağacı. Erişim Adresi: https://evrimagaci.org/mavi-gozlu-annebabalarin-nasil-kahverengi-gozlu-cocuklari-olabilir-345\n4) Blood Groups, National Healt Service. Erişim Adresi: https://www.nhs.uk/conditions/blood-groups/",
      "metadata": {}
    },
    {
      "cell_type": "code",
      "source": "def kan_grubu_olasılıkları(anne, baba):\n\n    olasılıklar = []\n\n    for annenin_kan_grubu_özelliği in anne:\n        for babanın_kan_grubu_özelliği in baba:\n            olasılıklar.append(annenin_kan_grubu_özelliği + babanın_kan_grubu_özelliği)\n            \n    return olasılıklar\n            \n    \nanne = \"AA\"\nbaba = \"BB\"\n\nolasılıklar = kan_grubu_olasılıkları(anne, baba)\n\nfor olasılık in olasılıklar:\n    print(olasılık)",
      "metadata": {
        "trusted": true
      },
      "execution_count": 117,
      "outputs": [
        {
          "name": "stdout",
          "text": "AB\nAB\nAB\nAB\n",
          "output_type": "stream"
        }
      ]
    },
    {
      "cell_type": "markdown",
      "source": "### 8) Range ve Lambda Fonksiyonları\n     8.1) Range Fonksiyonu\n     \n\"Range\" kelimesinin Türkçe karşılığı \"aralık\" anlamına gelmektedir. Range fonksiyonu genellikle for döngüsü ve listeler ile birlikte kullanılır. Range fonksiyonu verilen aralıkta bir sayı dizisi oluşturmak için kullanılır. Fonksiyon içine en fazla üç parametre alabilmektedir ve en az bir parametre girilmesi zorunludur;\n\n- Eğer bir parametre girlirse, 0'dan girilen değere kadar sayı üretir (0'dan y'ye kadar).\n- Eğer iki parametre girilirse, soldaki başlangıç ve sağdaki bitiş değeri olur ve bu aralıkta sayı üretir (x'ten y'ye kadar).\n- Eğer üç parametre girilirse, soldaki başlangıç, ortadaki bitiş ve sağdaki adım değeri olur ve başlangıçtan bitişe kadarki aralıkta adım değeri kadar atlaya atlaya sayı üretir (x'ten y'ye kadar, n'er adım atlayarak).\n\nRange fonksiyonunun Python gösterimi şu şekildedir;\n\nrange(başlangıç_değeri, bitiş_değeri, adım_değeri)\n\n*başlangıç_değeri: opsiyonel, bitiş_değeri: zorunlu, adım_değeri: opsiyonel",
      "metadata": {}
    },
    {
      "cell_type": "code",
      "source": "# range fonksiyonu tek başına hiçbir anlam ifade etmez.\n\na = range(3)\nprint(a)",
      "metadata": {
        "trusted": true
      },
      "execution_count": 118,
      "outputs": [
        {
          "name": "stdout",
          "text": "range(0, 3)\n",
          "output_type": "stream"
        }
      ]
    },
    {
      "cell_type": "code",
      "source": "for yineleme in range(3):\n    print(yineleme)",
      "metadata": {
        "trusted": true
      },
      "execution_count": 119,
      "outputs": [
        {
          "name": "stdout",
          "text": "0\n1\n2\n",
          "output_type": "stream"
        }
      ]
    },
    {
      "cell_type": "code",
      "source": "for yineleme in range(3, 5):\n    print(yineleme)",
      "metadata": {
        "trusted": true
      },
      "execution_count": 120,
      "outputs": [
        {
          "name": "stdout",
          "text": "3\n4\n",
          "output_type": "stream"
        }
      ]
    },
    {
      "cell_type": "code",
      "source": "for yineleme in range(0, 10, 2):\n    print(yineleme)",
      "metadata": {
        "trusted": true
      },
      "execution_count": 121,
      "outputs": [
        {
          "name": "stdout",
          "text": "0\n2\n4\n6\n8\n",
          "output_type": "stream"
        }
      ]
    },
    {
      "cell_type": "markdown",
      "source": "Range fonksiyonunun en yaygın kullanımı, karakter dizisi barındıran listelerin for döngüsünde yinelenmesinin sağlanmasıdır. Karakter dizileri tamsayı değerlerine sahip olmadığından range fonksiyonu, ihtiyaç olması durumundaki tamsayı değerlerini karşılar. Bunun için \"range\" ve listeler konusundaki \"len\" fonksiyonları birleştirilir. ",
      "metadata": {}
    },
    {
      "cell_type": "code",
      "source": "nükleotit_dizileri = [\"ATGC\", \"TGCA\", \"GCAT\", \"CATG\"]\n\nfor endeks in range(len(nükleotit_dizileri)):\n    print(nükleotit_dizileri[endeks] + \" dizisi listenin \" + str(endeks) + \" endeks numaralı elemanıdır.\")",
      "metadata": {
        "trusted": true
      },
      "execution_count": 122,
      "outputs": [
        {
          "name": "stdout",
          "text": "ATGC dizisi listenin 0 endeks numaralı elemanıdır.\nTGCA dizisi listenin 1 endeks numaralı elemanıdır.\nGCAT dizisi listenin 2 endeks numaralı elemanıdır.\nCATG dizisi listenin 3 endeks numaralı elemanıdır.\n",
          "output_type": "stream"
        }
      ]
    },
    {
      "cell_type": "markdown",
      "source": "#### 8.2) Lambda Fonksiyonu\n\nLambda fonksiyonu, tıpkı \"def\" ifadesi gibi fonksiyon oluşturmak için kullanılır. Burada lambda iki yönüyle farklılık gösterir;\n\n- Lambda fonksiyonu anonim, yani isimsizdir. Bunun yerine lambda genellikle bir değişkenin içerisine atanarak isimlendirilir.\n- Lambda fonksiyonu, \"def\" ifadesinin yapabildiği kadar karmaşık fonksiyonlar oluşturamaz. Daha basit ve küçük fonksiyonlar oluşturmak için kullanılır.\n\nLambda fonksiyonunun Python gösterimi şu şekildedir;\n\nfonksiyon = lambda parametre(ler) : işlem(ler)",
      "metadata": {}
    },
    {
      "cell_type": "code",
      "source": "# def ile oluşturulan karakter_dizisi_bas() fonksiyonunun lambda versiyonu\n\nkarakter_dizisi_bas = lambda : print(\"Merhaba Dünya\")\n\nkarakter_dizisi_bas()",
      "metadata": {
        "trusted": true
      },
      "execution_count": 123,
      "outputs": [
        {
          "name": "stdout",
          "text": "Merhaba Dünya\n",
          "output_type": "stream"
        }
      ]
    },
    {
      "cell_type": "code",
      "source": "# def ile oluşturulan giris_mesajı() fonksiyonunun lambda versiyonu\n\ngiris_mesajı = lambda kullanıcı_adı : print(\"Merhaba\", kullanıcı_adı)\n\nkullanıcı_adı = \"Ahmet\"\ngiris_mesajı(kullanıcı_adı)",
      "metadata": {
        "trusted": true
      },
      "execution_count": 124,
      "outputs": [
        {
          "name": "stdout",
          "text": "Merhaba Ahmet\n",
          "output_type": "stream"
        }
      ]
    },
    {
      "cell_type": "code",
      "source": "# girilen bir sayının karesini alan lambda fonksiyonu\n\nkare_alma = lambda x : x ** 2\n\nx = 5\nkare_alma(x)",
      "metadata": {
        "trusted": true
      },
      "execution_count": 125,
      "outputs": [
        {
          "execution_count": 125,
          "output_type": "execute_result",
          "data": {
            "text/plain": "25"
          },
          "metadata": {}
        }
      ]
    },
    {
      "cell_type": "code",
      "source": "# girilen iki sayıyı toplayan lambda fonksiyonu\n\ntoplama = lambda x, y : x + y\n\nx = 3\ny = 5\n\ntoplama(x, y)",
      "metadata": {
        "trusted": true
      },
      "execution_count": 126,
      "outputs": [
        {
          "execution_count": 126,
          "output_type": "execute_result",
          "data": {
            "text/plain": "8"
          },
          "metadata": {}
        }
      ]
    }
  ]
}