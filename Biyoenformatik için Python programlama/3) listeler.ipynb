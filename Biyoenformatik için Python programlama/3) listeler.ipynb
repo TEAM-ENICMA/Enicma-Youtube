{
  "metadata": {
    "language_info": {
      "codemirror_mode": {
        "name": "python",
        "version": 3
      },
      "file_extension": ".py",
      "mimetype": "text/x-python",
      "name": "python",
      "nbconvert_exporter": "python",
      "pygments_lexer": "ipython3",
      "version": "3.8"
    },
    "kernelspec": {
      "name": "python",
      "display_name": "Python (Pyodide)",
      "language": "python"
    }
  },
  "nbformat_minor": 4,
  "nbformat": 4,
  "cells": [
    {
      "cell_type": "markdown",
      "source": "### 3) Listeler ve Sözlükler\n     3.1) Listeler\n     \nListeler, içerisinde birden fazla değer(eleman) tutabilen veri yapılarıdır.\n\nListeler sayesinde tek bir değişkene birden fazla değerin atanması sağlanabilir. Listeler gibi veri yapıları olmadan bunu yapmak mümkün değildir. Bir\nveri yapısı olmadan bir değişken sadece bir değeri(elemanı) barındırabilir.",
      "metadata": {}
    },
    {
      "cell_type": "code",
      "source": "rakamlar_listesi = [0, 1, 2, 3, 4, 5, 6, 7, 8, 9]\nprint(rakamlar_listesi)",
      "metadata": {
        "trusted": true
      },
      "execution_count": 3,
      "outputs": [
        {
          "name": "stdout",
          "text": "[0, 1, 2, 3, 4, 5, 6, 7, 8, 9]\n",
          "output_type": "stream"
        }
      ]
    },
    {
      "cell_type": "code",
      "source": "programlama_dilleri_listesi = [\"Python\", \"R\", \"Perl\", \"Matlab\"]\nprint(programlama_dilleri_listesi)",
      "metadata": {
        "trusted": true
      },
      "execution_count": 4,
      "outputs": [
        {
          "name": "stdout",
          "text": "['Python', 'R', 'Perl', 'Matlab']\n",
          "output_type": "stream"
        }
      ]
    },
    {
      "cell_type": "markdown",
      "source": "Bir listenin içerisinde, çeşitli veri tiplerinden elemanlar birlikte bulunabilir.",
      "metadata": {}
    },
    {
      "cell_type": "code",
      "source": "sekiller_sayılar_listesi = [0.2, 3, 7, \"kare\", \"üçgen\", \"altıgen\"]\nprint(sekiller_sayılar_listesi)",
      "metadata": {
        "trusted": true
      },
      "execution_count": 5,
      "outputs": [
        {
          "name": "stdout",
          "text": "[0.2, 3, 7, 'kare', 'üçgen', 'altıgen']\n",
          "output_type": "stream"
        }
      ]
    },
    {
      "cell_type": "markdown",
      "source": "Bir listenin içerisindeki herhangi bir elemana/elemanlara ulaşmak mümkündür. Bunun için listenin tutulduğu değişkenin bitişiğine köşeli parantez \"[]\"\neklenir. Parantezin içine, ulaşmak istediğimiz elemanın endeksi(listede kaçıncı sırada bulunduğu) yazılır.\n\nÖrneğin, liste[5] yazıldığında, liste ismindeki değişkenin içinde tutulan elemanlardan 5 endeksli değeri döndürür.\n\nPython'da endeksler 0'dan başlar. Yani bir listenin ilk elemanı 0. endekstedir.\n\nÖrnek; liste = [1, 2, 3] ise 1 değeri 0. endekste, 2 değeri 1. endekste, 3 değeri 2. endekstedir. Bu durumda 1 elemanını çağırmak için liste[0] \nkomutu verilmelidir.",
      "metadata": {}
    },
    {
      "cell_type": "code",
      "source": "liste = [1, 2, 3, 4, 5]\n\nilk_eleman = liste[0]\nikinci_eleman = liste[1]\nbesinci_eleman = liste[4]\n\nprint(\"listenin 1. elemanı:\", ilk_eleman)\nprint(\"listenin 2. elemanı:\", ikinci_eleman)\nprint(\"listenin 5. elemanı:\", besinci_eleman)",
      "metadata": {
        "trusted": true
      },
      "execution_count": 6,
      "outputs": [
        {
          "name": "stdout",
          "text": "listenin 1. elemanı: 1\nlistenin 2. elemanı: 2\nlistenin 5. elemanı: 5\n",
          "output_type": "stream"
        }
      ]
    },
    {
      "cell_type": "code",
      "source": "liste = [\"A\", \"B\", \"C\", \"D\", \"E\"]\n\nilk_eleman = liste[0]\nikinci_eleman = liste[1]\nbesinci_eleman = liste[4]\n\nprint(\"listenin 1. elemanı:\", ilk_eleman)\nprint(\"listenin 2. elemanı:\", ikinci_eleman)\nprint(\"listenin 5. elemanı:\", besinci_eleman)",
      "metadata": {
        "trusted": true
      },
      "execution_count": 7,
      "outputs": [
        {
          "name": "stdout",
          "text": "listenin 1. elemanı: A\nlistenin 2. elemanı: B\nlistenin 5. elemanı: E\n",
          "output_type": "stream"
        }
      ]
    },
    {
      "cell_type": "markdown",
      "source": "Listedeki elemanlara, listenin sonundan başına doğru giderek ulaşmakta mümkündür.\n\nListe endeksleri negatif sayılarla girildiğinde, listenin en sonundaki değeri ilk değer belirleyerek geriye doğru gider. Listenin en sonundaki elemanının negatif endeksi -1'dir, sondan bir önceki -2'dir ve bu şekilde devam eder.",
      "metadata": {}
    },
    {
      "cell_type": "code",
      "source": "liste = [1, 2, 3, 4, 5]\n\nson_eleman = liste[-1]\nsondan_ikinci_eleman = liste[-2]\n\nprint(\"listenin son elemanı:\", son_eleman)\nprint(\"listenin sondan ikinci elemanı:\", sondan_ikinci_eleman)",
      "metadata": {
        "trusted": true
      },
      "execution_count": 8,
      "outputs": [
        {
          "name": "stdout",
          "text": "listenin son elemanı: 5\nlistenin sondan ikinci elemanı: 4\n",
          "output_type": "stream"
        }
      ]
    },
    {
      "cell_type": "markdown",
      "source": "Listelerdeki tek bir elemana ulaşılabildiği gibi, bir eleman grubuna da ulaşılabilir. Bir grup elemanı seçmek için köşeli parantez içerisine, üst üste iki nokta ile ayrılmış iki endeks değeri girmek gerekir. İlk endeks değeri başlangıç, ikinci endeks değeri bitiş elemanlarını temsil eder. Örneğin, 'liste[2:4]' ifadesi bir listenin 2 endeksli elemanından 4 endeksli elemanına kadar olan değerleri filtreler.\n\nBurada dikkat edilmesi gereken nokta bitiş endeksidir. Bitiş endeksine tabi olan eleman seçilmez çünkü '! bitiş endeksli elemana kadar !' olan kısım seçilir.",
      "metadata": {}
    },
    {
      "cell_type": "code",
      "source": "liste = [0, 1, 2, 3, 4, 5, 6, 7]\n\nilk_iki_eleman = liste[0:2]\nikinciden_besinciye = liste[1:5]\n\nprint(\"listenin ilk iki elemanı:\", ilk_iki_eleman)\nprint(\"listenin ikinci elmanından beşinci elemanına:\", ikinciden_besinciye)",
      "metadata": {
        "trusted": true
      },
      "execution_count": 10,
      "outputs": [
        {
          "name": "stdout",
          "text": "listenin ilk iki elemanı: [0, 1]\nlistenin ikinci elmanından beşinci elemanına: [1, 2, 3, 4]\n",
          "output_type": "stream"
        }
      ]
    },
    {
      "cell_type": "markdown",
      "source": "Eğer listenin en başından belirli bir endekse kadar seçim yapılacaksa ilk endeks değeri boş bırakılabilir ---------> liste[:5]\n\nEğer listenin belirli bir endeksinden en sonuna kadar seçim yapılacaksa ikinci endeks değeri boş bırakılabilir ----> liste[5:]",
      "metadata": {}
    },
    {
      "cell_type": "code",
      "source": "liste = [1, 2, 3, 4, 5]\n\nikiye_kadar = liste[:2]\nikiden_sonra = liste[2:]\nlistenin_tamamı = liste[:]\n\nprint(\"listenin ikinci endeksine kadar:\", ikiye_kadar)\nprint(\"listenin ikinci endeksinden sonra:\", ikiden_sonra)\nprint(\"listenin tamamı:\", listenin_tamamı)",
      "metadata": {
        "trusted": true
      },
      "execution_count": 11,
      "outputs": [
        {
          "name": "stdout",
          "text": "listenin ikinci endeksine kadar: [1, 2]\nlistenin ikinci endeksinden sonra: [3, 4, 5]\nlistenin tamamı: [1, 2, 3, 4, 5]\n",
          "output_type": "stream"
        }
      ]
    },
    {
      "cell_type": "markdown",
      "source": "Listelerin içerisindeki elemanlar seçilirken, sadece birbirine bitişik olan gruplar seçilmek zorunda değildir. Seçim yapılırken aralarından bazı elemanlar atlanarak, kalanlar alınabilir.\n\nÖrneğin, 1'den 10'a kadar sayıların bulunduğu bir listeden, her 2 elemandan 1'i atlanarak sadece çift sayıların veya sadece tek sayıların seçilmesi sağlanabilir.\n\nBunu gerçekleştirebilmek için köşeli parantez içerisinde, başlangıç ve bitiş endekslerinin sağına bir üst üste nokta daha eklenir ve kaçar adım atlanması istendiği bu alana girilir. Örnek: list[0:10:2] ",
      "metadata": {}
    },
    {
      "cell_type": "code",
      "source": "liste = [1, 2, 3, 4, 5, 6, 7, 8, 9, 10]\n\ntek_sayılar = liste[::2]\ncift_sayılar = liste[1::2]\n\nprint(\"listedeki tek sayılar:\", tek_sayılar)\nprint(\"listedeki çift sayılar:\", cift_sayılar)",
      "metadata": {
        "trusted": true
      },
      "execution_count": 12,
      "outputs": [
        {
          "name": "stdout",
          "text": "listedeki tek sayılar: [1, 3, 5, 7, 9]\nlistedeki çift sayılar: [2, 4, 6, 8, 10]\n",
          "output_type": "stream"
        }
      ]
    },
    {
      "cell_type": "markdown",
      "source": "Python'da listelerin içerisine elemanların yerleştirildiği gibi, listelerin içerisine başka listeler de yerleştirilebilir. İç içe yerleştirilmiş iki liste içerisindeki elemanlara ulaşabilmek için, iç içe listenin tanımlandığı değişkenin bitişiğine iki tane köşeli parantez eklenerek ilkinin içine ulaşılmak istenen listenin endeks değeri, ikincinin içine ulaşılmak istenen elemanın endeks değeri girilir.\n\nÖrnek: liste = [[0, 1], [2, 3]] olsun. 0 değerine ulaşmak için liste[0][0] ifadesi kullanılmalıdır.\n\nİç içe listelerin sayısı ikiden fazla olabilir. Bu durumda en içerideki listenin içindeki elemanlara ulaşılmak isteniyorsa, liste sayısı kadar köşeli parantez eklenmelidir.",
      "metadata": {}
    },
    {
      "cell_type": "code",
      "source": "liste = [[1, 2, 3], [4, 5, 6], [7, 8, 9]]\n\nilk_liste_ilk_eleman = liste[0][0]      #1\nikinci_liste_son_eleman = liste[1][2]   #6\nson_liste_son_eleman = liste[2][2]      #9\n\nprint(\"İçerideki ilk listenin ilk elemanı:\", ilk_liste_ilk_eleman)\nprint(\"İçerideki ikinci listenin son elemanı:\", ikinci_liste_son_eleman)\nprint(\"İçerideki son listenin son elemanı:\", son_liste_son_eleman)",
      "metadata": {
        "trusted": true
      },
      "execution_count": 13,
      "outputs": [
        {
          "name": "stdout",
          "text": "İçerideki ilk listenin ilk elemanı: 1\nİçerideki ikinci listenin son elemanı: 6\nİçerideki son listenin son elemanı: 9\n",
          "output_type": "stream"
        }
      ]
    },
    {
      "cell_type": "markdown",
      "source": "Liste oluşturmak veya diğer yinelenebilir yapıları listelere dönüştürmek için list() fonksiyonu kullanılabilir.\n\nÖrneğin, \"Python\" ismindeki bir karakter dizisi (string) yinelenebilir yapıdadır. Her bir harfi bir listenin içersindeki elemanmış gibi baştan sona taranabilir. Böyle bir yapı list() fonksiyonu sayesinde, her harfi eleman olacak şekilde listeye çevrilebilir.\n\nlist(\"Python\") -------> ['P', 'y', 't', 'h', 'o', 'n'] şeklinde dönecektir.",
      "metadata": {}
    },
    {
      "cell_type": "code",
      "source": "liste = list([1, 2, 3])\nprint(liste)",
      "metadata": {
        "trusted": true
      },
      "execution_count": 16,
      "outputs": [
        {
          "name": "stdout",
          "text": "[1, 2, 3]\n",
          "output_type": "stream"
        }
      ]
    },
    {
      "cell_type": "code",
      "source": "karakterler = \"Merhaba Dünya\"\nkarakter_listesi = list(karakterler)\n\nprint(karakterler)\nprint(karakter_listesi)",
      "metadata": {
        "trusted": true
      },
      "execution_count": 17,
      "outputs": [
        {
          "name": "stdout",
          "text": "Merhaba Dünya\n['M', 'e', 'r', 'h', 'a', 'b', 'a', ' ', 'D', 'ü', 'n', 'y', 'a']\n",
          "output_type": "stream"
        }
      ]
    },
    {
      "cell_type": "markdown",
      "source": "Bir listenin uzunluğunu, yani ne kadar eleman barındırdığını hesaplamak için len() fonksiyonu kullanılabilir.",
      "metadata": {}
    },
    {
      "cell_type": "code",
      "source": "liste = [1, 2, 3, 4, 5]\nuzunluk = len(liste)\n\nprint(\"listenin uzunluğu:\", uzunluk)",
      "metadata": {
        "trusted": true
      },
      "execution_count": 18,
      "outputs": [
        {
          "name": "stdout",
          "text": "listenin uzunluğu: 5\n",
          "output_type": "stream"
        }
      ]
    },
    {
      "cell_type": "markdown",
      "source": "Bir listenin en sonuna yeni bir eleman eklemek için append() metodu kullanılabilir.",
      "metadata": {}
    },
    {
      "cell_type": "code",
      "source": "liste = [1, 2, 3, 4, 5]\nprint(\"listenin ilk hali:\", liste)\n\nliste.append(6)\nprint(\"listenin sonuna 6 değeri eklendi:\", liste)\n\nliste.append(7)\nprint(\"listenin sonuna 7 değeri eklendi:\", liste)",
      "metadata": {
        "trusted": true
      },
      "execution_count": 19,
      "outputs": [
        {
          "name": "stdout",
          "text": "listenin ilk hali: [1, 2, 3, 4, 5]\nlistenin sonuna 6 değeri eklendi: [1, 2, 3, 4, 5, 6]\nlistenin sonuna 7 değeri eklendi: [1, 2, 3, 4, 5, 6, 7]\n",
          "output_type": "stream"
        }
      ]
    },
    {
      "cell_type": "markdown",
      "source": "Listeden bir eleman çıkartmak için remove() metodu kullanılabilir.",
      "metadata": {}
    },
    {
      "cell_type": "code",
      "source": "liste = [1, 2, 3, 4, 5, 6, 7]\nprint(\"listenin ilk hali:\", liste)\n\nliste.remove(7)\nprint(\"listeden 7 değeri çıkartıldı:\", liste)\n\nliste.remove(6)\nprint(\"listeden 6 değeri çıkartıldı:\", liste)",
      "metadata": {
        "trusted": true
      },
      "execution_count": 20,
      "outputs": [
        {
          "name": "stdout",
          "text": "listenin ilk hali: [1, 2, 3, 4, 5, 6, 7]\nlisteden 7 değeri çıkartıldı: [1, 2, 3, 4, 5, 6]\nlisteden 6 değeri çıkartıldı: [1, 2, 3, 4, 5]\n",
          "output_type": "stream"
        }
      ]
    },
    {
      "cell_type": "markdown",
      "source": "Bir listedeki değerleri sıralamak için sort() metodu kullanılablir.",
      "metadata": {}
    },
    {
      "cell_type": "code",
      "source": "liste = [8, 2, 4, 1, 7, 3, 5, 6]\nliste.sort()\n\nprint(\"listenin sıralı hali:\", liste)",
      "metadata": {
        "trusted": true
      },
      "execution_count": 22,
      "outputs": [
        {
          "name": "stdout",
          "text": "listenin sıralı hali: [1, 2, 3, 4, 5, 6, 7, 8]\n",
          "output_type": "stream"
        }
      ]
    },
    {
      "cell_type": "code",
      "source": "",
      "metadata": {},
      "execution_count": null,
      "outputs": []
    }
  ]
}