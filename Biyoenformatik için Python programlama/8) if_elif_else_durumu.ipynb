{
  "metadata": {
    "language_info": {
      "codemirror_mode": {
        "name": "python",
        "version": 3
      },
      "file_extension": ".py",
      "mimetype": "text/x-python",
      "name": "python",
      "nbconvert_exporter": "python",
      "pygments_lexer": "ipython3",
      "version": "3.8"
    },
    "kernelspec": {
      "name": "python",
      "display_name": "Python (Pyodide)",
      "language": "python"
    }
  },
  "nbformat_minor": 4,
  "nbformat": 4,
  "cells": [
    {
      "cell_type": "markdown",
      "source": "#### 4.4) \"if - elif - else\" Durumu\n\n\"if\" ve \"else\" kavramlarının neye karşılık geldiğinden daha önce bahsedilmişti. Buradaki yeni kavram \"elif\" kavramıdır. \"elif\" İngilizce'deki \"else if\" teriminin kısaltmasıdır. \"else if\", \"eğer değilse\" anlamı taşımaktadır. Örnek vermek gerekirse;\n\nHava durumunun yağmurlu, karlı, güneşli ve rüzgarlı olma ihtimalleri olsun. Yağmurlu koşul için bir sonuç, karlı koşul için başka bir sonuç ve diğer koşullar için de başka bir sonuç oluşturulmak istensin. Yağmurlu koşul için \"if\" kullanıldığında, buna bağlı olan karlı koşula \"elif\" kullanılmaktadır. Çünkü diğer tüm sonuçlar \"else\" altındaki kod bloğuna yazılacaktır. \"if - elif- else\" durumu, Python'da şu şekilde gösterilebilir;\n\nif koşul == birinci_olasılık:\n    \n    birinci kod\n    \nelif koşul == ikinci_olasılık:\n\n    ikinci kod\n    \nelse:\n\n    üçüncü kod",
      "metadata": {}
    },
    {
      "cell_type": "code",
      "source": "#hava durumu koşulları: yağmurlu, karlı, güneşli, rüzgarlı\n\nhava_durumu = \"yağmurlu\"\n\nif hava_durumu == \"yağmurlu\":\n    print(\"şemsiye al\")\nelif hava_durumu == \"karlı\":\n    print(\"bere giy\")\nelse:\n    print(\"evden dışarı çıkabilirsin\")\n    \nprint(\"programı bitir\")",
      "metadata": {
        "trusted": true
      },
      "execution_count": 6,
      "outputs": [
        {
          "name": "stdout",
          "text": "şemsiye al\nprogramı bitir\n",
          "output_type": "stream"
        }
      ]
    },
    {
      "cell_type": "code",
      "source": "#Adenin: Pürin\n#Gunain: Pürin\n#Sitozin: Primidin\n#Timin: Primidin\n\nnükleotit = \"Adenin\"\n\nif nükleotit == \"Adenin\" or nükleotit == \"Guanin\":\n    print(nükleotit, \"bir Pürin'dir.\")\nelif nükleotit == \"Sitozin\" or nükleotit == \"Timin\":\n    print(nükleotit, \"bir Primidin'dir.\")\nelse:\n    print(\"Böyle bir nükleotit bulunamamıştır.\")",
      "metadata": {
        "trusted": true
      },
      "execution_count": 13,
      "outputs": [
        {
          "name": "stdout",
          "text": "Adenin bir Pürin'dir.\n",
          "output_type": "stream"
        }
      ]
    },
    {
      "cell_type": "code",
      "source": "",
      "metadata": {},
      "execution_count": null,
      "outputs": []
    },
    {
      "cell_type": "code",
      "source": "",
      "metadata": {},
      "execution_count": null,
      "outputs": []
    },
    {
      "cell_type": "code",
      "source": "",
      "metadata": {},
      "execution_count": null,
      "outputs": []
    },
    {
      "cell_type": "code",
      "source": "",
      "metadata": {},
      "execution_count": null,
      "outputs": []
    }
  ]
}