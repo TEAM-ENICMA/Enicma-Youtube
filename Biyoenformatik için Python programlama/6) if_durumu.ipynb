{
  "metadata": {
    "language_info": {
      "codemirror_mode": {
        "name": "python",
        "version": 3
      },
      "file_extension": ".py",
      "mimetype": "text/x-python",
      "name": "python",
      "nbconvert_exporter": "python",
      "pygments_lexer": "ipython3",
      "version": "3.8"
    },
    "kernelspec": {
      "name": "python",
      "display_name": "Python (Pyodide)",
      "language": "python"
    }
  },
  "nbformat_minor": 4,
  "nbformat": 4,
  "cells": [
    {
      "cell_type": "markdown",
      "source": "#### 4.2) \"if\" Durumu\n\n\"if\" kelimesinin Türkçe karşılığı \"Eğer\" kelimesidir. \"if\", bir koşul sağlanıyorsa, o koşula özel bir kod bloğu yazılmasını sağlayan bir komuttur. Daha ayrıntılı açıklamak gerekirse; Eğer, koşul değerim doğruysa (Boolean değeri 'True' ise), koşul durumuna bağlı bir veya bir grup kodu çalıştırır. \"if\" durumunun Python'daki gösterimi şuna benzemektedir;\n\nif koşul == True:\n\n    birinci kod\n    \n    ikinci kod\n    \n    üçüncü kod",
      "metadata": {}
    },
    {
      "cell_type": "code",
      "source": "hava_durumu = \"yağmurlu\"\n\nif hava_durumu == \"yağmurlu\":\n    print(\"şemsiye al\")\n    \nprint(\"programı bitir\")",
      "metadata": {
        "trusted": true
      },
      "execution_count": 4,
      "outputs": [
        {
          "name": "stdout",
          "text": "şemsiye al\nprogramı bitir\n",
          "output_type": "stream"
        }
      ]
    },
    {
      "cell_type": "code",
      "source": "hava_durumu = \"güneşli\"\n\nif hava_durumu == \"yağmurlu\":\n    print(\"şemsiye al\")\n    \nprint(\"programı bitir\")",
      "metadata": {
        "trusted": true
      },
      "execution_count": 5,
      "outputs": [
        {
          "name": "stdout",
          "text": "programı bitir\n",
          "output_type": "stream"
        }
      ]
    },
    {
      "cell_type": "markdown",
      "source": "Birden fazla, birbirinden bağımsız koşul durumu arka arkaya yazılarak kontrol edilebilir. ",
      "metadata": {}
    },
    {
      "cell_type": "code",
      "source": "hava_durumu = \"yağmurlu\"\ntrafik_durumu = \"yoğun\"\n\nif hava_durumu == \"yağmurlu\":\n    print(\"şemsiye al\")\n    \nif trafik_durumu == \"yoğun\":\n    print(\"tramvay kullan\")\n    \nprint(\"programı bitir\")",
      "metadata": {
        "trusted": true
      },
      "execution_count": 9,
      "outputs": [
        {
          "name": "stdout",
          "text": "şemsiye al\ntramvay kullan\nprogramı bitir\n",
          "output_type": "stream"
        }
      ]
    },
    {
      "cell_type": "markdown",
      "source": "Birden fazla koşulun olduğu durumda, eğer koşullardan biri diğerinin sonucuna bağlı ise iç içe \"if\" blokları oluşturulabilir.",
      "metadata": {}
    },
    {
      "cell_type": "code",
      "source": "hava_durumu = \"yağmurlu\"\nşemsiye_durumu = \"kırılmış\"\n\nif hava_durumu == \"yağmurlu\":\n    if şemsiye_durumu == \"kırılmış\":\n        print(\"bere giy\")\n        \nprint(\"programı bitir\")",
      "metadata": {
        "trusted": true
      },
      "execution_count": 10,
      "outputs": [
        {
          "name": "stdout",
          "text": "bere giy\nprogramı bitir\n",
          "output_type": "stream"
        }
      ]
    },
    {
      "cell_type": "markdown",
      "source": "Birden fazla koşulun olduğu durumlarda, mantıksal bağlaçlar olan ve/veya kullanılabilir.",
      "metadata": {}
    },
    {
      "cell_type": "code",
      "source": "hava_durumu = \"yağmurlu\"\nşemsiye_durumu = \"kırılmış\"\n\nif hava_durumu == \"yağmurlu\" and şemsiye_durumu == \"kırılmış\":\n    print(\"bere giy\")\n    \nprint(\"programı bitir\")",
      "metadata": {
        "trusted": true
      },
      "execution_count": 13,
      "outputs": [
        {
          "name": "stdout",
          "text": "bere giy\nprogramı bitir\n",
          "output_type": "stream"
        }
      ]
    },
    {
      "cell_type": "code",
      "source": "şemsiye_durumu = \"sağlam\"\nbere_durumu = \"yırtılmış\"\n\nif şemsiye_durumu == \"sağlam\" or bere_durumu == \"sağlam\":\n    print(\"evden dışarı çıkabilirsin\")\n    \nprint(\"programı bitir\")",
      "metadata": {
        "trusted": true
      },
      "execution_count": 17,
      "outputs": [
        {
          "name": "stdout",
          "text": "evden dışarı çıkabilirsin\nprogramı bitir\n",
          "output_type": "stream"
        }
      ]
    },
    {
      "cell_type": "code",
      "source": "hava_durumu = \"yağmurlu\"\nşemsiye_durumu = \"sağlam\"\nbere_durumu = \"yırtılmış\"\n\nif hava_durumu == \"yağmurlu\" and (şemsiye_durumu == \"sağlam\" or bere_durumu == \"sağlam\"):\n    print(\"evden dışarı çıkabilirsin\")\n    \nprint(\"programı bitir\")\n",
      "metadata": {
        "trusted": true
      },
      "execution_count": 20,
      "outputs": [
        {
          "name": "stdout",
          "text": "evden dışarı çıkabilirsin\nprogramı bitir\n",
          "output_type": "stream"
        }
      ]
    },
    {
      "cell_type": "code",
      "source": "",
      "metadata": {},
      "execution_count": null,
      "outputs": []
    }
  ]
}