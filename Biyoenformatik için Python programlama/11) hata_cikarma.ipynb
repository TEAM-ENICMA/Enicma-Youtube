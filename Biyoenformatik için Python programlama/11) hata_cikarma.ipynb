{
  "metadata": {
    "language_info": {
      "codemirror_mode": {
        "name": "python",
        "version": 3
      },
      "file_extension": ".py",
      "mimetype": "text/x-python",
      "name": "python",
      "nbconvert_exporter": "python",
      "pygments_lexer": "ipython3",
      "version": "3.8"
    },
    "kernelspec": {
      "name": "python",
      "display_name": "Python (Pyodide)",
      "language": "python"
    }
  },
  "nbformat_minor": 4,
  "nbformat": 4,
  "cells": [
    {
      "cell_type": "markdown",
      "source": "### 6) Hata Ayıklama (try-except)\n     6.1) Hata Çıkarma (try-except-finally)\n     \nPython'da geliştirilen programlarda bazen yazım yanlışlarından kaynaklı hatalar veya mantık hataları oluşabilir. Hata oluşabileceği düşünülen kodlar \"try\", \"except\" ve \"finally\" ifadeleri ile kontrol edilebilir. Python'da tanımlı olan hatalardan bazıları şu şekildedir;\n\n|Hata |Açıklama|\n|-----|--------|\n|NameError|Bir değişken tanımlanmadığı halde çağrıldığında ortaya çıkar|\n|AttributeError|Veri tipine veya veri yapısına uygun olmayan metot kullanıldığında ortaya çıkar|\n|TypeError|Veri tipi ile ilgili hatalı işlem yapıldığında ortaya çıkar|\n|ZeroDivisionError|Bir sayı sıfıra bölünmeye çalışıldığında ortaya çıkar|\n\n\"try\" ifadesi Türkçe'ye \"dene-mek\" olarak çevrilebilir.\"except\" ise \"istisna\" demektir. Bu kalıbı kullanmamızın en önemli sebebi, oluşan hataların programı durdurmasıdır. Bir diğer sebep ise, çıkan hata yazılarını programı kullanan kişilerin anlayamaması ihtimalinin olmasıdır. Bu nedenle hata oluşabilecek yerlerde programı kontrol etme, gerekirse programı kaldığı yerden tekrar çalıştırma ve kullanıcıdan alınan girdiye bağlı bir hata gelişiyorsa, kullanıcıya anlayabileceği bir mesaj bırakma gibi sebepler ile try-except-finally ifadesini kullanırız.\n\nHata çıkarma kalıbının Python'daki gösterimi şu şekildedir:\n\ntry:\n\n    hata oluştuma ihtimali olan kod satırı\n    \nexcept hata_türü:\n\n    n. satırdaki koddan dolayı bir hata oluştuğunu belirten mesaj\n    \nfinally:\n\n    kullanıcının müdahalesinin gerektiren bir durum ise, öneriyi belirleyen mesaj",
      "metadata": {}
    },
    {
      "cell_type": "code",
      "source": "try:\n    print(\"Merhaba\".append(\"Dünya\"))\nexcept AttributeError:\n    print(\"Kullandığınız metot uygun değildir.\")",
      "metadata": {
        "trusted": true
      },
      "execution_count": 7,
      "outputs": [
        {
          "name": "stdout",
          "text": "Kullandığınız metot uygun değildir.\n",
          "output_type": "stream"
        }
      ]
    },
    {
      "cell_type": "code",
      "source": "a = \"5\"\nb = 3\n\ntry:\n    print(a + b)\nexcept TypeError:\n    print(\"Bir sayı ile karakter toplanamaz.\")",
      "metadata": {
        "trusted": true
      },
      "execution_count": 8,
      "outputs": [
        {
          "name": "stdout",
          "text": "Bir sayı ile karakter toplanamaz.\n",
          "output_type": "stream"
        }
      ]
    },
    {
      "cell_type": "code",
      "source": "a = 5\n\ntry:\n    print(a / 0)\nexcept ZeroDivisionError:\n    print(\"Bir sayı sıfıra bölündüğünde sonsuz verir\")",
      "metadata": {
        "trusted": true
      },
      "execution_count": 9,
      "outputs": [
        {
          "name": "stdout",
          "text": "Bir sayı sıfıra bölündüğünde sonsuz verir\n",
          "output_type": "stream"
        }
      ]
    },
    {
      "cell_type": "code",
      "source": "n = 3\n\ntry:\n    print(n + k)\nexcept NameError:\n    print(\"k değişkeni tanımlanmamıştır.\")\n    print(\"lütfen k değişkenini tanımlayınız.\")",
      "metadata": {
        "trusted": true
      },
      "execution_count": 10,
      "outputs": [
        {
          "name": "stdout",
          "text": "k değişkeni tanımlanmamıştır.\nlütfen k değişkenini tanımlayınız.\n",
          "output_type": "stream"
        }
      ]
    },
    {
      "cell_type": "markdown",
      "source": "Birden fazla kod satırı beraber kontrol edilip, birden fazla istisna(except) oluşturulabilir.\n\n\"finally\" ifadesi, hata oluşsa da oluşmasa da çalışacaktır.",
      "metadata": {}
    },
    {
      "cell_type": "code",
      "source": "x = 3\n\ntry:\n    print(x + y)\nexcept:\n    print(\"bir hata oluştu.\")",
      "metadata": {
        "trusted": true
      },
      "execution_count": 11,
      "outputs": [
        {
          "name": "stdout",
          "text": "bir hata oluştu.\n",
          "output_type": "stream"
        }
      ]
    },
    {
      "cell_type": "code",
      "source": "sayı1 = 3\nsayı2 = 5\n\ntry:\n    print(sayı1 + sayı2)\n    #print(sayı2 + sayı3)\nexcept TypeError:\n    print(\"Bir sayı ile bir karakter toplanamaz.\")\nexcept AttributeError:\n    print(\"Kullandığınız metot uygun değildir.\")\nexcept:\n    print(\"Bilinmeyen bir hata oluştu.\")\n    print(\"Lütfen programın geliştiricisi ile görüşünüz.\")\nfinally:\n    print(\"Program tamamlandı...\")",
      "metadata": {
        "trusted": true
      },
      "execution_count": 14,
      "outputs": [
        {
          "name": "stdout",
          "text": "8\nProgram tamamlandı...\n",
          "output_type": "stream"
        }
      ]
    },
    {
      "cell_type": "code",
      "source": "",
      "metadata": {},
      "execution_count": null,
      "outputs": []
    },
    {
      "cell_type": "code",
      "source": "",
      "metadata": {},
      "execution_count": null,
      "outputs": []
    },
    {
      "cell_type": "code",
      "source": "",
      "metadata": {},
      "execution_count": null,
      "outputs": []
    },
    {
      "cell_type": "code",
      "source": "",
      "metadata": {},
      "execution_count": null,
      "outputs": []
    }
  ]
}