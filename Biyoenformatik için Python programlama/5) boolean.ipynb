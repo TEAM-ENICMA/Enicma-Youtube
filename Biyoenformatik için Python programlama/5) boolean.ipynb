{
  "metadata": {
    "language_info": {
      "codemirror_mode": {
        "name": "python",
        "version": 3
      },
      "file_extension": ".py",
      "mimetype": "text/x-python",
      "name": "python",
      "nbconvert_exporter": "python",
      "pygments_lexer": "ipython3",
      "version": "3.8"
    },
    "kernelspec": {
      "name": "python",
      "display_name": "Python (Pyodide)",
      "language": "python"
    }
  },
  "nbformat_minor": 4,
  "nbformat": 4,
  "cells": [
    {
      "cell_type": "markdown",
      "source": "### 4) Koşul Durumları (if, elif, else)\n     4.1) Boolean Veri Tipi\n\nBoolean, ikili koşul durumlarına sahip olan (evet-hayır, doğru-yanlış, var-yok) değişkenlerin tanımlanabilmesi kullanılan bir veri tipidir. Değişken, ilgili koşul durumunu sağlıyorsa 'True', sağlamıyorsa 'False' değerini alır.\n\nÖrneğin; x = 3 şeklinde tanımlı bir değişken olsun. Python'a \"x, 3'e eşit midir?\" sorusu sorulduğunda, sorunun cevabı koşula uygun olduğu için 'True' yani doğru cevabını verecektir. \"x, 5'e eşit midir?\" sorusuna, koşula uygun olmadığından 'False' yani yanlış cevabını verecektir.",
      "metadata": {}
    },
    {
      "cell_type": "code",
      "source": "x = 3\nprint(\"x, 3'e eşit midir?\", x == 3)\nprint(\"x, 5'e eşit midir?\", x == 5)",
      "metadata": {
        "trusted": true
      },
      "execution_count": 3,
      "outputs": [
        {
          "name": "stdout",
          "text": "x, 3'e eşit midir? True\nx, 5'e eşit midir? False\n",
          "output_type": "stream"
        }
      ]
    },
    {
      "cell_type": "code",
      "source": "x = 3\nprint(\"x, 5'ten küçük müdür?\", x < 5)\nprint(\"x, 5'ten büyük müdür?\", x > 5)",
      "metadata": {
        "trusted": true
      },
      "execution_count": 4,
      "outputs": [
        {
          "name": "stdout",
          "text": "x, 5'ten küçük müdür? True\nx, 5'ten büyük müdür? False\n",
          "output_type": "stream"
        }
      ]
    },
    {
      "cell_type": "code",
      "source": "x = 3\nprint(\"x, 5'ten küçük veya 5'e eşit midir?\", x <= 5)\nprint(\"x, 5'ten büyük veya 5'e eşit midir?\", x >= 5)",
      "metadata": {
        "trusted": true
      },
      "execution_count": 6,
      "outputs": [
        {
          "name": "stdout",
          "text": "x, 5'ten küçük veya 5'e eşit midir? True\nx, 5'ten büyük veya 5'e eşit midir? False\n",
          "output_type": "stream"
        }
      ]
    },
    {
      "cell_type": "markdown",
      "source": "Matematikteki mantıksal bağlaçlar/operatörler (ve/veya) ve kuralları aynı şekilde Python'da da geçerlidir. İki durumu birbirine 've' ile bağlamak için 'and' operatörü, 'veya' ile bağlamak için 'or' operatörü kullanılır.",
      "metadata": {}
    },
    {
      "cell_type": "code",
      "source": "x = 3\ny = 5\n\nprint(\"x 3'e ve y 5'e eşit midir?\", x == 3 and y == 5)\nprint(\"x 3'e ve y 7'ye eşit midir?\", x == 3 and y == 7)",
      "metadata": {
        "trusted": true
      },
      "execution_count": 7,
      "outputs": [
        {
          "name": "stdout",
          "text": "x 3'e ve y 5'e eşit midir? True\nx 3'e ve y 7'ye eşit midir? False\n",
          "output_type": "stream"
        }
      ]
    },
    {
      "cell_type": "code",
      "source": "x = 3\ny = 5\n\nprint(\"x 3'e veya y 5'e eşit midir?\", x == 3 or y == 5)\nprint(\"x 3'e veya y 7'ye eşit midir?\", x == 3 or y == 7)",
      "metadata": {
        "trusted": true
      },
      "execution_count": 8,
      "outputs": [
        {
          "name": "stdout",
          "text": "x 3'e veya y 5'e eşit midir? True\nx 3'e veya y 7'ye eşit midir? True\n",
          "output_type": "stream"
        }
      ]
    },
    {
      "cell_type": "markdown",
      "source": "Değişkenlere direkt Boolean değerleri atanabilir. Örneğin; bir x değişkenine 'x = True' ifadesi ile doğrudan True değeri atanabilir.",
      "metadata": {}
    },
    {
      "cell_type": "code",
      "source": "x = True\ny = False\n\nprint(\"x:\", x)\nprint(\"y:\", y)",
      "metadata": {
        "trusted": true
      },
      "execution_count": 9,
      "outputs": [
        {
          "name": "stdout",
          "text": "x: True\ny: False\n",
          "output_type": "stream"
        }
      ]
    },
    {
      "cell_type": "code",
      "source": "",
      "metadata": {
        "trusted": true
      },
      "execution_count": null,
      "outputs": []
    },
    {
      "cell_type": "code",
      "source": "",
      "metadata": {},
      "execution_count": null,
      "outputs": []
    }
  ]
}