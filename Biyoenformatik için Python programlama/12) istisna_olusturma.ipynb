{
  "metadata": {
    "language_info": {
      "codemirror_mode": {
        "name": "python",
        "version": 3
      },
      "file_extension": ".py",
      "mimetype": "text/x-python",
      "name": "python",
      "nbconvert_exporter": "python",
      "pygments_lexer": "ipython3",
      "version": "3.8"
    },
    "kernelspec": {
      "name": "python",
      "display_name": "Python (Pyodide)",
      "language": "python"
    }
  },
  "nbformat_minor": 4,
  "nbformat": 4,
  "cells": [
    {
      "cell_type": "markdown",
      "source": "#### 6.2) İstisna Oluşturma (raise an exception)\n\n\"raise\" ifadesi Türkçe'ye \"yükseltmek\" olarak çevrilmektedir. \"raise an exception\" kalıbının tam çevirisi ise \"istisna oluşturmak\" demektir. Buradaki istisna oluşturmadan kasıt, programa belirli sınır koşulları eklemek ve sınır dışına çıkan istisnaları kontrol etmek anlamındadır.\n\nÖrneğin, programınızda bir değişken 5'ten büyük bir sayıya denk gelmemeli. Yani sınır değeriniz 5. Python'da bir değişkenin 5'ten büyük olması teknik bir hata değildir. Bununla birlikte, programa 5 sınırını koymak için manuel olarak hata eklenebilmektedir. Bu manuel hata ekleme işlemi \"raise an exception\" yani istisna oluşturmadır.\n\n\"raise\" ifadesi \"if\" ile birleştirilerek kullanılabilir. Bu durumda istisna oluşturmanın Python gösterimi şu şekilde olacaktır;\n\nif koşul > sınır_değeri:\n\n    raise Exception(\"Sınır değer geçildi\")",
      "metadata": {}
    },
    {
      "cell_type": "code",
      "source": "x = 3\n\nif x > 2:\n    raise Exception(\"Sınır değer geçildi.\")",
      "metadata": {
        "trusted": true
      },
      "execution_count": 16,
      "outputs": [
        {
          "ename": "<class 'Exception'>",
          "evalue": "Sınır değer geçildi.",
          "traceback": [
            "\u001b[0;31m---------------------------------------------------------------------------\u001b[0m",
            "\u001b[0;31mException\u001b[0m                                 Traceback (most recent call last)",
            "Cell \u001b[0;32mIn[16], line 4\u001b[0m\n\u001b[1;32m      1\u001b[0m x \u001b[38;5;241m=\u001b[39m \u001b[38;5;241m3\u001b[39m\n\u001b[1;32m      3\u001b[0m \u001b[38;5;28;01mif\u001b[39;00m x \u001b[38;5;241m>\u001b[39m \u001b[38;5;241m2\u001b[39m:\n\u001b[0;32m----> 4\u001b[0m     \u001b[38;5;28;01mraise\u001b[39;00m \u001b[38;5;167;01mException\u001b[39;00m(\u001b[38;5;124m\"\u001b[39m\u001b[38;5;124mSınır değer geçildi.\u001b[39m\u001b[38;5;124m\"\u001b[39m)\n",
            "\u001b[0;31mException\u001b[0m: Sınır değer geçildi."
          ],
          "output_type": "error"
        }
      ]
    },
    {
      "cell_type": "code",
      "source": "#tek basamaklı sayıların küpünü bulan program.\n\nx = 10\n\nif x > 9 or x < -9:\n    raise Exception(\"Yalnızca tek basamaklı sayılar kabul edilmektedir.\")\nelse:\n    print(\"Girilen sayının küpü:\", x ** 3)",
      "metadata": {
        "trusted": true
      },
      "execution_count": 19,
      "outputs": [
        {
          "ename": "<class 'Exception'>",
          "evalue": "Yalnızca tek basamaklı sayılar kabul edilmektedir.",
          "traceback": [
            "\u001b[0;31m---------------------------------------------------------------------------\u001b[0m",
            "\u001b[0;31mException\u001b[0m                                 Traceback (most recent call last)",
            "Cell \u001b[0;32mIn[19], line 6\u001b[0m\n\u001b[1;32m      3\u001b[0m x \u001b[38;5;241m=\u001b[39m \u001b[38;5;241m10\u001b[39m\n\u001b[1;32m      5\u001b[0m \u001b[38;5;28;01mif\u001b[39;00m x \u001b[38;5;241m>\u001b[39m \u001b[38;5;241m9\u001b[39m \u001b[38;5;129;01mor\u001b[39;00m x \u001b[38;5;241m<\u001b[39m \u001b[38;5;241m-\u001b[39m\u001b[38;5;241m9\u001b[39m:\n\u001b[0;32m----> 6\u001b[0m     \u001b[38;5;28;01mraise\u001b[39;00m \u001b[38;5;167;01mException\u001b[39;00m(\u001b[38;5;124m\"\u001b[39m\u001b[38;5;124mYalnızca tek basamaklı sayılar kabul edilmektedir.\u001b[39m\u001b[38;5;124m\"\u001b[39m)\n\u001b[1;32m      7\u001b[0m \u001b[38;5;28;01melse\u001b[39;00m:\n\u001b[1;32m      8\u001b[0m     \u001b[38;5;28mprint\u001b[39m(\u001b[38;5;124m\"\u001b[39m\u001b[38;5;124mGirilen sayının küpü:\u001b[39m\u001b[38;5;124m\"\u001b[39m, x \u001b[38;5;241m*\u001b[39m\u001b[38;5;241m*\u001b[39m \u001b[38;5;241m3\u001b[39m)\n",
            "\u001b[0;31mException\u001b[0m: Yalnızca tek basamaklı sayılar kabul edilmektedir."
          ],
          "output_type": "error"
        }
      ]
    },
    {
      "cell_type": "markdown",
      "source": "\"raise\" ifadesi, \"try-except-finally\" kalıbı ile birleştirilebilir. \"try\" kod bloğunun altına \"raise\" ifadesi yerleştirilirse, ifade sonucu oluşan istisna \"except\" kod bloğuna girilmesine neden olacaktır. Bu sayede program, doğrudan hata çıkarmak yerine, kullanıcıya \"print()\" aracılığıyla hata mesajı verebilecektir.",
      "metadata": {}
    },
    {
      "cell_type": "code",
      "source": "#DNA: A, T, G, C   -   RNA: A, U, G, C\n\ndna = \"AUGCAUGCAUGC\"\n\ntry:\n    for nükleotit in dna:\n        #if nükleotit != \"A\" and nükleotit != \"T\" and nükleotit != \"G\" and nükleotit != \"C\":\n        if nükleotit not in [\"A\", \"T\", \"G\", \"C\"]:\n            raise Exception()\nexcept Exception:\n    print(\"DNA dizisinde hatalı gösterim bulundu:\", nükleotit)",
      "metadata": {
        "trusted": true
      },
      "execution_count": 21,
      "outputs": [
        {
          "name": "stdout",
          "text": "DNA dizisinde hatalı gösterim bulundu: U\n",
          "output_type": "stream"
        }
      ]
    },
    {
      "cell_type": "code",
      "source": "",
      "metadata": {},
      "execution_count": null,
      "outputs": []
    }
  ]
}