{
  "metadata": {
    "language_info": {
      "codemirror_mode": {
        "name": "python",
        "version": 3
      },
      "file_extension": ".py",
      "mimetype": "text/x-python",
      "name": "python",
      "nbconvert_exporter": "python",
      "pygments_lexer": "ipython3",
      "version": "3.8"
    },
    "kernelspec": {
      "name": "python",
      "display_name": "Python (Pyodide)",
      "language": "python"
    }
  },
  "nbformat_minor": 4,
  "nbformat": 4,
  "cells": [
    {
      "cell_type": "markdown",
      "source": "#### 5.2) \"for\" döngüsü\n\nPython'da \"for\" döngüsü, belirli sınır değerleri (başlangıç ve bitiş) olan yapılarla ilgili kod bloklarını, sınır olarak verilen değer kadar tekrar çalıştırmak amacı ile kullanılmaktadır. Sınır değere ihtiyacı olduğundan genellikle karakter dizileri ve listeler gibi veri yapılarıyla uyumlu çalışmaktadır. \"while\" döngüsüne göre avantaj yaratan tarafı ise budur. Döngüyü ilerletmek için bir sayaç eklemek, yani değişken değerini her döngüde değiştirmek gerekmez. Çünkü, hali hazırda kullandığı veri yapısındaki elemanların üzerinden ilerleyerek döngüyü tekrarlar.\n\n\"for\" kelimesi Türkçe'ye \"için\" olaran çevrilebilir. Python gösteriminde \"for\" ve \"in\" ifadeleri beraber kullanılırlar. Yaygın gösterim şu şekildedir: \"for eleman in veri_yapısı\". İfadeyi cümle haline getircek olursak: \"veri_yapısı içindeki her bir eleman için\" denilebilir.\n\n\"for\" döngüsünün Python'daki gösterimi şu şekildedir;\n\nfor eleman in veri_yapısı:\n\n    birinci kod\n    \n    ikinci kod\n    \nYukarıdaki özellikleri bakımından, \"for\" döngüsü matematikteki toplam sembolüne benzetilebilir. Üstelik Python'da, bir başlangıç değerinden(m) bitiş değerine(n) kadar, sayıları toplamanın en etkili yollarından biri for döngüsünü kullanmaktır. \n\n![Toplam Sembolü ile Toplama İşleminin Gösterimi](https://wikimedia.org/api/rest_v1/media/math/render/svg/8c8461090bf2c187f304e8f3c3ade683c197f397)\n\nErişim Adresi: https://en.wikipedia.org/wiki/Summation",
      "metadata": {}
    },
    {
      "cell_type": "code",
      "source": "sayılar_listesi = [1, 2, 3, 4, 5]\n\nfor sayı in sayılar_listesi:\n    print(\"Listenin \" + str(sayı) + \". elemanı:\", sayı)",
      "metadata": {
        "trusted": true
      },
      "execution_count": 3,
      "outputs": [
        {
          "name": "stdout",
          "text": "Listenin 1. elemanı: 1\nListenin 2. elemanı: 2\nListenin 3. elemanı: 3\nListenin 4. elemanı: 4\nListenin 5. elemanı: 5\n",
          "output_type": "stream"
        }
      ]
    },
    {
      "cell_type": "code",
      "source": "sayılar_listesi = [1, 2, 3, 4, 5]\ntoplam = 0\n\nfor sayı in sayılar_listesi:\n    toplam += sayı\n    \nprint(\"Sayılar listesindeki elemanların toplamı:\", toplam)",
      "metadata": {
        "trusted": true
      },
      "execution_count": 4,
      "outputs": [
        {
          "name": "stdout",
          "text": "Sayılar listesindeki elemanların toplamı: 15\n",
          "output_type": "stream"
        }
      ]
    },
    {
      "cell_type": "code",
      "source": "sayılar_listesi = [1, 2, 3, 4, 5]\nsayıların_kareleri_listesi = []\n\nfor sayı in sayılar_listesi:\n    sayıların_kareleri_listesi.append(sayı ** 2)\n    \nprint(sayıların_kareleri_listesi)",
      "metadata": {
        "trusted": true
      },
      "execution_count": 7,
      "outputs": [
        {
          "name": "stdout",
          "text": "[1, 4, 9, 16, 25]\n",
          "output_type": "stream"
        }
      ]
    },
    {
      "cell_type": "markdown",
      "source": "Elemanları sayılardan oluşan listeler gibi, karakter dizilerinden oluşan listeler de for döngüsü ile yinelenebilir(iteration). Bununla birlikte, bir karakter dizisindeki tüm karakterler for döngüsü ile yinelenip, her eleman teker teker print fonksiyonuyla bastırılabilir.",
      "metadata": {}
    },
    {
      "cell_type": "code",
      "source": "programlama_dilleri_listesi = [\"Python\", \"R\", \"Perl\", \"Matlab\"]\n\nfor dil in programlama_dilleri_listesi:\n    print(dil, \"biyoenformatikte kullanılan bir programlama dilidir.\")",
      "metadata": {
        "trusted": true
      },
      "execution_count": 8,
      "outputs": [
        {
          "name": "stdout",
          "text": "Python biyoenformatikte kullanılan bir programlama dilidir.\nR biyoenformatikte kullanılan bir programlama dilidir.\nPerl biyoenformatikte kullanılan bir programlama dilidir.\nMatlab biyoenformatikte kullanılan bir programlama dilidir.\n",
          "output_type": "stream"
        }
      ]
    },
    {
      "cell_type": "code",
      "source": "karakter_dizisi = \"Python\"\n\nfor karakter in karakter_dizisi:\n    print(karakter)",
      "metadata": {
        "trusted": true
      },
      "execution_count": 9,
      "outputs": [
        {
          "name": "stdout",
          "text": "P\ny\nt\nh\no\nn\n",
          "output_type": "stream"
        }
      ]
    },
    {
      "cell_type": "markdown",
      "source": "\"while\" döngüsünde olduğu gibi, \"for\" döngüsünde de else ifadesi bulunmaktadır. Burada else, genellikle veri yapısındaki bütün veya yinelenmesi istenen elemanların tamamının işlemlerinin gerçekleştirildiğini gösteren bir mesaj bırakmak için kullanılır.",
      "metadata": {}
    },
    {
      "cell_type": "code",
      "source": "sayılar_listesi = [1, 2, 3]\n\nfor sayı in sayılar_listesi:\n    print(\"Listenin \" + str(sayı) + \". elemanı:\", sayı)\nelse:\n    print(\"Listedeki tüm sayılar bitti.\")",
      "metadata": {
        "trusted": true
      },
      "execution_count": 10,
      "outputs": [
        {
          "name": "stdout",
          "text": "Listenin 1. elemanı: 1\nListenin 2. elemanı: 2\nListenin 3. elemanı: 3\nListedeki tüm sayılar bitti.\n",
          "output_type": "stream"
        }
      ]
    },
    {
      "cell_type": "markdown",
      "source": "CHARGAFF EŞİTLİK KURALI\n\nAvusturyalı Biyokimyacı [Erwin Chargaff](https://en.wikipedia.org/wiki/Erwin_Chargaff)'ın keşfine göre, çift iplikli DNA sarmalında pürinlerin sayısı primidinlerin sayısına eşittir.\n\nYani çift iplikli bir DNA sarmalında, esas(template) zincirde adenin(A) bazı varsa buna karşılık tamamlayıcı(complement) zincirde timin(T) bazı, esas zincirde guanin(G) bazı varsa buna karşılık tamamlayıcı zincirde sitozin(C) bazı olmalıdır. Aynı kuralın tersi de geçerlidir.\n\n![Chargaff Kuralının Gösterimi](https://upload.wikimedia.org/wikipedia/commons/d/d4/DNA_Diagram.png)\n\nErişim Adresi: https://en.wikipedia.org/wiki/Chargaff%27s_rules",
      "metadata": {}
    },
    {
      "cell_type": "code",
      "source": "esas_zincir = \"ATGCATGCATGC\"\ntamamlayıcı_zincir = \"\"\n\nfor nükleotit in esas_zincir:\n    if nükleotit == \"A\":\n        tamamlayıcı_zincir += \"T\"\n    elif nükleotit == \"T\":\n        tamamlayıcı_zincir += \"A\"\n    elif nükleotit == \"G\":\n        tamamlayıcı_zincir += \"C\"\n    else:\n        tamamlayıcı_zincir += \"G\"\n        \nprint(\"Tamamlayıcı zincirin dizisi:\", tamamlayıcı_zincir)",
      "metadata": {
        "trusted": true
      },
      "execution_count": 11,
      "outputs": [
        {
          "name": "stdout",
          "text": "Tamamlayıcı zincirin dizisi: TACGTACGTACG\n",
          "output_type": "stream"
        }
      ]
    }
  ]
}