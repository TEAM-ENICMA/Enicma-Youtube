{
  "metadata": {
    "language_info": {
      "codemirror_mode": {
        "name": "python",
        "version": 3
      },
      "file_extension": ".py",
      "mimetype": "text/x-python",
      "name": "python",
      "nbconvert_exporter": "python",
      "pygments_lexer": "ipython3",
      "version": "3.8"
    },
    "kernelspec": {
      "name": "python",
      "display_name": "Python (Pyodide)",
      "language": "python"
    }
  },
  "nbformat_minor": 4,
  "nbformat": 4,
  "cells": [
    {
      "cell_type": "markdown",
      "source": "#### 3.2) Sözlükler\n\nSözlükler, bir anahtar(key) - değer(value) grubunun tek bir değişken içerisinde tutulabilmesini sağlayan yapılardır.\nBu açıdan listelere benzerlik göstermektedir.\n\nPython içerisinde anahtar ve değer kavramları, tıpkı bir sözlükteki kelime ve tanımı gibi karşılık bulmaktadır. Yani aranmak istenen değerler anahtar olarak verilir ve anahtar üzerinden karşılık gelen değere gidilir. Örneğin, Python içerisinde tanımlanan bir sözlüğe ülkeler anahtar olarak verilebilir. Anahtarlara karşılık olarak başkentler verilir. Böylelikle, sözlük yapısı yardımıyla bir ülkenin ismi üzerinden başkenti programa döndürülebilir.\n\nBiyolojideki örneklerinden gidecek olursak, bir sözlüğe amino asit isimleri ve kısaltmaları tanımlanabilir. Örneğin;\n\n                AA İsmi(Anahtar)          AA Kısaltması Kısaltması\n                ----------------          ------------------------\n                    Alanine                         Ala\n                    Cysteine                        Cys\n                    Lysine                          Lys\n                    Methionine                      Met",
      "metadata": {}
    },
    {
      "cell_type": "code",
      "source": "amino_asit_sözlüğü = {\"Alanine\": \"Ala\", \"Cysteine\": \"Cys\", \"Lysine\": \"Lys\", \"Methionine\": \"Met\"}\nprint(amino_asit_sözlüğü)",
      "metadata": {
        "trusted": true
      },
      "execution_count": 2,
      "outputs": [
        {
          "name": "stdout",
          "text": "{'Alanine': 'Ala', 'Cysteine': 'Cys', 'Lysine': 'Lys', 'Methionine': 'Met'}\n",
          "output_type": "stream"
        }
      ]
    },
    {
      "cell_type": "code",
      "source": "amino_asit_sözlüğü = {\"Alanine\": \"Ala\", \"Cysteine\": \"Cys\", \"Lysine\": \"Lys\", \"Methionine\": \"Met\"}\nprint(\"Alanine amino asidinin kısaltması:\", amino_asit_sözlüğü[\"Alanine\"])\nprint(\"Methionine amino asidinin kısaltması:\", amino_asit_sözlüğü[\"Methionine\"])",
      "metadata": {
        "trusted": true
      },
      "execution_count": 3,
      "outputs": [
        {
          "name": "stdout",
          "text": "Alanine amino asidinin kısaltması: Ala\nMethionine amino asidinin kısaltması: Met\n",
          "output_type": "stream"
        }
      ]
    },
    {
      "cell_type": "markdown",
      "source": "Sözlüklere yeni değerler eklenebilmektedir. Bunun için sözlük değişken isminin bitişiğine köşeli parantez '[]' açılır. Parantezin içerisine yeni anahtar girilir ve yeni değere eşitlenir. Örneğin: sözlük[\"yeni_anahtar\"] = \"yeni_değer\"",
      "metadata": {}
    },
    {
      "cell_type": "code",
      "source": "amino_asit_sözlüğü = {\"Alanine\": \"Ala\", \"Cysteine\": \"Cys\", \"Lysine\": \"Lys\", \"Methionine\": \"Met\"}\namino_asit_sözlüğü[\"Serine\"] = \"Ser\"\nprint(amino_asit_sözlüğü)\nprint(\"Serine amino asidinin kısaltması:\", amino_asit_sözlüğü[\"Serine\"])",
      "metadata": {
        "trusted": true
      },
      "execution_count": 5,
      "outputs": [
        {
          "name": "stdout",
          "text": "{'Alanine': 'Ala', 'Cysteine': 'Cys', 'Lysine': 'Lys', 'Methionine': 'Met', 'Serine': 'Ser'}\nSerine amino asidinin kısaltması: Ser\n",
          "output_type": "stream"
        }
      ]
    },
    {
      "cell_type": "markdown",
      "source": "Sözlüklerde belirli bir anahtara karşılık gelen değer güncellenebilir. Bunun  için önceki adımda olduğu gibi değişken isminin yanına köşeli parantez açılır ve değeri değiştirilmek istenen anahtar girilerek yeni değere eşitlenir. Örneğin; sözlük[\"bilinen_anahtar\"] = \"yeni_değer\"",
      "metadata": {}
    },
    {
      "cell_type": "code",
      "source": "amino_asit_sözlüğü = {\"Alanine\": \"Ala\", \"Cysteine\": \"Cys\", \"Lysine\": \"Lys\", \"Methionine\": \"Met\"}\namino_asit_sözlüğü[\"Alanine\"] = \"AAA\"\nprint(amino_asit_sözlüğü)\nprint(\"Alanine amino asidinin yeni kısaltması:\", amino_asit_sözlüğü[\"Alanine\"])",
      "metadata": {
        "trusted": true
      },
      "execution_count": 6,
      "outputs": [
        {
          "name": "stdout",
          "text": "{'Alanine': 'AAA', 'Cysteine': 'Cys', 'Lysine': 'Lys', 'Methionine': 'Met'}\nAlanine amino asidinin yeni kısaltması: AAA\n",
          "output_type": "stream"
        }
      ]
    },
    {
      "cell_type": "markdown",
      "source": "Sözlüklerden istenilen değerler çıkartılabilir. Bunun için 'del' fonksiyonu kullanılmaktadır. Değişken isminin yanına köşeli parantez açılarak, silinmesi istenen değerin anahtarı girilir ve del fonksiyonuna parametre olarak verilir. Sonuç olarak del fonksiyonu anahtarı ile birlikte değeri de siler. Örneğin; del(sözlük[\"değeri_silinmesi_istenen_anahtar\"]) ",
      "metadata": {}
    },
    {
      "cell_type": "code",
      "source": "amino_asit_sözlüğü = {\"Alanine\": \"Ala\", \"Cysteine\": \"Cys\", \"Lysine\": \"Lys\", \"Methionine\": \"Met\"}\ndel(amino_asit_sözlüğü[\"Methionine\"])\nprint(amino_asit_sözlüğü)",
      "metadata": {
        "trusted": true
      },
      "execution_count": 7,
      "outputs": [
        {
          "name": "stdout",
          "text": "{'Alanine': 'Ala', 'Cysteine': 'Cys', 'Lysine': 'Lys'}\n",
          "output_type": "stream"
        }
      ]
    },
    {
      "cell_type": "markdown",
      "source": "Sözlüklerde bir anahtara karşılık gelen tek bir değer olmak zorunda değildir. Birden fazla değer liste içerisinde tutularak verilebilir. Örneğin; Alanine anahtarına, hem normal kısaltması hem de tek harf kısaltması değer olarak verilmek istensin. Bunun gösterimi şu şekilde olacaktır -----> {\"Alanine\": [\"Ala\", \"A\"]}",
      "metadata": {}
    },
    {
      "cell_type": "code",
      "source": "amino_asit_sözlüğü = {\"Alanine\": [\"Ala\", \"GCC\"], \"Cysteine\": [\"Cys\", \"UGC\"], \"Lysine\": [\"Lys\", \"AAA\"], \"Methionine\": [\"Met\", \"AUG\"]}\n\nalanine_kısaltma = amino_asit_sözlüğü[\"Alanine\"][0]\ncysteine_kodon = amino_asit_sözlüğü[\"Cysteine\"][1]\nlysine_kısaltma = amino_asit_sözlüğü[\"Lysine\"][0]\nmethionine_kodon = amino_asit_sözlüğü[\"Methionine\"][1]\n\nprint(\"Alanine kısaltması:\", alanine_kısaltma)\nprint(\"Cysteine kodonu:\", cysteine_kodon)\nprint(\"Lysine kısaltması:\", lysine_kısaltma)\nprint(\"Methionine kodonu:\", methionine_kodon)",
      "metadata": {
        "trusted": true
      },
      "execution_count": 10,
      "outputs": [
        {
          "name": "stdout",
          "text": "Alanine kısaltması: Ala\nCysteine kodonu: UGC\nLysine kısaltması: Lys\nMethionine kodonu: AUG\n",
          "output_type": "stream"
        }
      ]
    },
    {
      "cell_type": "markdown",
      "source": "Tıpkı listelerde olduğu gibi, sözlükleri de iç içe kodlayabiliriz. Yani bir sözlüğün içerisinde başka sözlükler ve anahtar kelimeler yaratabiliriz. Örneğin; Amino asit isimlerinin anahtar olduğu ana sözlüğün içine kısaltmaların da ayrı ayrı anahtarlar olduğu ve bunun üzerinden kodon değerlerine ulaşan bir iç içe sözlük tanımlanması istensin. Bunun gösterimi şu şekilde olacaktır -------> {\"Alanine\": {\"Ala\": \"GCC\"}} ",
      "metadata": {}
    },
    {
      "cell_type": "code",
      "source": "amino_asit_sözlüğü = {\"Alanine\": {\"Ala\": \"GCC\"}, \"Cysteine\": {\"Cys\": \"UGC\"}, \"Lysine\": {\"Lys\": \"AAA\"}, \"Methionine\": {\"Met\": \"AUG\"}}\n\nalanine_kodonu = amino_asit_sözlüğü[\"Alanine\"][\"Ala\"]\nmethionine_kodonu = amino_asit_sözlüğü[\"Methionine\"][\"Met\"]\n\nprint(\"Alanine kodonu:\", alanine_kodonu)\nprint(\"Methionine kodonu:\", methionine_kodonu)",
      "metadata": {
        "trusted": true
      },
      "execution_count": 11,
      "outputs": [
        {
          "name": "stdout",
          "text": "Alanine kodonu: GCC\nMethionine kodonu: AUG\n",
          "output_type": "stream"
        }
      ]
    },
    {
      "cell_type": "markdown",
      "source": "Tanımlanmış bir sözlükteki tüm anahtarların, bir liste halindeki gösterimi 'keys()' metodu ile sağlanabilir. Bu metot sayesinde çok büyük bir listedeki anahtarların incelenmesi kolaylaştırılabilir.",
      "metadata": {}
    },
    {
      "cell_type": "code",
      "source": "amino_asit_sözlüğü = {\"Alanine\": {\"Ala\": \"GCC\"}, \"Cysteine\": {\"Cys\": \"UGC\"}, \"Lysine\": {\"Lys\": \"AAA\"}, \"Methionine\": {\"Met\": \"AUG\"}}\n\nprint(amino_asit_sözlüğü.keys())",
      "metadata": {
        "trusted": true
      },
      "execution_count": 12,
      "outputs": [
        {
          "name": "stdout",
          "text": "dict_keys(['Alanine', 'Cysteine', 'Lysine', 'Methionine'])\n",
          "output_type": "stream"
        }
      ]
    },
    {
      "cell_type": "markdown",
      "source": "Tıpkı bir önceki metotta olduğu gibi değerlerin de gösterimi sağlanabilir. Bunun için 'values()' metodu kullanılmaktadır.",
      "metadata": {}
    },
    {
      "cell_type": "code",
      "source": "amino_asit_sözlüğü = {\"Alanine\": {\"Ala\": \"GCC\"}, \"Cysteine\": {\"Cys\": \"UGC\"}, \"Lysine\": {\"Lys\": \"AAA\"}, \"Methionine\": {\"Met\": \"AUG\"}}\n\nprint(amino_asit_sözlüğü.values())",
      "metadata": {
        "trusted": true
      },
      "execution_count": 13,
      "outputs": [
        {
          "name": "stdout",
          "text": "dict_values([{'Ala': 'GCC'}, {'Cys': 'UGC'}, {'Lys': 'AAA'}, {'Met': 'AUG'}])\n",
          "output_type": "stream"
        }
      ]
    },
    {
      "cell_type": "code",
      "source": "",
      "metadata": {},
      "execution_count": null,
      "outputs": []
    }
  ]
}