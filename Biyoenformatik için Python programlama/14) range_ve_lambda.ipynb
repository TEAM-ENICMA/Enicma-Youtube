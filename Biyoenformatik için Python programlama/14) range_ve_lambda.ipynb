{
  "metadata": {
    "language_info": {
      "codemirror_mode": {
        "name": "python",
        "version": 3
      },
      "file_extension": ".py",
      "mimetype": "text/x-python",
      "name": "python",
      "nbconvert_exporter": "python",
      "pygments_lexer": "ipython3",
      "version": "3.8"
    },
    "kernelspec": {
      "name": "python",
      "display_name": "Python (Pyodide)",
      "language": "python"
    }
  },
  "nbformat_minor": 4,
  "nbformat": 4,
  "cells": [
    {
      "cell_type": "markdown",
      "source": "### 8) Range ve Lambda Fonksiyonları\n     8.1) Range Fonksiyonu\n     \n\"Range\" kelimesinin Türkçe karşılığı \"aralık\" anlamına gelmektedir. Range fonksiyonu genellikle for döngüsü ve listeler ile birlikte kullanılır. Range fonksiyonu verilen aralıkta bir sayı dizisi oluşturmak için kullanılır. Fonksiyon içine en fazla üç parametre alabilmektedir ve en az bir parametre girilmesi zorunludur;\n\n- Eğer bir parametre girlirse, 0'dan girilen değere kadar sayı üretir (0'dan y'ye kadar).\n- Eğer iki parametre girilirse, soldaki başlangıç ve sağdaki bitiş değeri olur ve bu aralıkta sayı üretir (x'ten y'ye kadar).\n- Eğer üç parametre girilirse, soldaki başlangıç, ortadaki bitiş ve sağdaki adım değeri olur ve başlangıçtan bitişe kadarki aralıkta adım değeri kadar atlaya atlaya sayı üretir (x'ten y'ye kadar, n'er adım atlayarak).\n\nRange fonksiyonunun Python gösterimi şu şekildedir;\n\nrange(başlangıç_değeri, bitiş_değeri, adım_değeri)\n\n*başlangıç_değeri: opsiyonel, bitiş_değeri: zorunlu, adım_değeri: opsiyonel",
      "metadata": {}
    },
    {
      "cell_type": "code",
      "source": "# range fonksiyonu tek başına hiçbir anlam ifade etmez.\n\na = range(3)\nprint(a)",
      "metadata": {
        "trusted": true
      },
      "execution_count": 4,
      "outputs": [
        {
          "name": "stdout",
          "text": "range(0, 3)\n",
          "output_type": "stream"
        }
      ]
    },
    {
      "cell_type": "code",
      "source": "for yineleme in range(3):\n    print(yineleme)",
      "metadata": {
        "trusted": true
      },
      "execution_count": 5,
      "outputs": [
        {
          "name": "stdout",
          "text": "0\n1\n2\n",
          "output_type": "stream"
        }
      ]
    },
    {
      "cell_type": "code",
      "source": "for yineleme in range(3, 5):\n    print(yineleme)",
      "metadata": {
        "trusted": true
      },
      "execution_count": 6,
      "outputs": [
        {
          "name": "stdout",
          "text": "3\n4\n",
          "output_type": "stream"
        }
      ]
    },
    {
      "cell_type": "code",
      "source": "for yineleme in range(0, 10, 2):\n    print(yineleme)",
      "metadata": {
        "trusted": true
      },
      "execution_count": 7,
      "outputs": [
        {
          "name": "stdout",
          "text": "0\n2\n4\n6\n8\n",
          "output_type": "stream"
        }
      ]
    },
    {
      "cell_type": "markdown",
      "source": "Range fonksiyonunun en yaygın kullanımı, karakter dizisi barındıran listelerin for döngüsünde yinelenmesinin sağlanmasıdır. Karakter dizileri tamsayı değerlerine sahip olmadığından range fonksiyonu, ihtiyaç olması durumundaki tamsayı değerlerini karşılar. Bunun için \"range\" ve listeler konusundaki \"len\" fonksiyonları birleştirilir. ",
      "metadata": {}
    },
    {
      "cell_type": "code",
      "source": "nükleotit_dizileri = [\"ATGC\", \"TGCA\", \"GCAT\", \"CAGT\"]\n\nfor endeks in range(len(nükleotit_dizileri)):\n    eleman = nükleotit_dizileri[endeks]\n    print(eleman + \" dizisi listenin \" + str(endeks) + \" endeks numaralı elemanıdır.\")",
      "metadata": {
        "trusted": true
      },
      "execution_count": 8,
      "outputs": [
        {
          "name": "stdout",
          "text": "ATGC dizisi listenin 0 endeks numaralı elemanıdır.\nTGCA dizisi listenin 1 endeks numaralı elemanıdır.\nGCAT dizisi listenin 2 endeks numaralı elemanıdır.\nCAGT dizisi listenin 3 endeks numaralı elemanıdır.\n",
          "output_type": "stream"
        }
      ]
    },
    {
      "cell_type": "markdown",
      "source": "#### 8.2) Lambda Fonksiyonu\n\nLambda fonksiyonu, tıpkı \"def\" ifadesi gibi fonksiyon oluşturmak için kullanılır. Burada lambda iki yönüyle farklılık gösterir;\n\n- Lambda fonksiyonu anonim, yani isimsizdir. Bunun yerine lambda genellikle bir değişkenin içerisine atanarak isimlendirilir.\n- Lambda fonksiyonu, \"def\" ifadesinin yapabildiği kadar karmaşık fonksiyonlar oluşturamaz. Daha basit ve küçük fonksiyonlar oluşturmak için kullanılır.\n\nLambda fonksiyonunun Python gösterimi şu şekildedir;\n\nfonksiyon = lambda parametre(ler) : işlem(ler)",
      "metadata": {}
    },
    {
      "cell_type": "code",
      "source": "# def ile oluşturulan karakter_dizisi_bas() fonksiyonunun lambda versiyonu\n\nkarakter_dizisi_bas = lambda :  print(\"Merhaba Dünya\")\n\nkarakter_dizisi_bas()",
      "metadata": {
        "trusted": true
      },
      "execution_count": 10,
      "outputs": [
        {
          "name": "stdout",
          "text": "Merhaba Dünya\n",
          "output_type": "stream"
        }
      ]
    },
    {
      "cell_type": "code",
      "source": "# def ile oluşturulan giris_mesajı() fonksiyonunun lambda versiyonu\n\ngiris_mesajı = lambda kullanıcı_adı : print(\"Merhaba\", kullanıcı_adı)\n\nkullanıcı_adı =  \"Ahmet\"\ngiris_mesajı(kullanıcı_adı)",
      "metadata": {
        "trusted": true
      },
      "execution_count": 11,
      "outputs": [
        {
          "name": "stdout",
          "text": "Merhaba Ahmet\n",
          "output_type": "stream"
        }
      ]
    },
    {
      "cell_type": "code",
      "source": "# girilen bir sayının karesini alan lambda fonksiyonu\n\nkare_alma = lambda x : x ** 2\n\nx = 5\nprint(kare_alma(x))",
      "metadata": {
        "trusted": true
      },
      "execution_count": 13,
      "outputs": [
        {
          "name": "stdout",
          "text": "25\n",
          "output_type": "stream"
        }
      ]
    },
    {
      "cell_type": "code",
      "source": "# girilen iki sayıyı toplayan lambda fonksiyonu\n\ntoplama = lambda x, y : x + y\n\nx = 3\ny = 5\n\nprint(toplama(x, y))",
      "metadata": {
        "trusted": true
      },
      "execution_count": 14,
      "outputs": [
        {
          "name": "stdout",
          "text": "8\n",
          "output_type": "stream"
        }
      ]
    }
  ]
}