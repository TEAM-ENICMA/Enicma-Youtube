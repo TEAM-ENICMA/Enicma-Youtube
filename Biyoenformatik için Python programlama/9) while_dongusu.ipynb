{
  "metadata": {
    "language_info": {
      "codemirror_mode": {
        "name": "python",
        "version": 3
      },
      "file_extension": ".py",
      "mimetype": "text/x-python",
      "name": "python",
      "nbconvert_exporter": "python",
      "pygments_lexer": "ipython3",
      "version": "3.8"
    },
    "kernelspec": {
      "name": "python",
      "display_name": "Python (Pyodide)",
      "language": "python"
    }
  },
  "nbformat_minor": 4,
  "nbformat": 4,
  "cells": [
    {
      "cell_type": "markdown",
      "source": "### 5) Döngüler (while, for)\n     5.1) \"while\" döngüsü\n     \nPython'da döngüler, belirli bir kod bloğunun, programı yeniden başlatmadan tekrar çalıştırılabilmesi amacıyla kullanılmaktadır. İlgili kod bloğunun kaç kez çalışacağı, döngüye tanımlanan koşul ile belirlenmektedir. Tıpkı \"if\" durumunda olduğu gibi, koşul sağlandığı, yani koşulun Boolean değeri True olduğu sürece kod bloğu tekrar çalışır.\n\n\"while\" kelimesinin Türkçe karşılığını \"sürece\" veya \"-iken\" eki olarak tanımlayabiliriz. Böylece \"while\" ifadesinin arkasına bir koşul eklendiği zaman, bunun cümle karşılığı \"koşul sağlandığı sürece\" veya \"koşul sağlanıyorken\" olur. \"while\" döngüsünün Python'daki karşılığı aşağıdaki gibidir.\n\nwhile koşul == True:\n    \n    birinci kod\n\n    ikinci kod\n\n    üçüncü kod",
      "metadata": {}
    },
    {
      "cell_type": "code",
      "source": "x = 0\nwhile x < 5:\n    print(\"x'in değeri:\", x)\n    x = x + 1",
      "metadata": {
        "trusted": true
      },
      "execution_count": 3,
      "outputs": [
        {
          "name": "stdout",
          "text": "x'in değeri: 0\nx'in değeri: 1\nx'in değeri: 2\nx'in değeri: 3\nx'in değeri: 4\n",
          "output_type": "stream"
        }
      ]
    },
    {
      "cell_type": "markdown",
      "source": "Bu noktada \"while\" döngüsü özelinde dikkat edilmesi durum şudur; döngünün kod bloğunun içerisine koşulu değiştirecek ve istenilen bir noktada koşulu sağlamayacak bir kod satırı girilmelidir.\n\nAksi durumda \"while\" döngüsü sonsuz döngüye (infinite loop) girer. Yani döngü (hipotetik olarak) sonsuza kadar (pratikte bilgisayarın gücü yettiğince) kod bloğunu tekrar çalıştırır.",
      "metadata": {}
    },
    {
      "cell_type": "code",
      "source": "#!!!! Bu bloğun el ile durdurulması gerekli\n\"\"\"\nx = 0\nwhile x < 5:\n    print(\"x'in değeri:\", x)\n\"\"\"",
      "metadata": {
        "trusted": true
      },
      "execution_count": null,
      "outputs": []
    },
    {
      "cell_type": "markdown",
      "source": "Kod bloğu içerisinde, değişkenin değerini değiştirmek amacıyla kullanılan yöntemler temel matematik işlemleriyse, bunların yerine kısaltılmış varyasyonları kullanılabilir. Toplama, çıkarma, çarpma ve bölme için kısaltılmış varyasyonlar şu şekildedir:\n\n    Toplama: x = x + 1 ----> x += 1\n    Çıkarma: x = x - 1 ----> x -= 1\n    Çarpma:  x = x * 1 ----> x *= 1\n    Bölme:   x = x / 1 ----> x /= 1",
      "metadata": {}
    },
    {
      "cell_type": "code",
      "source": "x = 0\nwhile x < 5:\n    print(\"x'in değeri:\", x)\n    x += 1",
      "metadata": {
        "trusted": true
      },
      "execution_count": 4,
      "outputs": [
        {
          "name": "stdout",
          "text": "x'in değeri: 0\nx'in değeri: 1\nx'in değeri: 2\nx'in değeri: 3\nx'in değeri: 4\n",
          "output_type": "stream"
        }
      ]
    },
    {
      "cell_type": "code",
      "source": "x = 10\nwhile x > 0:\n    print(\"x'in değeri:\", x)\n    x -= 2",
      "metadata": {
        "trusted": true
      },
      "execution_count": 5,
      "outputs": [
        {
          "name": "stdout",
          "text": "x'in değeri: 10\nx'in değeri: 8\nx'in değeri: 6\nx'in değeri: 4\nx'in değeri: 2\n",
          "output_type": "stream"
        }
      ]
    },
    {
      "cell_type": "markdown",
      "source": "Daha önce koşul durumlarında bahsedilen pass ifadesi döngüler için de geçerlidir. Eğer bir döngünün kod bloğu daha sonra belirlenecekse, geçici olarak pass ifadesi yerleştirilebilir.\n\nBuna ek olarak, döngülerde break ifadesi bulunmaktadır. Türkçe'de break kelimesinin anlamı \"ara vermek\" veya \"kırmak\"tır. Bu ifade, kelimenin tam anlamıyla döngüleri kırmak için kullanılır. Eğer döngünün koşulu hiçbir şekilde yanlışlanmıyor yani False dönmüyorsa, break ifadesi döngünün dışına çıkmak için kullanılabilir.\n\nBu noktada dikkat edilmesi gereken şey şudur; eğer döngülerde pass kullanılacaksa arkasına mutlaka break eklenmelidir. Aksi durumda sonsuz döngüye girecektir.\n\n!Not: Döngüler için pass kullanımı zorunlu değildir. Yalnızca break ifadesiyle de pass ifadesinin amacına uygun kullanım sağlanabilir.",
      "metadata": {}
    },
    {
      "cell_type": "code",
      "source": "while True:\n    pass\n    break",
      "metadata": {
        "trusted": true
      },
      "execution_count": 8,
      "outputs": []
    },
    {
      "cell_type": "code",
      "source": "x = 0\nwhile x <= 5:\n    print(\"x'in değeri:\", x)\n    x += 1\n    break",
      "metadata": {
        "trusted": true
      },
      "execution_count": 9,
      "outputs": [
        {
          "name": "stdout",
          "text": "x'in değeri: 0\n",
          "output_type": "stream"
        }
      ]
    },
    {
      "cell_type": "markdown",
      "source": "Döngüyü hemen kırmamak için break ifadesi, koşul durumlar (if - elif - else) ile birleştirilebilir.",
      "metadata": {}
    },
    {
      "cell_type": "code",
      "source": "x = 0\nwhile True:\n    if x < 3:\n        print(\"x'in değeri:\", x)\n        x += 1\n    else:\n        break",
      "metadata": {
        "trusted": true
      },
      "execution_count": 10,
      "outputs": [
        {
          "name": "stdout",
          "text": "x'in değeri: 0\nx'in değeri: 1\nx'in değeri: 2\n",
          "output_type": "stream"
        }
      ]
    },
    {
      "cell_type": "markdown",
      "source": "Tıpkı \"if - else\" durumunda olduğu gibi, \"while\" döngüsü için de koşulu sağlamayan duruma işlem yaptırabilmek adına \"else\" eklenebilmektedir. Burada dikkat edilmesi gereken nokta şudur; else içerisindeki kod bloğuna girebilmek için döngü koşulları tamamlanmalıdır. Yani, döngü içerisine bir break ifadesi eklenirse, program else içerisindeki kod bloğuna girmeyecektir.",
      "metadata": {}
    },
    {
      "cell_type": "code",
      "source": "x = 0\nwhile x < 3:\n    print(\"x'in değeri\", x)\n    x += 1\nelse:\n    print(\"x'in değeri 3'e eşit veya 3'ten büyüktür.\")",
      "metadata": {
        "trusted": true
      },
      "execution_count": 11,
      "outputs": [
        {
          "name": "stdout",
          "text": "x'in değeri 0\nx'in değeri 1\nx'in değeri 2\nx'in değeri 3'e eşit veya 3'ten büyüktür.\n",
          "output_type": "stream"
        }
      ]
    }
  ]
}