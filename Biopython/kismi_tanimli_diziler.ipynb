{
  "metadata": {
    "kernelspec": {
      "name": "python",
      "display_name": "Python (Pyodide)",
      "language": "python"
    },
    "language_info": {
      "codemirror_mode": {
        "name": "python",
        "version": 3
      },
      "file_extension": ".py",
      "mimetype": "text/x-python",
      "name": "python",
      "nbconvert_exporter": "python",
      "pygments_lexer": "ipython3",
      "version": "3.8"
    }
  },
  "nbformat_minor": 5,
  "nbformat": 4,
  "cells": [
    {
      "id": "095aaa22-746c-418e-bf60-4da98193a3c7",
      "cell_type": "code",
      "source": "from Bio.Seq import Seq",
      "metadata": {
        "trusted": true
      },
      "outputs": [],
      "execution_count": 3
    },
    {
      "id": "465f88df-fbb7-4095-b823-08c3bffa2229",
      "cell_type": "code",
      "source": "dizi = Seq({117512683: \"TTGAAAACCTGAATGTGAGAGTCAGTCAAGGATAGT\"}, length = 159345973)\ndizi",
      "metadata": {
        "trusted": true
      },
      "outputs": [
        {
          "execution_count": 5,
          "output_type": "execute_result",
          "data": {
            "text/plain": "Seq({117512683: 'TTGAAAACCTGAATGTGAGAGTCAGTCAAGGATAGT'}, length=159345973)"
          },
          "metadata": {}
        }
      ],
      "execution_count": 5
    },
    {
      "id": "13112d3b-1699-4c0f-8000-a777314273dd",
      "cell_type": "code",
      "source": "dizi[1000:1020]",
      "metadata": {
        "trusted": true
      },
      "outputs": [
        {
          "execution_count": 6,
          "output_type": "execute_result",
          "data": {
            "text/plain": "Seq(None, length=20)"
          },
          "metadata": {}
        }
      ],
      "execution_count": 6
    },
    {
      "id": "ef36b2fc-13a9-4bfc-9081-7ebd65894fb1",
      "cell_type": "code",
      "source": "dizi[117512690:117512700]",
      "metadata": {
        "trusted": true
      },
      "outputs": [
        {
          "execution_count": 7,
          "output_type": "execute_result",
          "data": {
            "text/plain": "Seq('CCTGAATGTG')"
          },
          "metadata": {}
        }
      ],
      "execution_count": 7
    },
    {
      "id": "8297cd8a-8818-4174-ae0d-35545ea9d35f",
      "cell_type": "code",
      "source": "dizi[117512670:117512690]",
      "metadata": {
        "trusted": true
      },
      "outputs": [
        {
          "execution_count": 8,
          "output_type": "execute_result",
          "data": {
            "text/plain": "Seq({13: 'TTGAAAA'}, length=20)"
          },
          "metadata": {}
        }
      ],
      "execution_count": 8
    },
    {
      "id": "5859d868-81c8-4185-8447-8315fa2619c1",
      "cell_type": "code",
      "source": "dizi[117512700:]",
      "metadata": {
        "trusted": true
      },
      "outputs": [
        {
          "execution_count": 9,
          "output_type": "execute_result",
          "data": {
            "text/plain": "Seq({0: 'AGAGTCAGTCAAGGATAGT'}, length=41833273)"
          },
          "metadata": {}
        }
      ],
      "execution_count": 9
    },
    {
      "id": "a22996a6-b8ad-46b9-9ec2-6e62e2fa173e",
      "cell_type": "code",
      "source": "dizi = Seq(\"ACGT\")",
      "metadata": {
        "trusted": true
      },
      "outputs": [],
      "execution_count": 10
    },
    {
      "id": "45a5bb5a-77d5-400b-a91b-bfeb2c0b625c",
      "cell_type": "code",
      "source": "tanimlanmamis_dizi = Seq(None, length = 10)",
      "metadata": {
        "trusted": true
      },
      "outputs": [],
      "execution_count": 11
    },
    {
      "id": "73a2696f-e796-47ef-a759-043e2fa37de3",
      "cell_type": "code",
      "source": "dizi + tanimlanmamis_dizi + dizi",
      "metadata": {
        "trusted": true
      },
      "outputs": [
        {
          "execution_count": 12,
          "output_type": "execute_result",
          "data": {
            "text/plain": "Seq({0: 'ACGT', 14: 'ACGT'}, length=18)"
          },
          "metadata": {}
        }
      ],
      "execution_count": 12
    },
    {
      "id": "f6229975-2a31-4eae-9c50-735445223616",
      "cell_type": "code",
      "source": "",
      "metadata": {
        "trusted": true
      },
      "outputs": [],
      "execution_count": null
    },
    {
      "id": "f5def65e-7c54-486b-b96a-86ec666ab333",
      "cell_type": "code",
      "source": "",
      "metadata": {
        "trusted": true
      },
      "outputs": [],
      "execution_count": null
    }
  ]
}